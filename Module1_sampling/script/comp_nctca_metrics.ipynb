{
 "cells": [
  {
   "cell_type": "code",
   "execution_count": 1,
   "metadata": {},
   "outputs": [],
   "source": [
    "import pandas as pd\n",
    "import numpy as np\n",
    "import scanpy as sc\n",
    "import matplotlib.pyplot as plt\n",
    "import seaborn as sns\n",
    "import pickle\n",
    "import os\n",
    "import shutil\n",
    "import cobra as cb\n",
    "from joblib import Parallel, delayed\n",
    "from tqdm import tqdm\n",
    "import logging\n",
    "import glob"
   ]
  },
  {
   "cell_type": "markdown",
   "metadata": {},
   "source": [
    "#### processsamento dei dati"
   ]
  },
  {
   "cell_type": "markdown",
   "metadata": {},
   "source": [
    "Convertire adata  di flussi in csv"
   ]
  },
  {
   "cell_type": "code",
   "execution_count": 2,
   "metadata": {},
   "outputs": [],
   "source": [
    "adata = sc.read_h5ad(\"../dati_sampling/dati/sampling/CBS/mean\")\n",
    "cbs_df = pd.DataFrame(data=adata.X, index=adata.obs_names, columns=adata.var_names)"
   ]
  },
  {
   "cell_type": "code",
   "execution_count": 4,
   "metadata": {},
   "outputs": [],
   "source": [
    "cbs_df.to_csv(\"cbs_mean.csv\")"
   ]
  },
  {
   "cell_type": "markdown",
   "metadata": {},
   "source": [
    "Spostare il file di sampling totale in un'unica cartella"
   ]
  },
  {
   "cell_type": "code",
   "execution_count": 4,
   "metadata": {},
   "outputs": [
    {
     "name": "stderr",
     "output_type": "stream",
     "text": [
      "Spostamento file: 0it [00:00, ?it/s]\n"
     ]
    }
   ],
   "source": [
    "main_folder = '../dati_sampling/dati/sampling/CBS/'\n",
    "\n",
    "destination_folder = '../dati_sampling/dati/sampling/CBS_total/'\n",
    "os.makedirs(destination_folder, exist_ok=True)\n",
    "\n",
    "# Ottieni l'elenco delle sottocartelle\n",
    "subfolders = [subfolder for subfolder in os.listdir(main_folder) if os.path.isdir(os.path.join(main_folder, subfolder))]\n",
    "\n",
    "for subfolder in tqdm(subfolders, desc=\"Spostamento file\"):\n",
    "    subfolder_path = os.path.join(main_folder, subfolder)\n",
    "\n",
    "    # Crea il percorso del file .pkl nella sottocartella\n",
    "    file_path = os.path.join(subfolder_path, f'{subfolder}.pkl')\n",
    "\n",
    "    # Verifica se il file .pkl esiste\n",
    "    if os.path.isfile(file_path):\n",
    "        # Sposta il file nella cartella di destinazione\n",
    "        shutil.move(file_path, destination_folder)\n",
    "    else:\n",
    "        tqdm.write(f'File non trovato: {file_path}')"
   ]
  },
  {
   "cell_type": "markdown",
   "metadata": {},
   "source": [
    "#### Iterazione per determinare lo stato di TCA"
   ]
  },
  {
   "cell_type": "code",
   "execution_count": null,
   "metadata": {},
   "outputs": [],
   "source": [
    "def count_tca_states(df):\n",
    "    \"\"\"\n",
    "    Analizza le righe di un DataFrame per determinare lo stato di attivazione del ciclo TCA\n",
    "    canonico e non canonico, basato su criteri specificati. Restituisce i conteggi dei campionamenti\n",
    "    per biomassa, TCA canonico, TCA non canonico e entrambi attivi, insieme alle medie di biomassa\n",
    "    e misure di attività basate sui valori assoluti minimi per ciascun stato.\n",
    "\n",
    "    :param df: DataFrame con i dati\n",
    "    :return: Un dizionario con i conteggi, medie di biomassa e misure di attività dei campionamenti\n",
    "    \"\"\"\n",
    "\n",
    "    # Criteri per determinare lo stato di attivazione di TCA canonico\n",
    "    def is_tca_canonico(row):\n",
    "        return (row['ACONTm'] > 1e-6) and \\\n",
    "               (row['ICDHym'] > 1e-6 or row['ICDHxm'] > 1e-6) and \\\n",
    "               (row['AKGDm'] > 1e-6) and \\\n",
    "               (row['SUCOAS1m'] > 1e-6) and \\\n",
    "               (row['SUCD1m'] > 1e-6) and \\\n",
    "               (row['FUMm'] > 1e-6) and \\\n",
    "               (row['MDHm'] > 1e-6) and \\\n",
    "               (row['CSm'] > 1e-6)\n",
    "\n",
    "    # Criteri per determinare lo stato di attivazione di TCA non canonico\n",
    "    def is_tca_non_canonico(row):\n",
    "        return (row['HMR_4964'] > 1e-6) and \\\n",
    "               (row['ACITL'] > 1e-6) and \\\n",
    "               (row['MDH'] < -1e-6)\n",
    "\n",
    "    # Applica i criteri per determinare lo stato di attivazione\n",
    "    is_canonico = df.apply(is_tca_canonico, axis=1)\n",
    "    is_non_canonico = df.apply(is_tca_non_canonico, axis=1)\n",
    "\n",
    "    # Calcolare il numero di campionamenti per ciascuno stato\n",
    "    num_tca_canonico = is_canonico.sum()\n",
    "    num_tca_non_canonico = is_non_canonico.sum()\n",
    "    num_both_active = (is_canonico & is_non_canonico).sum()\n",
    "\n",
    "    # Medie di biomassa per ciascuno stato\n",
    "    mean_biomass_tca_canonico = df[is_canonico]['Biomass'].mean() if num_tca_canonico > 0 else None\n",
    "    mean_biomass_tca_non_canonico = df[is_non_canonico]['Biomass'].mean() if num_tca_non_canonico > 0 else None\n",
    "    mean_biomass_both_active = df[is_canonico & is_non_canonico]['Biomass'].mean() if num_both_active > 0 else None\n",
    "\n",
    "    # Valore assoluto minimo per ciascun stato\n",
    "    def calculate_min_abs_activity(df, criteria, columns):\n",
    "        return df[criteria].apply(lambda row: row[columns].abs().min(), axis=1)\n",
    "\n",
    "    tca_canonico_columns = ['ACONTm', 'ICDHym', 'ICDHxm', 'AKGDm', 'SUCOAS1m', 'SUCD1m', 'FUMm', 'MDHm', 'CSm']\n",
    "    tca_non_canonico_columns = ['HMR_4964', 'ACITL', 'MDH']\n",
    "\n",
    "    min_abs_activity_tca_canonico = calculate_min_abs_activity(df, is_canonico, tca_canonico_columns)\n",
    "    min_abs_activity_tca_non_canonico = calculate_min_abs_activity(df, is_non_canonico, tca_non_canonico_columns)\n",
    "\n",
    "    mean_min_abs_activity_tca_canonico = min_abs_activity_tca_canonico.mean() if num_tca_canonico > 0 else None\n",
    "    mean_min_abs_activity_tca_non_canonico = min_abs_activity_tca_non_canonico.mean() if num_tca_non_canonico > 0 else None\n",
    "\n",
    "    # Restituisce i risultati\n",
    "    return {\n",
    "        'TCA canonical': num_tca_canonico,\n",
    "        'TCA non canonical': num_tca_non_canonico, # <----- cycle propensity\n",
    "        'both active': num_both_active,\n",
    "        'biomass mean canonical': mean_biomass_tca_canonico,\n",
    "        'biomass mean non canonical': mean_biomass_tca_non_canonico,\n",
    "        'biomass mean both active': mean_biomass_both_active,\n",
    "        'activity mean TCA canonical': mean_min_abs_activity_tca_canonico,\n",
    "        'activity mean TCA non canonical': mean_min_abs_activity_tca_non_canonico # <----- cycle flux intensity\n",
    "    }\n"
   ]
  },
  {
   "cell_type": "code",
   "execution_count": 3,
   "metadata": {},
   "outputs": [
    {
     "name": "stderr",
     "output_type": "stream",
     "text": [
      "  0%|          | 0/513 [00:00<?, ?it/s]"
     ]
    },
    {
     "name": "stderr",
     "output_type": "stream",
     "text": [
      "100%|██████████| 513/513 [11:12<00:00,  1.31s/it]\n"
     ]
    }
   ],
   "source": [
    "# determinare lo stato di attivazione del ciclo TCA canonico e non canonico per ciascun cellula\n",
    "logging.basicConfig(level=logging.INFO, format='%(asctime)s - %(levelname)s - %(message)s')\n",
    "\n",
    "def process_file(file_path):\n",
    "    try:\n",
    "        df = pd.read_pickle(file_path)\n",
    "        results = count_tca_states(df)\n",
    "        file_name_ex = os.path.basename(file_path)\n",
    "        file_name, _ = os.path.splitext(file_name_ex)\n",
    "        results['Cell_lines'] = file_name\n",
    "        \n",
    "        logging.info(f'Processed {file_name}')\n",
    "        return results\n",
    "    except Exception as e:\n",
    "        logging.error(f'Error processing {file_path}: {e}')\n",
    "        return None\n",
    "\n",
    "file_paths = glob.glob('../dati_sampling/dati/sampling/CBS_total/*.pkl')\n",
    "\n",
    "# Parallelizzazione del processo di analisi\n",
    "results_list = Parallel(n_jobs=-1)(delayed(process_file)(file_path) for file_path in tqdm(file_paths))\n",
    "\n",
    "# Filtra i risultati None\n",
    "results_list = [result for result in results_list if result is not None]\n",
    "\n",
    "tca_count_df = pd.DataFrame(results_list)"
   ]
  },
  {
   "cell_type": "code",
   "execution_count": 4,
   "metadata": {},
   "outputs": [
    {
     "data": {
      "application/vnd.microsoft.datawrangler.viewer.v0+json": {
       "columns": [
        {
         "name": "index",
         "rawType": "object",
         "type": "string"
        },
        {
         "name": "TCA canonical",
         "rawType": "float64",
         "type": "float"
        },
        {
         "name": "TCA non canonical",
         "rawType": "float64",
         "type": "float"
        },
        {
         "name": "both active",
         "rawType": "int64",
         "type": "integer"
        },
        {
         "name": "biomass mean canonical",
         "rawType": "float64",
         "type": "float"
        },
        {
         "name": "biomass mean non canonical",
         "rawType": "float64",
         "type": "float"
        },
        {
         "name": "biomass mean both active",
         "rawType": "float64",
         "type": "float"
        },
        {
         "name": "activity mean TCA canonical",
         "rawType": "float64",
         "type": "float"
        },
        {
         "name": "activity mean TCA non canonical",
         "rawType": "float64",
         "type": "float"
        },
        {
         "name": "Valid samples",
         "rawType": "float64",
         "type": "float"
        }
       ],
       "ref": "c6a021e2-7e26-437f-9a2d-76b47022f679",
       "rows": [
        [
         "22RV1_PROSTATE",
         "0.1376",
         "0.3547",
         "84",
         "0.04718314175394556",
         "0.07606774945735637",
         "0.04372518422563473",
         "2.4735195564283163",
         "14.794441797783062",
         "0.4923"
        ],
        [
         "2313287_STOMACH",
         "0.1131",
         "0.3046",
         "41",
         "0.05813197099594897",
         "0.0909985275702868",
         "0.09456038847023886",
         "0.9887508948862406",
         "13.072794858340105",
         "0.41769999999999996"
        ],
        [
         "5637_URINARY_TRACT",
         "0.1265",
         "0.5422",
         "285",
         "0.04526285030787311",
         "0.054712289935288067",
         "0.0267306248883615",
         "5.801185938766012",
         "12.87974441075747",
         "0.6687000000000001"
        ],
        [
         "697_HAEMATOPOIETIC_AND_LYMPHOID_TISSUE",
         "0.1531",
         "0.5623",
         "188",
         "0.046094391628378834",
         "0.057048702217650654",
         "0.03377606352294714",
         "3.52925092516857",
         "10.430197968728605",
         "0.7154"
        ],
        [
         "769P_KIDNEY",
         "0.0898",
         "0.4553",
         "218",
         "0.03613622565591443",
         "0.06251156985897988",
         "0.018129392682149865",
         "7.4815716121551326",
         "17.514556186061757",
         "0.5451"
        ]
       ],
       "shape": {
        "columns": 9,
        "rows": 5
       }
      },
      "text/html": [
       "<div>\n",
       "<style scoped>\n",
       "    .dataframe tbody tr th:only-of-type {\n",
       "        vertical-align: middle;\n",
       "    }\n",
       "\n",
       "    .dataframe tbody tr th {\n",
       "        vertical-align: top;\n",
       "    }\n",
       "\n",
       "    .dataframe thead th {\n",
       "        text-align: right;\n",
       "    }\n",
       "</style>\n",
       "<table border=\"1\" class=\"dataframe\">\n",
       "  <thead>\n",
       "    <tr style=\"text-align: right;\">\n",
       "      <th></th>\n",
       "      <th>TCA canonical</th>\n",
       "      <th>TCA non canonical</th>\n",
       "      <th>both active</th>\n",
       "      <th>biomass mean canonical</th>\n",
       "      <th>biomass mean non canonical</th>\n",
       "      <th>biomass mean both active</th>\n",
       "      <th>activity mean TCA canonical</th>\n",
       "      <th>activity mean TCA non canonical</th>\n",
       "      <th>Valid samples</th>\n",
       "    </tr>\n",
       "  </thead>\n",
       "  <tbody>\n",
       "    <tr>\n",
       "      <th>22RV1_PROSTATE</th>\n",
       "      <td>0.1376</td>\n",
       "      <td>0.3547</td>\n",
       "      <td>84</td>\n",
       "      <td>0.047183</td>\n",
       "      <td>0.076068</td>\n",
       "      <td>0.043725</td>\n",
       "      <td>2.473520</td>\n",
       "      <td>14.794442</td>\n",
       "      <td>0.4923</td>\n",
       "    </tr>\n",
       "    <tr>\n",
       "      <th>2313287_STOMACH</th>\n",
       "      <td>0.1131</td>\n",
       "      <td>0.3046</td>\n",
       "      <td>41</td>\n",
       "      <td>0.058132</td>\n",
       "      <td>0.090999</td>\n",
       "      <td>0.094560</td>\n",
       "      <td>0.988751</td>\n",
       "      <td>13.072795</td>\n",
       "      <td>0.4177</td>\n",
       "    </tr>\n",
       "    <tr>\n",
       "      <th>5637_URINARY_TRACT</th>\n",
       "      <td>0.1265</td>\n",
       "      <td>0.5422</td>\n",
       "      <td>285</td>\n",
       "      <td>0.045263</td>\n",
       "      <td>0.054712</td>\n",
       "      <td>0.026731</td>\n",
       "      <td>5.801186</td>\n",
       "      <td>12.879744</td>\n",
       "      <td>0.6687</td>\n",
       "    </tr>\n",
       "    <tr>\n",
       "      <th>697_HAEMATOPOIETIC_AND_LYMPHOID_TISSUE</th>\n",
       "      <td>0.1531</td>\n",
       "      <td>0.5623</td>\n",
       "      <td>188</td>\n",
       "      <td>0.046094</td>\n",
       "      <td>0.057049</td>\n",
       "      <td>0.033776</td>\n",
       "      <td>3.529251</td>\n",
       "      <td>10.430198</td>\n",
       "      <td>0.7154</td>\n",
       "    </tr>\n",
       "    <tr>\n",
       "      <th>769P_KIDNEY</th>\n",
       "      <td>0.0898</td>\n",
       "      <td>0.4553</td>\n",
       "      <td>218</td>\n",
       "      <td>0.036136</td>\n",
       "      <td>0.062512</td>\n",
       "      <td>0.018129</td>\n",
       "      <td>7.481572</td>\n",
       "      <td>17.514556</td>\n",
       "      <td>0.5451</td>\n",
       "    </tr>\n",
       "  </tbody>\n",
       "</table>\n",
       "</div>"
      ],
      "text/plain": [
       "                                        TCA canonical  TCA non canonical  \\\n",
       "22RV1_PROSTATE                                 0.1376             0.3547   \n",
       "2313287_STOMACH                                0.1131             0.3046   \n",
       "5637_URINARY_TRACT                             0.1265             0.5422   \n",
       "697_HAEMATOPOIETIC_AND_LYMPHOID_TISSUE         0.1531             0.5623   \n",
       "769P_KIDNEY                                    0.0898             0.4553   \n",
       "\n",
       "                                        both active  biomass mean canonical  \\\n",
       "22RV1_PROSTATE                                   84                0.047183   \n",
       "2313287_STOMACH                                  41                0.058132   \n",
       "5637_URINARY_TRACT                              285                0.045263   \n",
       "697_HAEMATOPOIETIC_AND_LYMPHOID_TISSUE          188                0.046094   \n",
       "769P_KIDNEY                                     218                0.036136   \n",
       "\n",
       "                                        biomass mean non canonical  \\\n",
       "22RV1_PROSTATE                                            0.076068   \n",
       "2313287_STOMACH                                           0.090999   \n",
       "5637_URINARY_TRACT                                        0.054712   \n",
       "697_HAEMATOPOIETIC_AND_LYMPHOID_TISSUE                    0.057049   \n",
       "769P_KIDNEY                                               0.062512   \n",
       "\n",
       "                                        biomass mean both active  \\\n",
       "22RV1_PROSTATE                                          0.043725   \n",
       "2313287_STOMACH                                         0.094560   \n",
       "5637_URINARY_TRACT                                      0.026731   \n",
       "697_HAEMATOPOIETIC_AND_LYMPHOID_TISSUE                  0.033776   \n",
       "769P_KIDNEY                                             0.018129   \n",
       "\n",
       "                                        activity mean TCA canonical  \\\n",
       "22RV1_PROSTATE                                             2.473520   \n",
       "2313287_STOMACH                                            0.988751   \n",
       "5637_URINARY_TRACT                                         5.801186   \n",
       "697_HAEMATOPOIETIC_AND_LYMPHOID_TISSUE                     3.529251   \n",
       "769P_KIDNEY                                                7.481572   \n",
       "\n",
       "                                        activity mean TCA non canonical  \\\n",
       "22RV1_PROSTATE                                                14.794442   \n",
       "2313287_STOMACH                                               13.072795   \n",
       "5637_URINARY_TRACT                                            12.879744   \n",
       "697_HAEMATOPOIETIC_AND_LYMPHOID_TISSUE                        10.430198   \n",
       "769P_KIDNEY                                                   17.514556   \n",
       "\n",
       "                                        Valid samples  \n",
       "22RV1_PROSTATE                                 0.4923  \n",
       "2313287_STOMACH                                0.4177  \n",
       "5637_URINARY_TRACT                             0.6687  \n",
       "697_HAEMATOPOIETIC_AND_LYMPHOID_TISSUE         0.7154  \n",
       "769P_KIDNEY                                    0.5451  "
      ]
     },
     "execution_count": 4,
     "metadata": {},
     "output_type": "execute_result"
    }
   ],
   "source": [
    "# set index to 'Cell_lines' and remove index name\n",
    "tca_count_df = tca_count_df.set_index('Cell_lines')\n",
    "tca_count_df.index.name = None\n",
    "\n",
    "tca_count_df[\"TCA canonical\"] = tca_count_df[\"TCA canonical\"] / 10000\n",
    "tca_count_df[\"TCA non canonical\"] = tca_count_df[\"TCA non canonical\"] / 10000\n",
    "tca_count_df[\"Valid samples\"] = tca_count_df[\"TCA canonical\"] + tca_count_df[\"TCA non canonical\"]\n",
    "tca_count_df.head()"
   ]
  }
 ],
 "metadata": {
  "kernelspec": {
   "display_name": "data_env",
   "language": "python",
   "name": "python3"
  },
  "language_info": {
   "codemirror_mode": {
    "name": "ipython",
    "version": 3
   },
   "file_extension": ".py",
   "mimetype": "text/x-python",
   "name": "python",
   "nbconvert_exporter": "python",
   "pygments_lexer": "ipython3",
   "version": "3.12.3"
  }
 },
 "nbformat": 4,
 "nbformat_minor": 2
}
