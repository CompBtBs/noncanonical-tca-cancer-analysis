{
 "cells": [
  {
   "cell_type": "code",
   "execution_count": 1,
   "id": "5aabd03b",
   "metadata": {},
   "outputs": [],
   "source": [
    "import pandas as pd\n",
    "import numpy as np\n",
    "import matplotlib.pyplot as plt\n",
    "import seaborn as sns\n",
    "import scanpy as sc\n",
    "from scipy.stats import pearsonr\n",
    "\n",
    "plt.style.use('ggplot')\n"
   ]
  },
  {
   "cell_type": "markdown",
   "id": "274cde90",
   "metadata": {},
   "source": [
    "## Processamento dei dati"
   ]
  },
  {
   "cell_type": "code",
   "execution_count": 2,
   "id": "371f4acd",
   "metadata": {},
   "outputs": [],
   "source": [
    "# Dizionario per convertire i nomi dei geni in ID\n",
    "sens_df = pd.read_csv(\"../date/omics_data/gene_effect/CRISPRGeneEffect_selected.csv\", index_col=0)\n",
    "gene_info = pd.read_csv(\"../date/Info/gene_info.csv\", index_col=0)\n",
    "gene_conv_dict = dict(zip(gene_info['gene_name'], gene_info.index))"
   ]
  },
  {
   "cell_type": "code",
   "execution_count": null,
   "id": "d58034cb",
   "metadata": {},
   "outputs": [],
   "source": [
    "trascriptome = sc.read_h5ad('../date/omics_data/rna_seq_total') # Load the transcriptome data\n",
    "trascriptome_df = pd.DataFrame(trascriptome.X, index=trascriptome.obs.index, columns=trascriptome.var.index)\n",
    "trascriptome_df.head()"
   ]
  },
  {
   "cell_type": "markdown",
   "id": "8564f42d",
   "metadata": {},
   "source": [
    "### Propensity e intensity"
   ]
  },
  {
   "cell_type": "code",
   "execution_count": 6,
   "id": "9e8f68ac",
   "metadata": {},
   "outputs": [
    {
     "data": {
      "text/plain": [
       "Index(['propensity', 'flux intensity', 'Type'], dtype='object')"
      ]
     },
     "execution_count": 6,
     "metadata": {},
     "output_type": "execute_result"
    }
   ],
   "source": [
    "# Load NC TCA status data\n",
    "nc_state = pd.read_csv(\"../date/Info/non_canonical_state.csv\", index_col=0)\n",
    "nc_state.columns "
   ]
  },
  {
   "cell_type": "code",
   "execution_count": 10,
   "id": "c0fe741c",
   "metadata": {},
   "outputs": [],
   "source": [
    "cell_notation = pd.read_csv(\"../date/Info/Cell_lines_annotations.txt\", index_col=0, sep=\"\\t\")\n",
    "cell_notation = cell_notation[[\"Histology\"]]"
   ]
  },
  {
   "cell_type": "code",
   "execution_count": 11,
   "id": "3a04e80d",
   "metadata": {},
   "outputs": [
    {
     "data": {
      "application/vnd.microsoft.datawrangler.viewer.v0+json": {
       "columns": [
        {
         "name": "CCLE_ID",
         "rawType": "object",
         "type": "string"
        },
        {
         "name": "Histology",
         "rawType": "object",
         "type": "unknown"
        }
       ],
       "ref": "3f507d5c-d6a7-48b3-bdcf-9f60bbd53e93",
       "rows": [
        [
         "DMS53_LUNG",
         "carcinoma"
        ],
        [
         "SW1116_LARGE_INTESTINE",
         "carcinoma"
        ],
        [
         "NCIH1694_LUNG",
         "carcinoma"
        ],
        [
         "P3HR1_HAEMATOPOIETIC_AND_LYMPHOID_TISSUE",
         "lymphoid_neoplasm"
        ],
        [
         "HUT78_HAEMATOPOIETIC_AND_LYMPHOID_TISSUE",
         "lymphoid_neoplasm"
        ],
        [
         "UMUC3_URINARY_TRACT",
         "carcinoma"
        ],
        [
         "HOS_BONE",
         "osteosarcoma"
        ],
        [
         "HUNS1_HAEMATOPOIETIC_AND_LYMPHOID_TISSUE",
         "lymphoid_neoplasm"
        ],
        [
         "AML193_HAEMATOPOIETIC_AND_LYMPHOID_TISSUE",
         "haematopoietic_neoplasm"
        ],
        [
         "RVH421_SKIN",
         "malignant_melanoma"
        ],
        [
         "NCIH1184_LUNG",
         "carcinoma"
        ],
        [
         "HCC2157_BREAST",
         "carcinoma"
        ],
        [
         "TC71_BONE",
         "Ewings_sarcoma-peripheral_primitive_neuroectodermal_tumour"
        ],
        [
         "NCIH2227_LUNG",
         "carcinoma"
        ],
        [
         "COLO205_LARGE_INTESTINE",
         "carcinoma"
        ],
        [
         "SNU449_LIVER",
         "carcinoma"
        ],
        [
         "NCIH28_PLEURA",
         "mesothelioma"
        ],
        [
         "OV56_OVARY",
         "carcinoma"
        ],
        [
         "JHOS4_OVARY",
         "carcinoma"
        ],
        [
         "KYSE450_OESOPHAGUS",
         "carcinoma"
        ],
        [
         "RMUGS_OVARY",
         "carcinoma"
        ],
        [
         "KLE_ENDOMETRIUM",
         "carcinoma"
        ],
        [
         "HS895T_FIBROBLAST",
         "malignant_melanoma"
        ],
        [
         "LN229_CENTRAL_NERVOUS_SYSTEM",
         "glioma"
        ],
        [
         "P31FUJ_HAEMATOPOIETIC_AND_LYMPHOID_TISSUE",
         "haematopoietic_neoplasm"
        ],
        [
         "RKN_SOFT_TISSUE",
         "leiomyosarcoma"
        ],
        [
         "PATU8988S_PANCREAS",
         "carcinoma"
        ],
        [
         "NH6_AUTONOMIC_GANGLIA",
         "neuroblastoma"
        ],
        [
         "SF126_CENTRAL_NERVOUS_SYSTEM",
         "glioma"
        ],
        [
         "RERFLCAD2_LUNG",
         "carcinoma"
        ],
        [
         "OUMS23_LARGE_INTESTINE",
         "carcinoma"
        ],
        [
         "SNGM_ENDOMETRIUM",
         "carcinoma"
        ],
        [
         "OUMS27_BONE",
         "chondrosarcoma"
        ],
        [
         "PL45_PANCREAS",
         "carcinoma"
        ],
        [
         "NCIH2347_LUNG",
         "carcinoma"
        ],
        [
         "SW1990_PANCREAS",
         "carcinoma"
        ],
        [
         "HS940T_FIBROBLAST",
         "malignant_melanoma"
        ],
        [
         "HS611T_HAEMATOPOIETIC_AND_LYMPHOID_TISSUE",
         "lymphoid_neoplasm"
        ],
        [
         "TOLEDO_HAEMATOPOIETIC_AND_LYMPHOID_TISSUE",
         "lymphoid_neoplasm"
        ],
        [
         "RERFGC1B_STOMACH",
         "carcinoma"
        ],
        [
         "HT1080_SOFT_TISSUE",
         "fibrosarcoma"
        ],
        [
         "NCIH2087_LUNG",
         "carcinoma"
        ],
        [
         "COV318_OVARY",
         "carcinoma"
        ],
        [
         "NCIH2085_LUNG",
         "carcinoma"
        ],
        [
         "NCIH510_LUNG",
         "carcinoma"
        ],
        [
         "CAKI1_KIDNEY",
         "carcinoma"
        ],
        [
         "NCIH716_LARGE_INTESTINE",
         "carcinoma"
        ],
        [
         "NCIH2066_LUNG",
         "carcinoma"
        ],
        [
         "NCIH1341_LUNG",
         "carcinoma"
        ],
        [
         "NCIH2029_LUNG",
         "carcinoma"
        ]
       ],
       "shape": {
        "columns": 1,
        "rows": 1461
       }
      },
      "text/html": [
       "<div>\n",
       "<style scoped>\n",
       "    .dataframe tbody tr th:only-of-type {\n",
       "        vertical-align: middle;\n",
       "    }\n",
       "\n",
       "    .dataframe tbody tr th {\n",
       "        vertical-align: top;\n",
       "    }\n",
       "\n",
       "    .dataframe thead th {\n",
       "        text-align: right;\n",
       "    }\n",
       "</style>\n",
       "<table border=\"1\" class=\"dataframe\">\n",
       "  <thead>\n",
       "    <tr style=\"text-align: right;\">\n",
       "      <th></th>\n",
       "      <th>Histology</th>\n",
       "    </tr>\n",
       "    <tr>\n",
       "      <th>CCLE_ID</th>\n",
       "      <th></th>\n",
       "    </tr>\n",
       "  </thead>\n",
       "  <tbody>\n",
       "    <tr>\n",
       "      <th>DMS53_LUNG</th>\n",
       "      <td>carcinoma</td>\n",
       "    </tr>\n",
       "    <tr>\n",
       "      <th>SW1116_LARGE_INTESTINE</th>\n",
       "      <td>carcinoma</td>\n",
       "    </tr>\n",
       "    <tr>\n",
       "      <th>NCIH1694_LUNG</th>\n",
       "      <td>carcinoma</td>\n",
       "    </tr>\n",
       "    <tr>\n",
       "      <th>P3HR1_HAEMATOPOIETIC_AND_LYMPHOID_TISSUE</th>\n",
       "      <td>lymphoid_neoplasm</td>\n",
       "    </tr>\n",
       "    <tr>\n",
       "      <th>HUT78_HAEMATOPOIETIC_AND_LYMPHOID_TISSUE</th>\n",
       "      <td>lymphoid_neoplasm</td>\n",
       "    </tr>\n",
       "    <tr>\n",
       "      <th>...</th>\n",
       "      <td>...</td>\n",
       "    </tr>\n",
       "    <tr>\n",
       "      <th>GEO_LARGE_INTESTINE</th>\n",
       "      <td>NaN</td>\n",
       "    </tr>\n",
       "    <tr>\n",
       "      <th>NCIH2330_LUNG</th>\n",
       "      <td>NaN</td>\n",
       "    </tr>\n",
       "    <tr>\n",
       "      <th>LP6_SOFT_TISSUE</th>\n",
       "      <td>NaN</td>\n",
       "    </tr>\n",
       "    <tr>\n",
       "      <th>HS578BST_BREAST</th>\n",
       "      <td>NaN</td>\n",
       "    </tr>\n",
       "    <tr>\n",
       "      <th>LC1SQ_LUNG</th>\n",
       "      <td>NaN</td>\n",
       "    </tr>\n",
       "  </tbody>\n",
       "</table>\n",
       "<p>1461 rows × 1 columns</p>\n",
       "</div>"
      ],
      "text/plain": [
       "                                                  Histology\n",
       "CCLE_ID                                                    \n",
       "DMS53_LUNG                                        carcinoma\n",
       "SW1116_LARGE_INTESTINE                            carcinoma\n",
       "NCIH1694_LUNG                                     carcinoma\n",
       "P3HR1_HAEMATOPOIETIC_AND_LYMPHOID_TISSUE  lymphoid_neoplasm\n",
       "HUT78_HAEMATOPOIETIC_AND_LYMPHOID_TISSUE  lymphoid_neoplasm\n",
       "...                                                     ...\n",
       "GEO_LARGE_INTESTINE                                     NaN\n",
       "NCIH2330_LUNG                                           NaN\n",
       "LP6_SOFT_TISSUE                                         NaN\n",
       "HS578BST_BREAST                                         NaN\n",
       "LC1SQ_LUNG                                              NaN\n",
       "\n",
       "[1461 rows x 1 columns]"
      ]
     },
     "execution_count": 11,
     "metadata": {},
     "output_type": "execute_result"
    }
   ],
   "source": [
    "cell_notation"
   ]
  },
  {
   "cell_type": "code",
   "execution_count": 8,
   "id": "270bc255",
   "metadata": {},
   "outputs": [
    {
     "data": {
      "application/vnd.microsoft.datawrangler.viewer.v0+json": {
       "columns": [
        {
         "name": "index",
         "rawType": "object",
         "type": "string"
        },
        {
         "name": "propensity",
         "rawType": "float64",
         "type": "float"
        },
        {
         "name": "flux intensity",
         "rawType": "float64",
         "type": "float"
        },
        {
         "name": "Type",
         "rawType": "object",
         "type": "string"
        }
       ],
       "ref": "61c12dde-348b-4930-adad-87ce8e95766b",
       "rows": [
        [
         "22RV1_PROSTATE",
         "0.3547",
         "14.794441797783064",
         "PROSTATE"
        ],
        [
         "2313287_STOMACH",
         "0.3046",
         "13.072794858340105",
         "STOMACH"
        ],
        [
         "5637_URINARY_TRACT",
         "0.5422",
         "12.879744410757423",
         "URINARY TRACT"
        ],
        [
         "697_HAEMATOPOIETIC_AND_LYMPHOID_TISSUE",
         "0.5623",
         "10.43019796872862",
         "HAEMATOPOIETIC AND LYMPHOID TISSUE"
        ],
        [
         "769P_KIDNEY",
         "0.4553",
         "17.51455618606177",
         "KIDNEY"
        ]
       ],
       "shape": {
        "columns": 3,
        "rows": 5
       }
      },
      "text/html": [
       "<div>\n",
       "<style scoped>\n",
       "    .dataframe tbody tr th:only-of-type {\n",
       "        vertical-align: middle;\n",
       "    }\n",
       "\n",
       "    .dataframe tbody tr th {\n",
       "        vertical-align: top;\n",
       "    }\n",
       "\n",
       "    .dataframe thead th {\n",
       "        text-align: right;\n",
       "    }\n",
       "</style>\n",
       "<table border=\"1\" class=\"dataframe\">\n",
       "  <thead>\n",
       "    <tr style=\"text-align: right;\">\n",
       "      <th></th>\n",
       "      <th>propensity</th>\n",
       "      <th>flux intensity</th>\n",
       "      <th>Type</th>\n",
       "    </tr>\n",
       "  </thead>\n",
       "  <tbody>\n",
       "    <tr>\n",
       "      <th>22RV1_PROSTATE</th>\n",
       "      <td>0.3547</td>\n",
       "      <td>14.794442</td>\n",
       "      <td>PROSTATE</td>\n",
       "    </tr>\n",
       "    <tr>\n",
       "      <th>2313287_STOMACH</th>\n",
       "      <td>0.3046</td>\n",
       "      <td>13.072795</td>\n",
       "      <td>STOMACH</td>\n",
       "    </tr>\n",
       "    <tr>\n",
       "      <th>5637_URINARY_TRACT</th>\n",
       "      <td>0.5422</td>\n",
       "      <td>12.879744</td>\n",
       "      <td>URINARY TRACT</td>\n",
       "    </tr>\n",
       "    <tr>\n",
       "      <th>697_HAEMATOPOIETIC_AND_LYMPHOID_TISSUE</th>\n",
       "      <td>0.5623</td>\n",
       "      <td>10.430198</td>\n",
       "      <td>HAEMATOPOIETIC AND LYMPHOID TISSUE</td>\n",
       "    </tr>\n",
       "    <tr>\n",
       "      <th>769P_KIDNEY</th>\n",
       "      <td>0.4553</td>\n",
       "      <td>17.514556</td>\n",
       "      <td>KIDNEY</td>\n",
       "    </tr>\n",
       "  </tbody>\n",
       "</table>\n",
       "</div>"
      ],
      "text/plain": [
       "                                        propensity  flux intensity  \\\n",
       "22RV1_PROSTATE                              0.3547       14.794442   \n",
       "2313287_STOMACH                             0.3046       13.072795   \n",
       "5637_URINARY_TRACT                          0.5422       12.879744   \n",
       "697_HAEMATOPOIETIC_AND_LYMPHOID_TISSUE      0.5623       10.430198   \n",
       "769P_KIDNEY                                 0.4553       17.514556   \n",
       "\n",
       "                                                                      Type  \n",
       "22RV1_PROSTATE                                                    PROSTATE  \n",
       "2313287_STOMACH                                                    STOMACH  \n",
       "5637_URINARY_TRACT                                           URINARY TRACT  \n",
       "697_HAEMATOPOIETIC_AND_LYMPHOID_TISSUE  HAEMATOPOIETIC AND LYMPHOID TISSUE  \n",
       "769P_KIDNEY                                                         KIDNEY  "
      ]
     },
     "execution_count": 8,
     "metadata": {},
     "output_type": "execute_result"
    }
   ],
   "source": [
    "nc_state[\"Type\"] = nc_state.index.str.split(\"_\", n=1).str[1].str.replace(\"_\", \" \")\n",
    "nc_state.head()"
   ]
  },
  {
   "cell_type": "code",
   "execution_count": 12,
   "id": "ed25b767",
   "metadata": {},
   "outputs": [
    {
     "data": {
      "application/vnd.microsoft.datawrangler.viewer.v0+json": {
       "columns": [
        {
         "name": "index",
         "rawType": "object",
         "type": "string"
        },
        {
         "name": "propensity",
         "rawType": "float64",
         "type": "float"
        },
        {
         "name": "flux intensity",
         "rawType": "float64",
         "type": "float"
        },
        {
         "name": "Type",
         "rawType": "object",
         "type": "string"
        },
        {
         "name": "Histology",
         "rawType": "object",
         "type": "string"
        }
       ],
       "ref": "7f09874e-8785-45ba-be8c-e1166c0e7a82",
       "rows": [
        [
         "22RV1_PROSTATE",
         "0.3547",
         "14.794441797783064",
         "PROSTATE",
         "carcinoma"
        ],
        [
         "2313287_STOMACH",
         "0.3046",
         "13.072794858340105",
         "STOMACH",
         "carcinoma"
        ],
        [
         "5637_URINARY_TRACT",
         "0.5422",
         "12.879744410757423",
         "URINARY TRACT",
         "carcinoma"
        ],
        [
         "697_HAEMATOPOIETIC_AND_LYMPHOID_TISSUE",
         "0.5623",
         "10.43019796872862",
         "HAEMATOPOIETIC AND LYMPHOID TISSUE",
         "lymphoid_neoplasm"
        ],
        [
         "769P_KIDNEY",
         "0.4553",
         "17.51455618606177",
         "KIDNEY",
         "carcinoma"
        ],
        [
         "786O_KIDNEY",
         "0.4685",
         "16.73639953351371",
         "KIDNEY",
         "carcinoma"
        ],
        [
         "8305C_THYROID",
         "0.5846",
         "10.297786894753544",
         "THYROID",
         "carcinoma"
        ],
        [
         "A2780_OVARY",
         "0.5813",
         "9.944028979023445",
         "OVARY",
         "carcinoma"
        ],
        [
         "A3KAW_HAEMATOPOIETIC_AND_LYMPHOID_TISSUE",
         "0.5387",
         "7.111268656964021",
         "HAEMATOPOIETIC AND LYMPHOID TISSUE",
         "lymphoid_neoplasm"
        ],
        [
         "A4FUK_HAEMATOPOIETIC_AND_LYMPHOID_TISSUE",
         "0.5379",
         "7.206611717444733",
         "HAEMATOPOIETIC AND LYMPHOID TISSUE",
         "lymphoid_neoplasm"
        ],
        [
         "ACCMESO1_PLEURA",
         "0.6058",
         "9.945966854383885",
         "PLEURA",
         "mesothelioma"
        ],
        [
         "ALLSIL_HAEMATOPOIETIC_AND_LYMPHOID_TISSUE",
         "0.5547",
         "7.424468204821726",
         "HAEMATOPOIETIC AND LYMPHOID TISSUE",
         "lymphoid_neoplasm"
        ],
        [
         "AMO1_HAEMATOPOIETIC_AND_LYMPHOID_TISSUE",
         "0.5371",
         "7.301150521585894",
         "HAEMATOPOIETIC AND LYMPHOID TISSUE",
         "lymphoid_neoplasm"
        ],
        [
         "ASPC1_PANCREAS",
         "0.4369",
         "22.5135799017329",
         "PANCREAS",
         "carcinoma"
        ],
        [
         "AU565_BREAST",
         "0.3623",
         "11.263629010678809",
         "BREAST",
         "carcinoma"
        ],
        [
         "BCP1_HAEMATOPOIETIC_AND_LYMPHOID_TISSUE",
         "0.5386",
         "7.19899983504501",
         "HAEMATOPOIETIC AND LYMPHOID TISSUE",
         "lymphoid_neoplasm"
        ],
        [
         "BCPAP_THYROID",
         "0.5842",
         "10.426663630493309",
         "THYROID",
         "carcinoma"
        ],
        [
         "BDCM_HAEMATOPOIETIC_AND_LYMPHOID_TISSUE",
         "0.5541",
         "7.447154513170172",
         "HAEMATOPOIETIC AND LYMPHOID TISSUE",
         "lymphoid_neoplasm"
        ],
        [
         "BL41_HAEMATOPOIETIC_AND_LYMPHOID_TISSUE",
         "0.5433",
         "7.106456762454075",
         "HAEMATOPOIETIC AND LYMPHOID TISSUE",
         "lymphoid_neoplasm"
        ],
        [
         "BL70_HAEMATOPOIETIC_AND_LYMPHOID_TISSUE",
         "0.5464",
         "7.051441338258944",
         "HAEMATOPOIETIC AND LYMPHOID TISSUE",
         "lymphoid_neoplasm"
        ],
        [
         "BT483_BREAST",
         "0.3674",
         "10.702390515392844",
         "BREAST",
         "carcinoma"
        ],
        [
         "BT549_BREAST",
         "0.5834",
         "10.1610535059189",
         "BREAST",
         "carcinoma"
        ],
        [
         "BV173_HAEMATOPOIETIC_AND_LYMPHOID_TISSUE",
         "0.5747",
         "10.369811392745545",
         "HAEMATOPOIETIC AND LYMPHOID TISSUE",
         "haematopoietic_neoplasm"
        ],
        [
         "BXPC3_PANCREAS",
         "0.4712",
         "15.785196031218613",
         "PANCREAS",
         "carcinoma"
        ],
        [
         "CA46_HAEMATOPOIETIC_AND_LYMPHOID_TISSUE",
         "0.5524",
         "7.120726709276538",
         "HAEMATOPOIETIC AND LYMPHOID TISSUE",
         "lymphoid_neoplasm"
        ],
        [
         "CADOES1_BONE",
         "0.3983",
         "12.969261802931992",
         "BONE",
         "Ewings_sarcoma-peripheral_primitive_neuroectodermal_tumour"
        ],
        [
         "CAL78_BONE",
         "0.4647",
         "13.821073327243914",
         "BONE",
         "chondrosarcoma"
        ],
        [
         "CCFSTTG1_CENTRAL_NERVOUS_SYSTEM",
         "0.4684",
         "14.360372568585026",
         "CENTRAL NERVOUS SYSTEM",
         "glioma"
        ],
        [
         "CHAGOK1_LUNG",
         "0.4813",
         "12.95425645075491",
         "LUNG",
         "carcinoma"
        ],
        [
         "CHP126_AUTONOMIC_GANGLIA",
         "0.3443",
         "17.289207578626495",
         "AUTONOMIC GANGLIA",
         "neuroblastoma"
        ],
        [
         "CMK_HAEMATOPOIETIC_AND_LYMPHOID_TISSUE",
         "0.4432",
         "18.46525552993495",
         "HAEMATOPOIETIC AND LYMPHOID TISSUE",
         "haematopoietic_neoplasm"
        ],
        [
         "CMLT1_HAEMATOPOIETIC_AND_LYMPHOID_TISSUE",
         "0.5552",
         "7.375227061411158",
         "HAEMATOPOIETIC AND LYMPHOID TISSUE",
         "haematopoietic_neoplasm"
        ],
        [
         "COLO201_LARGE_INTESTINE",
         "0.3597",
         "18.53314006176004",
         "LARGE INTESTINE",
         "carcinoma"
        ],
        [
         "COLO320_LARGE_INTESTINE",
         "0.4719",
         "12.458408344654474",
         "LARGE INTESTINE",
         "carcinoma"
        ],
        [
         "COLO668_LUNG",
         "0.4777",
         "8.188207855481574",
         "LUNG",
         "carcinoma"
        ],
        [
         "COLO678_LARGE_INTESTINE",
         "0.3756",
         "19.59294353081608",
         "LARGE INTESTINE",
         "carcinoma"
        ],
        [
         "COLO679_SKIN",
         "0.6105",
         "10.906832471033187",
         "SKIN",
         "malignant_melanoma"
        ],
        [
         "COLO680N_OESOPHAGUS",
         "0.4552",
         "12.715322612826151",
         "OESOPHAGUS",
         "carcinoma"
        ],
        [
         "COLO684_ENDOMETRIUM",
         "0.3747",
         "15.223756193985372",
         "ENDOMETRIUM",
         "carcinoma"
        ],
        [
         "COLO741_SKIN",
         "0.6169",
         "10.76162044791503",
         "SKIN",
         "malignant_melanoma"
        ],
        [
         "COLO783_SKIN",
         "0.6169",
         "10.74625578419917",
         "SKIN",
         "malignant_melanoma"
        ],
        [
         "COLO792_SKIN",
         "0.6196",
         "10.69908243649366",
         "SKIN",
         "malignant_melanoma"
        ],
        [
         "COLO800_SKIN",
         "0.615",
         "11.043790945626622",
         "SKIN",
         "malignant_melanoma"
        ],
        [
         "COLO829_SKIN",
         "0.6138",
         "10.936067641266078",
         "SKIN",
         "malignant_melanoma"
        ],
        [
         "CORL105_LUNG",
         "0.4434",
         "16.82622860224485",
         "LUNG",
         "carcinoma"
        ],
        [
         "CORL23_LUNG",
         "0.4755",
         "16.062480404245747",
         "LUNG",
         "carcinoma"
        ],
        [
         "CORL24_LUNG",
         "0.4529",
         "12.481051727289232",
         "LUNG",
         "carcinoma"
        ],
        [
         "CORL279_LUNG",
         "0.4723",
         "11.045315055893695",
         "LUNG",
         "carcinoma"
        ],
        [
         "CORL311_LUNG",
         "0.3824",
         "14.379575416069676",
         "LUNG",
         "carcinoma"
        ],
        [
         "CORL47_LUNG",
         "0.4724",
         "10.650715259493316",
         "LUNG",
         "carcinoma"
        ]
       ],
       "shape": {
        "columns": 4,
        "rows": 513
       }
      },
      "text/html": [
       "<div>\n",
       "<style scoped>\n",
       "    .dataframe tbody tr th:only-of-type {\n",
       "        vertical-align: middle;\n",
       "    }\n",
       "\n",
       "    .dataframe tbody tr th {\n",
       "        vertical-align: top;\n",
       "    }\n",
       "\n",
       "    .dataframe thead th {\n",
       "        text-align: right;\n",
       "    }\n",
       "</style>\n",
       "<table border=\"1\" class=\"dataframe\">\n",
       "  <thead>\n",
       "    <tr style=\"text-align: right;\">\n",
       "      <th></th>\n",
       "      <th>propensity</th>\n",
       "      <th>flux intensity</th>\n",
       "      <th>Type</th>\n",
       "      <th>Histology</th>\n",
       "    </tr>\n",
       "  </thead>\n",
       "  <tbody>\n",
       "    <tr>\n",
       "      <th>22RV1_PROSTATE</th>\n",
       "      <td>0.3547</td>\n",
       "      <td>14.794442</td>\n",
       "      <td>PROSTATE</td>\n",
       "      <td>carcinoma</td>\n",
       "    </tr>\n",
       "    <tr>\n",
       "      <th>2313287_STOMACH</th>\n",
       "      <td>0.3046</td>\n",
       "      <td>13.072795</td>\n",
       "      <td>STOMACH</td>\n",
       "      <td>carcinoma</td>\n",
       "    </tr>\n",
       "    <tr>\n",
       "      <th>5637_URINARY_TRACT</th>\n",
       "      <td>0.5422</td>\n",
       "      <td>12.879744</td>\n",
       "      <td>URINARY TRACT</td>\n",
       "      <td>carcinoma</td>\n",
       "    </tr>\n",
       "    <tr>\n",
       "      <th>697_HAEMATOPOIETIC_AND_LYMPHOID_TISSUE</th>\n",
       "      <td>0.5623</td>\n",
       "      <td>10.430198</td>\n",
       "      <td>HAEMATOPOIETIC AND LYMPHOID TISSUE</td>\n",
       "      <td>lymphoid_neoplasm</td>\n",
       "    </tr>\n",
       "    <tr>\n",
       "      <th>769P_KIDNEY</th>\n",
       "      <td>0.4553</td>\n",
       "      <td>17.514556</td>\n",
       "      <td>KIDNEY</td>\n",
       "      <td>carcinoma</td>\n",
       "    </tr>\n",
       "    <tr>\n",
       "      <th>...</th>\n",
       "      <td>...</td>\n",
       "      <td>...</td>\n",
       "      <td>...</td>\n",
       "      <td>...</td>\n",
       "    </tr>\n",
       "    <tr>\n",
       "      <th>YD15_SALIVARY_GLAND</th>\n",
       "      <td>0.5833</td>\n",
       "      <td>11.371697</td>\n",
       "      <td>SALIVARY GLAND</td>\n",
       "      <td>carcinoma</td>\n",
       "    </tr>\n",
       "    <tr>\n",
       "      <th>YD38_UPPER_AERODIGESTIVE_TRACT</th>\n",
       "      <td>0.5822</td>\n",
       "      <td>11.212096</td>\n",
       "      <td>UPPER AERODIGESTIVE TRACT</td>\n",
       "      <td>carcinoma</td>\n",
       "    </tr>\n",
       "    <tr>\n",
       "      <th>YD8_UPPER_AERODIGESTIVE_TRACT</th>\n",
       "      <td>0.4779</td>\n",
       "      <td>13.736960</td>\n",
       "      <td>UPPER AERODIGESTIVE TRACT</td>\n",
       "      <td>carcinoma</td>\n",
       "    </tr>\n",
       "    <tr>\n",
       "      <th>ZR751_BREAST</th>\n",
       "      <td>0.3653</td>\n",
       "      <td>10.843867</td>\n",
       "      <td>BREAST</td>\n",
       "      <td>carcinoma</td>\n",
       "    </tr>\n",
       "    <tr>\n",
       "      <th>ZR7530_BREAST</th>\n",
       "      <td>0.3664</td>\n",
       "      <td>10.752528</td>\n",
       "      <td>BREAST</td>\n",
       "      <td>carcinoma</td>\n",
       "    </tr>\n",
       "  </tbody>\n",
       "</table>\n",
       "<p>513 rows × 4 columns</p>\n",
       "</div>"
      ],
      "text/plain": [
       "                                        propensity  flux intensity  \\\n",
       "22RV1_PROSTATE                              0.3547       14.794442   \n",
       "2313287_STOMACH                             0.3046       13.072795   \n",
       "5637_URINARY_TRACT                          0.5422       12.879744   \n",
       "697_HAEMATOPOIETIC_AND_LYMPHOID_TISSUE      0.5623       10.430198   \n",
       "769P_KIDNEY                                 0.4553       17.514556   \n",
       "...                                            ...             ...   \n",
       "YD15_SALIVARY_GLAND                         0.5833       11.371697   \n",
       "YD38_UPPER_AERODIGESTIVE_TRACT              0.5822       11.212096   \n",
       "YD8_UPPER_AERODIGESTIVE_TRACT               0.4779       13.736960   \n",
       "ZR751_BREAST                                0.3653       10.843867   \n",
       "ZR7530_BREAST                               0.3664       10.752528   \n",
       "\n",
       "                                                                      Type  \\\n",
       "22RV1_PROSTATE                                                    PROSTATE   \n",
       "2313287_STOMACH                                                    STOMACH   \n",
       "5637_URINARY_TRACT                                           URINARY TRACT   \n",
       "697_HAEMATOPOIETIC_AND_LYMPHOID_TISSUE  HAEMATOPOIETIC AND LYMPHOID TISSUE   \n",
       "769P_KIDNEY                                                         KIDNEY   \n",
       "...                                                                    ...   \n",
       "YD15_SALIVARY_GLAND                                         SALIVARY GLAND   \n",
       "YD38_UPPER_AERODIGESTIVE_TRACT                   UPPER AERODIGESTIVE TRACT   \n",
       "YD8_UPPER_AERODIGESTIVE_TRACT                    UPPER AERODIGESTIVE TRACT   \n",
       "ZR751_BREAST                                                        BREAST   \n",
       "ZR7530_BREAST                                                       BREAST   \n",
       "\n",
       "                                                Histology  \n",
       "22RV1_PROSTATE                                  carcinoma  \n",
       "2313287_STOMACH                                 carcinoma  \n",
       "5637_URINARY_TRACT                              carcinoma  \n",
       "697_HAEMATOPOIETIC_AND_LYMPHOID_TISSUE  lymphoid_neoplasm  \n",
       "769P_KIDNEY                                     carcinoma  \n",
       "...                                                   ...  \n",
       "YD15_SALIVARY_GLAND                             carcinoma  \n",
       "YD38_UPPER_AERODIGESTIVE_TRACT                  carcinoma  \n",
       "YD8_UPPER_AERODIGESTIVE_TRACT                   carcinoma  \n",
       "ZR751_BREAST                                    carcinoma  \n",
       "ZR7530_BREAST                                   carcinoma  \n",
       "\n",
       "[513 rows x 4 columns]"
      ]
     },
     "execution_count": 12,
     "metadata": {},
     "output_type": "execute_result"
    }
   ],
   "source": [
    "nc_state = nc_state.merge(cell_notation, left_index=True, right_index=True)\n",
    "nc_state"
   ]
  },
  {
   "cell_type": "code",
   "execution_count": 13,
   "id": "5a41bc82",
   "metadata": {},
   "outputs": [
    {
     "data": {
      "application/vnd.microsoft.datawrangler.viewer.v0+json": {
       "columns": [
        {
         "name": "index",
         "rawType": "object",
         "type": "string"
        },
        {
         "name": "propensity",
         "rawType": "float64",
         "type": "float"
        },
        {
         "name": "flux intensity",
         "rawType": "float64",
         "type": "float"
        },
        {
         "name": "Type",
         "rawType": "object",
         "type": "string"
        },
        {
         "name": "Histology",
         "rawType": "object",
         "type": "string"
        }
       ],
       "ref": "10029b44-8a49-4ff9-8d3b-e55d9fd9021d",
       "rows": [
        [
         "22RV1_PROSTATE",
         "0.3547",
         "14.794441797783064",
         "PROSTATE",
         "carcinoma"
        ],
        [
         "2313287_STOMACH",
         "0.3046",
         "13.072794858340105",
         "STOMACH",
         "carcinoma"
        ],
        [
         "5637_URINARY_TRACT",
         "0.5422",
         "12.879744410757423",
         "URINARY TRACT",
         "carcinoma"
        ],
        [
         "697_HAEMATOPOIETIC_AND_LYMPHOID_TISSUE",
         "0.5623",
         "10.43019796872862",
         "lymphoid",
         "lymphoid_neoplasm"
        ],
        [
         "769P_KIDNEY",
         "0.4553",
         "17.51455618606177",
         "KIDNEY",
         "carcinoma"
        ],
        [
         "786O_KIDNEY",
         "0.4685",
         "16.73639953351371",
         "KIDNEY",
         "carcinoma"
        ],
        [
         "8305C_THYROID",
         "0.5846",
         "10.297786894753544",
         "THYROID",
         "carcinoma"
        ],
        [
         "A2780_OVARY",
         "0.5813",
         "9.944028979023445",
         "OVARY",
         "carcinoma"
        ],
        [
         "A3KAW_HAEMATOPOIETIC_AND_LYMPHOID_TISSUE",
         "0.5387",
         "7.111268656964021",
         "lymphoid",
         "lymphoid_neoplasm"
        ],
        [
         "A4FUK_HAEMATOPOIETIC_AND_LYMPHOID_TISSUE",
         "0.5379",
         "7.206611717444733",
         "lymphoid",
         "lymphoid_neoplasm"
        ],
        [
         "ACCMESO1_PLEURA",
         "0.6058",
         "9.945966854383885",
         "PLEURA",
         "mesothelioma"
        ],
        [
         "ALLSIL_HAEMATOPOIETIC_AND_LYMPHOID_TISSUE",
         "0.5547",
         "7.424468204821726",
         "lymphoid",
         "lymphoid_neoplasm"
        ],
        [
         "AMO1_HAEMATOPOIETIC_AND_LYMPHOID_TISSUE",
         "0.5371",
         "7.301150521585894",
         "lymphoid",
         "lymphoid_neoplasm"
        ],
        [
         "ASPC1_PANCREAS",
         "0.4369",
         "22.5135799017329",
         "PANCREAS",
         "carcinoma"
        ],
        [
         "AU565_BREAST",
         "0.3623",
         "11.263629010678809",
         "BREAST",
         "carcinoma"
        ],
        [
         "BCP1_HAEMATOPOIETIC_AND_LYMPHOID_TISSUE",
         "0.5386",
         "7.19899983504501",
         "lymphoid",
         "lymphoid_neoplasm"
        ],
        [
         "BCPAP_THYROID",
         "0.5842",
         "10.426663630493309",
         "THYROID",
         "carcinoma"
        ],
        [
         "BDCM_HAEMATOPOIETIC_AND_LYMPHOID_TISSUE",
         "0.5541",
         "7.447154513170172",
         "lymphoid",
         "lymphoid_neoplasm"
        ],
        [
         "BL41_HAEMATOPOIETIC_AND_LYMPHOID_TISSUE",
         "0.5433",
         "7.106456762454075",
         "lymphoid",
         "lymphoid_neoplasm"
        ],
        [
         "BL70_HAEMATOPOIETIC_AND_LYMPHOID_TISSUE",
         "0.5464",
         "7.051441338258944",
         "lymphoid",
         "lymphoid_neoplasm"
        ],
        [
         "BT483_BREAST",
         "0.3674",
         "10.702390515392844",
         "BREAST",
         "carcinoma"
        ],
        [
         "BT549_BREAST",
         "0.5834",
         "10.1610535059189",
         "BREAST",
         "carcinoma"
        ],
        [
         "BV173_HAEMATOPOIETIC_AND_LYMPHOID_TISSUE",
         "0.5747",
         "10.369811392745545",
         "haematopoietic",
         "haematopoietic_neoplasm"
        ],
        [
         "BXPC3_PANCREAS",
         "0.4712",
         "15.785196031218613",
         "PANCREAS",
         "carcinoma"
        ],
        [
         "CA46_HAEMATOPOIETIC_AND_LYMPHOID_TISSUE",
         "0.5524",
         "7.120726709276538",
         "lymphoid",
         "lymphoid_neoplasm"
        ],
        [
         "CADOES1_BONE",
         "0.3983",
         "12.969261802931992",
         "BONE",
         "Ewings_sarcoma-peripheral_primitive_neuroectodermal_tumour"
        ],
        [
         "CAL78_BONE",
         "0.4647",
         "13.821073327243914",
         "BONE",
         "chondrosarcoma"
        ],
        [
         "CCFSTTG1_CENTRAL_NERVOUS_SYSTEM",
         "0.4684",
         "14.360372568585026",
         "CENTRAL NERVOUS SYSTEM",
         "glioma"
        ],
        [
         "CHAGOK1_LUNG",
         "0.4813",
         "12.95425645075491",
         "LUNG",
         "carcinoma"
        ],
        [
         "CHP126_AUTONOMIC_GANGLIA",
         "0.3443",
         "17.289207578626495",
         "AUTONOMIC GANGLIA",
         "neuroblastoma"
        ],
        [
         "CMK_HAEMATOPOIETIC_AND_LYMPHOID_TISSUE",
         "0.4432",
         "18.46525552993495",
         "haematopoietic",
         "haematopoietic_neoplasm"
        ],
        [
         "CMLT1_HAEMATOPOIETIC_AND_LYMPHOID_TISSUE",
         "0.5552",
         "7.375227061411158",
         "haematopoietic",
         "haematopoietic_neoplasm"
        ],
        [
         "COLO201_LARGE_INTESTINE",
         "0.3597",
         "18.53314006176004",
         "LARGE INTESTINE",
         "carcinoma"
        ],
        [
         "COLO320_LARGE_INTESTINE",
         "0.4719",
         "12.458408344654474",
         "LARGE INTESTINE",
         "carcinoma"
        ],
        [
         "COLO668_LUNG",
         "0.4777",
         "8.188207855481574",
         "LUNG",
         "carcinoma"
        ],
        [
         "COLO678_LARGE_INTESTINE",
         "0.3756",
         "19.59294353081608",
         "LARGE INTESTINE",
         "carcinoma"
        ],
        [
         "COLO679_SKIN",
         "0.6105",
         "10.906832471033187",
         "SKIN",
         "malignant_melanoma"
        ],
        [
         "COLO680N_OESOPHAGUS",
         "0.4552",
         "12.715322612826151",
         "OESOPHAGUS",
         "carcinoma"
        ],
        [
         "COLO684_ENDOMETRIUM",
         "0.3747",
         "15.223756193985372",
         "ENDOMETRIUM",
         "carcinoma"
        ],
        [
         "COLO741_SKIN",
         "0.6169",
         "10.76162044791503",
         "SKIN",
         "malignant_melanoma"
        ],
        [
         "COLO783_SKIN",
         "0.6169",
         "10.74625578419917",
         "SKIN",
         "malignant_melanoma"
        ],
        [
         "COLO792_SKIN",
         "0.6196",
         "10.69908243649366",
         "SKIN",
         "malignant_melanoma"
        ],
        [
         "COLO800_SKIN",
         "0.615",
         "11.043790945626622",
         "SKIN",
         "malignant_melanoma"
        ],
        [
         "COLO829_SKIN",
         "0.6138",
         "10.936067641266078",
         "SKIN",
         "malignant_melanoma"
        ],
        [
         "CORL105_LUNG",
         "0.4434",
         "16.82622860224485",
         "LUNG",
         "carcinoma"
        ],
        [
         "CORL23_LUNG",
         "0.4755",
         "16.062480404245747",
         "LUNG",
         "carcinoma"
        ],
        [
         "CORL24_LUNG",
         "0.4529",
         "12.481051727289232",
         "LUNG",
         "carcinoma"
        ],
        [
         "CORL279_LUNG",
         "0.4723",
         "11.045315055893695",
         "LUNG",
         "carcinoma"
        ],
        [
         "CORL311_LUNG",
         "0.3824",
         "14.379575416069676",
         "LUNG",
         "carcinoma"
        ],
        [
         "CORL47_LUNG",
         "0.4724",
         "10.650715259493316",
         "LUNG",
         "carcinoma"
        ]
       ],
       "shape": {
        "columns": 4,
        "rows": 513
       }
      },
      "text/html": [
       "<div>\n",
       "<style scoped>\n",
       "    .dataframe tbody tr th:only-of-type {\n",
       "        vertical-align: middle;\n",
       "    }\n",
       "\n",
       "    .dataframe tbody tr th {\n",
       "        vertical-align: top;\n",
       "    }\n",
       "\n",
       "    .dataframe thead th {\n",
       "        text-align: right;\n",
       "    }\n",
       "</style>\n",
       "<table border=\"1\" class=\"dataframe\">\n",
       "  <thead>\n",
       "    <tr style=\"text-align: right;\">\n",
       "      <th></th>\n",
       "      <th>propensity</th>\n",
       "      <th>flux intensity</th>\n",
       "      <th>Type</th>\n",
       "      <th>Histology</th>\n",
       "    </tr>\n",
       "  </thead>\n",
       "  <tbody>\n",
       "    <tr>\n",
       "      <th>22RV1_PROSTATE</th>\n",
       "      <td>0.3547</td>\n",
       "      <td>14.794442</td>\n",
       "      <td>PROSTATE</td>\n",
       "      <td>carcinoma</td>\n",
       "    </tr>\n",
       "    <tr>\n",
       "      <th>2313287_STOMACH</th>\n",
       "      <td>0.3046</td>\n",
       "      <td>13.072795</td>\n",
       "      <td>STOMACH</td>\n",
       "      <td>carcinoma</td>\n",
       "    </tr>\n",
       "    <tr>\n",
       "      <th>5637_URINARY_TRACT</th>\n",
       "      <td>0.5422</td>\n",
       "      <td>12.879744</td>\n",
       "      <td>URINARY TRACT</td>\n",
       "      <td>carcinoma</td>\n",
       "    </tr>\n",
       "    <tr>\n",
       "      <th>697_HAEMATOPOIETIC_AND_LYMPHOID_TISSUE</th>\n",
       "      <td>0.5623</td>\n",
       "      <td>10.430198</td>\n",
       "      <td>lymphoid</td>\n",
       "      <td>lymphoid_neoplasm</td>\n",
       "    </tr>\n",
       "    <tr>\n",
       "      <th>769P_KIDNEY</th>\n",
       "      <td>0.4553</td>\n",
       "      <td>17.514556</td>\n",
       "      <td>KIDNEY</td>\n",
       "      <td>carcinoma</td>\n",
       "    </tr>\n",
       "    <tr>\n",
       "      <th>...</th>\n",
       "      <td>...</td>\n",
       "      <td>...</td>\n",
       "      <td>...</td>\n",
       "      <td>...</td>\n",
       "    </tr>\n",
       "    <tr>\n",
       "      <th>YD15_SALIVARY_GLAND</th>\n",
       "      <td>0.5833</td>\n",
       "      <td>11.371697</td>\n",
       "      <td>SALIVARY GLAND</td>\n",
       "      <td>carcinoma</td>\n",
       "    </tr>\n",
       "    <tr>\n",
       "      <th>YD38_UPPER_AERODIGESTIVE_TRACT</th>\n",
       "      <td>0.5822</td>\n",
       "      <td>11.212096</td>\n",
       "      <td>UPPER AERODIGESTIVE TRACT</td>\n",
       "      <td>carcinoma</td>\n",
       "    </tr>\n",
       "    <tr>\n",
       "      <th>YD8_UPPER_AERODIGESTIVE_TRACT</th>\n",
       "      <td>0.4779</td>\n",
       "      <td>13.736960</td>\n",
       "      <td>UPPER AERODIGESTIVE TRACT</td>\n",
       "      <td>carcinoma</td>\n",
       "    </tr>\n",
       "    <tr>\n",
       "      <th>ZR751_BREAST</th>\n",
       "      <td>0.3653</td>\n",
       "      <td>10.843867</td>\n",
       "      <td>BREAST</td>\n",
       "      <td>carcinoma</td>\n",
       "    </tr>\n",
       "    <tr>\n",
       "      <th>ZR7530_BREAST</th>\n",
       "      <td>0.3664</td>\n",
       "      <td>10.752528</td>\n",
       "      <td>BREAST</td>\n",
       "      <td>carcinoma</td>\n",
       "    </tr>\n",
       "  </tbody>\n",
       "</table>\n",
       "<p>513 rows × 4 columns</p>\n",
       "</div>"
      ],
      "text/plain": [
       "                                        propensity  flux intensity  \\\n",
       "22RV1_PROSTATE                              0.3547       14.794442   \n",
       "2313287_STOMACH                             0.3046       13.072795   \n",
       "5637_URINARY_TRACT                          0.5422       12.879744   \n",
       "697_HAEMATOPOIETIC_AND_LYMPHOID_TISSUE      0.5623       10.430198   \n",
       "769P_KIDNEY                                 0.4553       17.514556   \n",
       "...                                            ...             ...   \n",
       "YD15_SALIVARY_GLAND                         0.5833       11.371697   \n",
       "YD38_UPPER_AERODIGESTIVE_TRACT              0.5822       11.212096   \n",
       "YD8_UPPER_AERODIGESTIVE_TRACT               0.4779       13.736960   \n",
       "ZR751_BREAST                                0.3653       10.843867   \n",
       "ZR7530_BREAST                               0.3664       10.752528   \n",
       "\n",
       "                                                             Type  \\\n",
       "22RV1_PROSTATE                                           PROSTATE   \n",
       "2313287_STOMACH                                           STOMACH   \n",
       "5637_URINARY_TRACT                                  URINARY TRACT   \n",
       "697_HAEMATOPOIETIC_AND_LYMPHOID_TISSUE                   lymphoid   \n",
       "769P_KIDNEY                                                KIDNEY   \n",
       "...                                                           ...   \n",
       "YD15_SALIVARY_GLAND                                SALIVARY GLAND   \n",
       "YD38_UPPER_AERODIGESTIVE_TRACT          UPPER AERODIGESTIVE TRACT   \n",
       "YD8_UPPER_AERODIGESTIVE_TRACT           UPPER AERODIGESTIVE TRACT   \n",
       "ZR751_BREAST                                               BREAST   \n",
       "ZR7530_BREAST                                              BREAST   \n",
       "\n",
       "                                                Histology  \n",
       "22RV1_PROSTATE                                  carcinoma  \n",
       "2313287_STOMACH                                 carcinoma  \n",
       "5637_URINARY_TRACT                              carcinoma  \n",
       "697_HAEMATOPOIETIC_AND_LYMPHOID_TISSUE  lymphoid_neoplasm  \n",
       "769P_KIDNEY                                     carcinoma  \n",
       "...                                                   ...  \n",
       "YD15_SALIVARY_GLAND                             carcinoma  \n",
       "YD38_UPPER_AERODIGESTIVE_TRACT                  carcinoma  \n",
       "YD8_UPPER_AERODIGESTIVE_TRACT                   carcinoma  \n",
       "ZR751_BREAST                                    carcinoma  \n",
       "ZR7530_BREAST                                   carcinoma  \n",
       "\n",
       "[513 rows x 4 columns]"
      ]
     },
     "execution_count": 13,
     "metadata": {},
     "output_type": "execute_result"
    }
   ],
   "source": [
    "mask = nc_state[\"Type\"] == \"HAEMATOPOIETIC AND LYMPHOID TISSUE\"\n",
    "nc_state.loc[mask, \"Type\"] = nc_state.loc[mask, \"Histology\"].str.split(\"_\").str[0]\n",
    "nc_state\n"
   ]
  },
  {
   "cell_type": "code",
   "execution_count": 14,
   "id": "548d74f6",
   "metadata": {},
   "outputs": [
    {
     "data": {
      "application/vnd.microsoft.datawrangler.viewer.v0+json": {
       "columns": [
        {
         "name": "index",
         "rawType": "object",
         "type": "string"
        },
        {
         "name": "propensity",
         "rawType": "float64",
         "type": "float"
        },
        {
         "name": "flux intensity",
         "rawType": "float64",
         "type": "float"
        },
        {
         "name": "Type",
         "rawType": "object",
         "type": "string"
        },
        {
         "name": "Histology",
         "rawType": "object",
         "type": "string"
        }
       ],
       "ref": "9f5f2662-92ec-4e24-8596-5c75153e75d4",
       "rows": [
        [
         "22RV1_PROSTATE",
         "0.3547",
         "14.794441797783064",
         "PROSTATE",
         "carcinoma"
        ],
        [
         "2313287_STOMACH",
         "0.3046",
         "13.072794858340105",
         "STOMACH",
         "carcinoma"
        ],
        [
         "5637_URINARY_TRACT",
         "0.5422",
         "12.879744410757423",
         "URINARY TRACT",
         "carcinoma"
        ],
        [
         "697_HAEMATOPOIETIC_AND_LYMPHOID_TISSUE",
         "0.5623",
         "10.43019796872862",
         "LYMPHOID",
         "lymphoid_neoplasm"
        ],
        [
         "769P_KIDNEY",
         "0.4553",
         "17.51455618606177",
         "KIDNEY",
         "carcinoma"
        ],
        [
         "786O_KIDNEY",
         "0.4685",
         "16.73639953351371",
         "KIDNEY",
         "carcinoma"
        ],
        [
         "8305C_THYROID",
         "0.5846",
         "10.297786894753544",
         "THYROID",
         "carcinoma"
        ],
        [
         "A2780_OVARY",
         "0.5813",
         "9.944028979023445",
         "OVARY",
         "carcinoma"
        ],
        [
         "A3KAW_HAEMATOPOIETIC_AND_LYMPHOID_TISSUE",
         "0.5387",
         "7.111268656964021",
         "LYMPHOID",
         "lymphoid_neoplasm"
        ],
        [
         "A4FUK_HAEMATOPOIETIC_AND_LYMPHOID_TISSUE",
         "0.5379",
         "7.206611717444733",
         "LYMPHOID",
         "lymphoid_neoplasm"
        ],
        [
         "ACCMESO1_PLEURA",
         "0.6058",
         "9.945966854383885",
         "PLEURA",
         "mesothelioma"
        ],
        [
         "ALLSIL_HAEMATOPOIETIC_AND_LYMPHOID_TISSUE",
         "0.5547",
         "7.424468204821726",
         "LYMPHOID",
         "lymphoid_neoplasm"
        ],
        [
         "AMO1_HAEMATOPOIETIC_AND_LYMPHOID_TISSUE",
         "0.5371",
         "7.301150521585894",
         "LYMPHOID",
         "lymphoid_neoplasm"
        ],
        [
         "ASPC1_PANCREAS",
         "0.4369",
         "22.5135799017329",
         "PANCREAS",
         "carcinoma"
        ],
        [
         "AU565_BREAST",
         "0.3623",
         "11.263629010678809",
         "BREAST",
         "carcinoma"
        ],
        [
         "BCP1_HAEMATOPOIETIC_AND_LYMPHOID_TISSUE",
         "0.5386",
         "7.19899983504501",
         "LYMPHOID",
         "lymphoid_neoplasm"
        ],
        [
         "BCPAP_THYROID",
         "0.5842",
         "10.426663630493309",
         "THYROID",
         "carcinoma"
        ],
        [
         "BDCM_HAEMATOPOIETIC_AND_LYMPHOID_TISSUE",
         "0.5541",
         "7.447154513170172",
         "LYMPHOID",
         "lymphoid_neoplasm"
        ],
        [
         "BL41_HAEMATOPOIETIC_AND_LYMPHOID_TISSUE",
         "0.5433",
         "7.106456762454075",
         "LYMPHOID",
         "lymphoid_neoplasm"
        ],
        [
         "BL70_HAEMATOPOIETIC_AND_LYMPHOID_TISSUE",
         "0.5464",
         "7.051441338258944",
         "LYMPHOID",
         "lymphoid_neoplasm"
        ],
        [
         "BT483_BREAST",
         "0.3674",
         "10.702390515392844",
         "BREAST",
         "carcinoma"
        ],
        [
         "BT549_BREAST",
         "0.5834",
         "10.1610535059189",
         "BREAST",
         "carcinoma"
        ],
        [
         "BV173_HAEMATOPOIETIC_AND_LYMPHOID_TISSUE",
         "0.5747",
         "10.369811392745545",
         "HAEMATOPOIETIC",
         "haematopoietic_neoplasm"
        ],
        [
         "BXPC3_PANCREAS",
         "0.4712",
         "15.785196031218613",
         "PANCREAS",
         "carcinoma"
        ],
        [
         "CA46_HAEMATOPOIETIC_AND_LYMPHOID_TISSUE",
         "0.5524",
         "7.120726709276538",
         "LYMPHOID",
         "lymphoid_neoplasm"
        ],
        [
         "CADOES1_BONE",
         "0.3983",
         "12.969261802931992",
         "BONE",
         "Ewings_sarcoma-peripheral_primitive_neuroectodermal_tumour"
        ],
        [
         "CAL78_BONE",
         "0.4647",
         "13.821073327243914",
         "BONE",
         "chondrosarcoma"
        ],
        [
         "CCFSTTG1_CENTRAL_NERVOUS_SYSTEM",
         "0.4684",
         "14.360372568585026",
         "CENTRAL NERVOUS SYSTEM",
         "glioma"
        ],
        [
         "CHAGOK1_LUNG",
         "0.4813",
         "12.95425645075491",
         "LUNG",
         "carcinoma"
        ],
        [
         "CHP126_AUTONOMIC_GANGLIA",
         "0.3443",
         "17.289207578626495",
         "AUTONOMIC GANGLIA",
         "neuroblastoma"
        ],
        [
         "CMK_HAEMATOPOIETIC_AND_LYMPHOID_TISSUE",
         "0.4432",
         "18.46525552993495",
         "HAEMATOPOIETIC",
         "haematopoietic_neoplasm"
        ],
        [
         "CMLT1_HAEMATOPOIETIC_AND_LYMPHOID_TISSUE",
         "0.5552",
         "7.375227061411158",
         "HAEMATOPOIETIC",
         "haematopoietic_neoplasm"
        ],
        [
         "COLO201_LARGE_INTESTINE",
         "0.3597",
         "18.53314006176004",
         "LARGE INTESTINE",
         "carcinoma"
        ],
        [
         "COLO320_LARGE_INTESTINE",
         "0.4719",
         "12.458408344654474",
         "LARGE INTESTINE",
         "carcinoma"
        ],
        [
         "COLO668_LUNG",
         "0.4777",
         "8.188207855481574",
         "LUNG",
         "carcinoma"
        ],
        [
         "COLO678_LARGE_INTESTINE",
         "0.3756",
         "19.59294353081608",
         "LARGE INTESTINE",
         "carcinoma"
        ],
        [
         "COLO679_SKIN",
         "0.6105",
         "10.906832471033187",
         "SKIN",
         "malignant_melanoma"
        ],
        [
         "COLO680N_OESOPHAGUS",
         "0.4552",
         "12.715322612826151",
         "OESOPHAGUS",
         "carcinoma"
        ],
        [
         "COLO684_ENDOMETRIUM",
         "0.3747",
         "15.223756193985372",
         "ENDOMETRIUM",
         "carcinoma"
        ],
        [
         "COLO741_SKIN",
         "0.6169",
         "10.76162044791503",
         "SKIN",
         "malignant_melanoma"
        ],
        [
         "COLO783_SKIN",
         "0.6169",
         "10.74625578419917",
         "SKIN",
         "malignant_melanoma"
        ],
        [
         "COLO792_SKIN",
         "0.6196",
         "10.69908243649366",
         "SKIN",
         "malignant_melanoma"
        ],
        [
         "COLO800_SKIN",
         "0.615",
         "11.043790945626622",
         "SKIN",
         "malignant_melanoma"
        ],
        [
         "COLO829_SKIN",
         "0.6138",
         "10.936067641266078",
         "SKIN",
         "malignant_melanoma"
        ],
        [
         "CORL105_LUNG",
         "0.4434",
         "16.82622860224485",
         "LUNG",
         "carcinoma"
        ],
        [
         "CORL23_LUNG",
         "0.4755",
         "16.062480404245747",
         "LUNG",
         "carcinoma"
        ],
        [
         "CORL24_LUNG",
         "0.4529",
         "12.481051727289232",
         "LUNG",
         "carcinoma"
        ],
        [
         "CORL279_LUNG",
         "0.4723",
         "11.045315055893695",
         "LUNG",
         "carcinoma"
        ],
        [
         "CORL311_LUNG",
         "0.3824",
         "14.379575416069676",
         "LUNG",
         "carcinoma"
        ],
        [
         "CORL47_LUNG",
         "0.4724",
         "10.650715259493316",
         "LUNG",
         "carcinoma"
        ]
       ],
       "shape": {
        "columns": 4,
        "rows": 513
       }
      },
      "text/html": [
       "<div>\n",
       "<style scoped>\n",
       "    .dataframe tbody tr th:only-of-type {\n",
       "        vertical-align: middle;\n",
       "    }\n",
       "\n",
       "    .dataframe tbody tr th {\n",
       "        vertical-align: top;\n",
       "    }\n",
       "\n",
       "    .dataframe thead th {\n",
       "        text-align: right;\n",
       "    }\n",
       "</style>\n",
       "<table border=\"1\" class=\"dataframe\">\n",
       "  <thead>\n",
       "    <tr style=\"text-align: right;\">\n",
       "      <th></th>\n",
       "      <th>propensity</th>\n",
       "      <th>flux intensity</th>\n",
       "      <th>Type</th>\n",
       "      <th>Histology</th>\n",
       "    </tr>\n",
       "  </thead>\n",
       "  <tbody>\n",
       "    <tr>\n",
       "      <th>22RV1_PROSTATE</th>\n",
       "      <td>0.3547</td>\n",
       "      <td>14.794442</td>\n",
       "      <td>PROSTATE</td>\n",
       "      <td>carcinoma</td>\n",
       "    </tr>\n",
       "    <tr>\n",
       "      <th>2313287_STOMACH</th>\n",
       "      <td>0.3046</td>\n",
       "      <td>13.072795</td>\n",
       "      <td>STOMACH</td>\n",
       "      <td>carcinoma</td>\n",
       "    </tr>\n",
       "    <tr>\n",
       "      <th>5637_URINARY_TRACT</th>\n",
       "      <td>0.5422</td>\n",
       "      <td>12.879744</td>\n",
       "      <td>URINARY TRACT</td>\n",
       "      <td>carcinoma</td>\n",
       "    </tr>\n",
       "    <tr>\n",
       "      <th>697_HAEMATOPOIETIC_AND_LYMPHOID_TISSUE</th>\n",
       "      <td>0.5623</td>\n",
       "      <td>10.430198</td>\n",
       "      <td>LYMPHOID</td>\n",
       "      <td>lymphoid_neoplasm</td>\n",
       "    </tr>\n",
       "    <tr>\n",
       "      <th>769P_KIDNEY</th>\n",
       "      <td>0.4553</td>\n",
       "      <td>17.514556</td>\n",
       "      <td>KIDNEY</td>\n",
       "      <td>carcinoma</td>\n",
       "    </tr>\n",
       "    <tr>\n",
       "      <th>...</th>\n",
       "      <td>...</td>\n",
       "      <td>...</td>\n",
       "      <td>...</td>\n",
       "      <td>...</td>\n",
       "    </tr>\n",
       "    <tr>\n",
       "      <th>YD15_SALIVARY_GLAND</th>\n",
       "      <td>0.5833</td>\n",
       "      <td>11.371697</td>\n",
       "      <td>SALIVARY GLAND</td>\n",
       "      <td>carcinoma</td>\n",
       "    </tr>\n",
       "    <tr>\n",
       "      <th>YD38_UPPER_AERODIGESTIVE_TRACT</th>\n",
       "      <td>0.5822</td>\n",
       "      <td>11.212096</td>\n",
       "      <td>UPPER AERODIGESTIVE TRACT</td>\n",
       "      <td>carcinoma</td>\n",
       "    </tr>\n",
       "    <tr>\n",
       "      <th>YD8_UPPER_AERODIGESTIVE_TRACT</th>\n",
       "      <td>0.4779</td>\n",
       "      <td>13.736960</td>\n",
       "      <td>UPPER AERODIGESTIVE TRACT</td>\n",
       "      <td>carcinoma</td>\n",
       "    </tr>\n",
       "    <tr>\n",
       "      <th>ZR751_BREAST</th>\n",
       "      <td>0.3653</td>\n",
       "      <td>10.843867</td>\n",
       "      <td>BREAST</td>\n",
       "      <td>carcinoma</td>\n",
       "    </tr>\n",
       "    <tr>\n",
       "      <th>ZR7530_BREAST</th>\n",
       "      <td>0.3664</td>\n",
       "      <td>10.752528</td>\n",
       "      <td>BREAST</td>\n",
       "      <td>carcinoma</td>\n",
       "    </tr>\n",
       "  </tbody>\n",
       "</table>\n",
       "<p>513 rows × 4 columns</p>\n",
       "</div>"
      ],
      "text/plain": [
       "                                        propensity  flux intensity  \\\n",
       "22RV1_PROSTATE                              0.3547       14.794442   \n",
       "2313287_STOMACH                             0.3046       13.072795   \n",
       "5637_URINARY_TRACT                          0.5422       12.879744   \n",
       "697_HAEMATOPOIETIC_AND_LYMPHOID_TISSUE      0.5623       10.430198   \n",
       "769P_KIDNEY                                 0.4553       17.514556   \n",
       "...                                            ...             ...   \n",
       "YD15_SALIVARY_GLAND                         0.5833       11.371697   \n",
       "YD38_UPPER_AERODIGESTIVE_TRACT              0.5822       11.212096   \n",
       "YD8_UPPER_AERODIGESTIVE_TRACT               0.4779       13.736960   \n",
       "ZR751_BREAST                                0.3653       10.843867   \n",
       "ZR7530_BREAST                               0.3664       10.752528   \n",
       "\n",
       "                                                             Type  \\\n",
       "22RV1_PROSTATE                                           PROSTATE   \n",
       "2313287_STOMACH                                           STOMACH   \n",
       "5637_URINARY_TRACT                                  URINARY TRACT   \n",
       "697_HAEMATOPOIETIC_AND_LYMPHOID_TISSUE                   LYMPHOID   \n",
       "769P_KIDNEY                                                KIDNEY   \n",
       "...                                                           ...   \n",
       "YD15_SALIVARY_GLAND                                SALIVARY GLAND   \n",
       "YD38_UPPER_AERODIGESTIVE_TRACT          UPPER AERODIGESTIVE TRACT   \n",
       "YD8_UPPER_AERODIGESTIVE_TRACT           UPPER AERODIGESTIVE TRACT   \n",
       "ZR751_BREAST                                               BREAST   \n",
       "ZR7530_BREAST                                              BREAST   \n",
       "\n",
       "                                                Histology  \n",
       "22RV1_PROSTATE                                  carcinoma  \n",
       "2313287_STOMACH                                 carcinoma  \n",
       "5637_URINARY_TRACT                              carcinoma  \n",
       "697_HAEMATOPOIETIC_AND_LYMPHOID_TISSUE  lymphoid_neoplasm  \n",
       "769P_KIDNEY                                     carcinoma  \n",
       "...                                                   ...  \n",
       "YD15_SALIVARY_GLAND                             carcinoma  \n",
       "YD38_UPPER_AERODIGESTIVE_TRACT                  carcinoma  \n",
       "YD8_UPPER_AERODIGESTIVE_TRACT                   carcinoma  \n",
       "ZR751_BREAST                                    carcinoma  \n",
       "ZR7530_BREAST                                   carcinoma  \n",
       "\n",
       "[513 rows x 4 columns]"
      ]
     },
     "execution_count": 14,
     "metadata": {},
     "output_type": "execute_result"
    }
   ],
   "source": [
    "nc_state['Type'] = nc_state['Type'].str.upper()\n",
    "nc_state"
   ]
  },
  {
   "cell_type": "code",
   "execution_count": 15,
   "id": "64f861aa",
   "metadata": {},
   "outputs": [
    {
     "data": {
      "image/png": "[encoded data removed]",
      "text/plain": [
       "<Figure size 500x500 with 1 Axes>"
      ]
     },
     "metadata": {},
     "output_type": "display_data"
    }
   ],
   "source": [
    "corr, pval = pearsonr(nc_state['propensity'], nc_state['flux intensity'])\n",
    "\n",
    "sns.set_context(\"paper\")\n",
    "\n",
    "# Creazione del plot\n",
    "plt.figure(figsize=(5, 5))\n",
    "ax = sns.regplot(\n",
    "    x='propensity',\n",
    "    y='flux intensity',\n",
    "    data=nc_state,\n",
    "    ci=None,\n",
    "    scatter_kws={'s': 10},\n",
    "    line_kws={'color': 'black'}\n",
    ")\n",
    "\n",
    "plt.xlabel('Cycle Propensity', fontsize=12, fontweight='bold')\n",
    "plt.ylabel('Flux Intensity', fontsize=12, fontweight='bold')\n",
    "\n",
    "# Annotazione della correlazione (posizionamento relativo all’asse)\n",
    "plt.text(0.6, 0.95, f\"$\\\\rho$ = {corr:.2f}, p = {pval:.1e}\",\n",
    "         transform=ax.transAxes,\n",
    "         fontsize=10,\n",
    "         verticalalignment='top')\n",
    "\n",
    "plt.tight_layout()\n",
    "plt.show()\n"
   ]
  },
  {
   "cell_type": "markdown",
   "id": "78d898c9",
   "metadata": {},
   "source": [
    "### Flux mean"
   ]
  },
  {
   "cell_type": "code",
   "execution_count": null,
   "id": "3af18c31",
   "metadata": {},
   "outputs": [
    {
     "data": {
      "application/vnd.microsoft.datawrangler.viewer.v0+json": {
       "columns": [
        {
         "name": "index",
         "rawType": "object",
         "type": "string"
        },
        {
         "name": "EX_lac__L_e",
         "rawType": "float64",
         "type": "float"
        },
        {
         "name": "EX_glc__D_e",
         "rawType": "float64",
         "type": "float"
        },
        {
         "name": "EX_glu__L_e",
         "rawType": "float64",
         "type": "float"
        },
        {
         "name": "EX_gln__L_e",
         "rawType": "float64",
         "type": "float"
        },
        {
         "name": "EX_asp__L_e",
         "rawType": "float64",
         "type": "float"
        },
        {
         "name": "EX_co2_e",
         "rawType": "float64",
         "type": "float"
        },
        {
         "name": "EX_h_e",
         "rawType": "float64",
         "type": "float"
        },
        {
         "name": "EX_h2o_e",
         "rawType": "float64",
         "type": "float"
        },
        {
         "name": "EX_pi_e",
         "rawType": "float64",
         "type": "float"
        },
        {
         "name": "EX_nh4_e",
         "rawType": "float64",
         "type": "float"
        },
        {
         "name": "EX_o2_e",
         "rawType": "float64",
         "type": "float"
        },
        {
         "name": "EX_arg__L_e",
         "rawType": "float64",
         "type": "float"
        },
        {
         "name": "EX_pro__L_e",
         "rawType": "float64",
         "type": "float"
        },
        {
         "name": "EX_leu__L_e",
         "rawType": "float64",
         "type": "float"
        },
        {
         "name": "EX_ile__L_e",
         "rawType": "float64",
         "type": "float"
        },
        {
         "name": "EX_met__L_e",
         "rawType": "float64",
         "type": "float"
        },
        {
         "name": "EX_gly_e",
         "rawType": "float64",
         "type": "float"
        },
        {
         "name": "EX_phe__L_e",
         "rawType": "float64",
         "type": "float"
        },
        {
         "name": "EX_ser__L_e",
         "rawType": "float64",
         "type": "float"
        },
        {
         "name": "EX_ala__L_e",
         "rawType": "float64",
         "type": "float"
        },
        {
         "name": "EX_asn__L_e",
         "rawType": "float64",
         "type": "float"
        },
        {
         "name": "EX_fol_e",
         "rawType": "float64",
         "type": "float"
        },
        {
         "name": "EX_urea_e",
         "rawType": "float64",
         "type": "float"
        },
        {
         "name": "EX_pyr_e",
         "rawType": "float64",
         "type": "float"
        },
        {
         "name": "PYRt2",
         "rawType": "float64",
         "type": "float"
        },
        {
         "name": "EX_gudac_e",
         "rawType": "float64",
         "type": "float"
        },
        {
         "name": "EX_hdca_e",
         "rawType": "float64",
         "type": "float"
        },
        {
         "name": "EX_ptrc_e",
         "rawType": "float64",
         "type": "float"
        },
        {
         "name": "EX_biomassx",
         "rawType": "float64",
         "type": "float"
        },
        {
         "name": "EX_gthox_e",
         "rawType": "float64",
         "type": "float"
        },
        {
         "name": "EX_2obut_e",
         "rawType": "float64",
         "type": "float"
        },
        {
         "name": "EX_val__L_e",
         "rawType": "float64",
         "type": "float"
        },
        {
         "name": "EX_spmd_e",
         "rawType": "float64",
         "type": "float"
        },
        {
         "name": "EX_sprm_e",
         "rawType": "float64",
         "type": "float"
        },
        {
         "name": "EX_5mthf_e",
         "rawType": "float64",
         "type": "float"
        },
        {
         "name": "EX_thbpt_e",
         "rawType": "float64",
         "type": "float"
        },
        {
         "name": "EX_CE2705_e",
         "rawType": "float64",
         "type": "float"
        },
        {
         "name": "EX_crtn_e",
         "rawType": "float64",
         "type": "float"
        },
        {
         "name": "EX_his__L_e",
         "rawType": "float64",
         "type": "float"
        },
        {
         "name": "EX_lys__L_e",
         "rawType": "float64",
         "type": "float"
        },
        {
         "name": "EX_cys__L_e",
         "rawType": "float64",
         "type": "float"
        },
        {
         "name": "EX_so3_e",
         "rawType": "float64",
         "type": "float"
        },
        {
         "name": "EX_thr__L_e",
         "rawType": "float64",
         "type": "float"
        },
        {
         "name": "EX_trp__L_e",
         "rawType": "float64",
         "type": "float"
        },
        {
         "name": "EX_anth_e",
         "rawType": "float64",
         "type": "float"
        },
        {
         "name": "EX_tyr__L_e",
         "rawType": "float64",
         "type": "float"
        },
        {
         "name": "EX_Lcystin_e",
         "rawType": "float64",
         "type": "float"
        },
        {
         "name": "EX_gthrd_e",
         "rawType": "float64",
         "type": "float"
        },
        {
         "name": "HEX1",
         "rawType": "float64",
         "type": "float"
        },
        {
         "name": "G6PP",
         "rawType": "float64",
         "type": "float"
        },
        {
         "name": "PGI",
         "rawType": "float64",
         "type": "float"
        },
        {
         "name": "PFK",
         "rawType": "float64",
         "type": "float"
        },
        {
         "name": "FBP",
         "rawType": "float64",
         "type": "float"
        },
        {
         "name": "FBA",
         "rawType": "float64",
         "type": "float"
        },
        {
         "name": "TPI",
         "rawType": "float64",
         "type": "float"
        },
        {
         "name": "GAPD",
         "rawType": "float64",
         "type": "float"
        },
        {
         "name": "PGK",
         "rawType": "float64",
         "type": "float"
        },
        {
         "name": "DPGM",
         "rawType": "float64",
         "type": "float"
        },
        {
         "name": "DPGase",
         "rawType": "float64",
         "type": "float"
        },
        {
         "name": "PGM",
         "rawType": "float64",
         "type": "float"
        },
        {
         "name": "ENO",
         "rawType": "float64",
         "type": "float"
        },
        {
         "name": "PYK",
         "rawType": "float64",
         "type": "float"
        },
        {
         "name": "LDH_L",
         "rawType": "float64",
         "type": "float"
        },
        {
         "name": "r0407",
         "rawType": "float64",
         "type": "float"
        },
        {
         "name": "PRPPS",
         "rawType": "float64",
         "type": "float"
        },
        {
         "name": "G6PDH2r",
         "rawType": "float64",
         "type": "float"
        },
        {
         "name": "PGL",
         "rawType": "float64",
         "type": "float"
        },
        {
         "name": "GND",
         "rawType": "float64",
         "type": "float"
        },
        {
         "name": "RPI",
         "rawType": "float64",
         "type": "float"
        },
        {
         "name": "TKT2",
         "rawType": "float64",
         "type": "float"
        },
        {
         "name": "RPE",
         "rawType": "float64",
         "type": "float"
        },
        {
         "name": "TKT1",
         "rawType": "float64",
         "type": "float"
        },
        {
         "name": "TALA",
         "rawType": "float64",
         "type": "float"
        },
        {
         "name": "r0408",
         "rawType": "float64",
         "type": "float"
        },
        {
         "name": "PDHm",
         "rawType": "float64",
         "type": "float"
        },
        {
         "name": "PCm",
         "rawType": "float64",
         "type": "float"
        },
        {
         "name": "PEPCK_re",
         "rawType": "float64",
         "type": "float"
        },
        {
         "name": "CSm",
         "rawType": "float64",
         "type": "float"
        },
        {
         "name": "ACONTm",
         "rawType": "float64",
         "type": "float"
        },
        {
         "name": "ICDHxm",
         "rawType": "float64",
         "type": "float"
        },
        {
         "name": "ICDHym",
         "rawType": "float64",
         "type": "float"
        },
        {
         "name": "AKGDm",
         "rawType": "float64",
         "type": "float"
        },
        {
         "name": "SUCOAS1m",
         "rawType": "float64",
         "type": "float"
        },
        {
         "name": "SUCD1m",
         "rawType": "float64",
         "type": "float"
        },
        {
         "name": "FUMm",
         "rawType": "float64",
         "type": "float"
        },
        {
         "name": "MDHm",
         "rawType": "float64",
         "type": "float"
        },
        {
         "name": "ME1m",
         "rawType": "float64",
         "type": "float"
        },
        {
         "name": "ME2m",
         "rawType": "float64",
         "type": "float"
        },
        {
         "name": "ME2",
         "rawType": "float64",
         "type": "float"
        },
        {
         "name": "ACITL",
         "rawType": "float64",
         "type": "float"
        },
        {
         "name": "FUM",
         "rawType": "float64",
         "type": "float"
        },
        {
         "name": "MDH",
         "rawType": "float64",
         "type": "float"
        },
        {
         "name": "AKGMALtm",
         "rawType": "float64",
         "type": "float"
        },
        {
         "name": "ACONT",
         "rawType": "float64",
         "type": "float"
        },
        {
         "name": "ICDHyr",
         "rawType": "float64",
         "type": "float"
        },
        {
         "name": "PPA",
         "rawType": "float64",
         "type": "float"
        },
        {
         "name": "Complex1ROS",
         "rawType": "float64",
         "type": "float"
        },
        {
         "name": "FADH2ETC",
         "rawType": "float64",
         "type": "float"
        },
        {
         "name": "CYOR_u10mi",
         "rawType": "float64",
         "type": "float"
        },
        {
         "name": "CYOOm2i",
         "rawType": "float64",
         "type": "float"
        },
        {
         "name": "ATPS4mi",
         "rawType": "float64",
         "type": "float"
        },
        {
         "name": "GLUCYS",
         "rawType": "float64",
         "type": "float"
        },
        {
         "name": "GTHS",
         "rawType": "float64",
         "type": "float"
        },
        {
         "name": "SPODMm",
         "rawType": "float64",
         "type": "float"
        },
        {
         "name": "GTHPi",
         "rawType": "float64",
         "type": "float"
        },
        {
         "name": "GTHPm",
         "rawType": "float64",
         "type": "float"
        },
        {
         "name": "GDR",
         "rawType": "float64",
         "type": "float"
        },
        {
         "name": "GTHOr",
         "rawType": "float64",
         "type": "float"
        },
        {
         "name": "GDRm",
         "rawType": "float64",
         "type": "float"
        },
        {
         "name": "GTHOm",
         "rawType": "float64",
         "type": "float"
        },
        {
         "name": "r0885",
         "rawType": "float64",
         "type": "float"
        },
        {
         "name": "PYRt2m",
         "rawType": "float64",
         "type": "float"
        },
        {
         "name": "HMR_4964",
         "rawType": "float64",
         "type": "float"
        },
        {
         "name": "r2420",
         "rawType": "float64",
         "type": "float"
        },
        {
         "name": "ATPtm",
         "rawType": "float64",
         "type": "float"
        },
        {
         "name": "FUMtm",
         "rawType": "float64",
         "type": "float"
        },
        {
         "name": "CO2tm",
         "rawType": "float64",
         "type": "float"
        },
        {
         "name": "O2tm",
         "rawType": "float64",
         "type": "float"
        },
        {
         "name": "r0801",
         "rawType": "float64",
         "type": "float"
        },
        {
         "name": "THD1m",
         "rawType": "float64",
         "type": "float"
        },
        {
         "name": "H2Otm",
         "rawType": "float64",
         "type": "float"
        },
        {
         "name": "NH4tm",
         "rawType": "float64",
         "type": "float"
        },
        {
         "name": "HCO3E",
         "rawType": "float64",
         "type": "float"
        },
        {
         "name": "HCO3Em",
         "rawType": "float64",
         "type": "float"
        },
        {
         "name": "GLUN",
         "rawType": "float64",
         "type": "float"
        },
        {
         "name": "GLNS",
         "rawType": "float64",
         "type": "float"
        },
        {
         "name": "GLUt2m",
         "rawType": "float64",
         "type": "float"
        },
        {
         "name": "GLNtm_1",
         "rawType": "float64",
         "type": "float"
        },
        {
         "name": "GLUNm",
         "rawType": "float64",
         "type": "float"
        },
        {
         "name": "GLUPRT",
         "rawType": "float64",
         "type": "float"
        },
        {
         "name": "PRAGSr",
         "rawType": "float64",
         "type": "float"
        },
        {
         "name": "GARFT",
         "rawType": "float64",
         "type": "float"
        },
        {
         "name": "PRFGS",
         "rawType": "float64",
         "type": "float"
        },
        {
         "name": "PRAIS",
         "rawType": "float64",
         "type": "float"
        },
        {
         "name": "AIRCr",
         "rawType": "float64",
         "type": "float"
        },
        {
         "name": "PRASCSi",
         "rawType": "float64",
         "type": "float"
        },
        {
         "name": "ADSL2r",
         "rawType": "float64",
         "type": "float"
        },
        {
         "name": "AICART",
         "rawType": "float64",
         "type": "float"
        },
        {
         "name": "IMPC",
         "rawType": "float64",
         "type": "float"
        },
        {
         "name": "ADSS",
         "rawType": "float64",
         "type": "float"
        },
        {
         "name": "ADSL1r",
         "rawType": "float64",
         "type": "float"
        },
        {
         "name": "IMPDH2",
         "rawType": "float64",
         "type": "float"
        },
        {
         "name": "GMPS",
         "rawType": "float64",
         "type": "float"
        },
        {
         "name": "GMPS2",
         "rawType": "float64",
         "type": "float"
        },
        {
         "name": "GK1",
         "rawType": "float64",
         "type": "float"
        },
        {
         "name": "RNDR2",
         "rawType": "float64",
         "type": "float"
        },
        {
         "name": "ADK1",
         "rawType": "float64",
         "type": "float"
        },
        {
         "name": "RNDR1",
         "rawType": "float64",
         "type": "float"
        },
        {
         "name": "CBPS",
         "rawType": "float64",
         "type": "float"
        },
        {
         "name": "ASPCT",
         "rawType": "float64",
         "type": "float"
        },
        {
         "name": "DHORTS",
         "rawType": "float64",
         "type": "float"
        },
        {
         "name": "DHORD9",
         "rawType": "float64",
         "type": "float"
        },
        {
         "name": "ORPT",
         "rawType": "float64",
         "type": "float"
        },
        {
         "name": "OMPDC",
         "rawType": "float64",
         "type": "float"
        },
        {
         "name": "UMPK",
         "rawType": "float64",
         "type": "float"
        },
        {
         "name": "RNDR4",
         "rawType": "float64",
         "type": "float"
        },
        {
         "name": "TMDS",
         "rawType": "float64",
         "type": "float"
        },
        {
         "name": "URIDK2r",
         "rawType": "float64",
         "type": "float"
        },
        {
         "name": "NDPK2",
         "rawType": "float64",
         "type": "float"
        },
        {
         "name": "NDPK3",
         "rawType": "float64",
         "type": "float"
        },
        {
         "name": "CTPS1",
         "rawType": "float64",
         "type": "float"
        },
        {
         "name": "RNDR3",
         "rawType": "float64",
         "type": "float"
        },
        {
         "name": "GDHm",
         "rawType": "float64",
         "type": "float"
        },
        {
         "name": "GLUDym",
         "rawType": "float64",
         "type": "float"
        },
        {
         "name": "ASPTA",
         "rawType": "float64",
         "type": "float"
        },
        {
         "name": "ASPTAm",
         "rawType": "float64",
         "type": "float"
        },
        {
         "name": "ASPGLUm",
         "rawType": "float64",
         "type": "float"
        },
        {
         "name": "ASPT",
         "rawType": "float64",
         "type": "float"
        },
        {
         "name": "CBPSam",
         "rawType": "float64",
         "type": "float"
        },
        {
         "name": "OCBTm",
         "rawType": "float64",
         "type": "float"
        },
        {
         "name": "ORNt4m",
         "rawType": "float64",
         "type": "float"
        },
        {
         "name": "ARGSS",
         "rawType": "float64",
         "type": "float"
        },
        {
         "name": "ARGSL",
         "rawType": "float64",
         "type": "float"
        },
        {
         "name": "ARGN",
         "rawType": "float64",
         "type": "float"
        },
        {
         "name": "ORNDC",
         "rawType": "float64",
         "type": "float"
        },
        {
         "name": "SPMS",
         "rawType": "float64",
         "type": "float"
        },
        {
         "name": "SPRMS",
         "rawType": "float64",
         "type": "float"
        },
        {
         "name": "ADMDC",
         "rawType": "float64",
         "type": "float"
        },
        {
         "name": "MTAP",
         "rawType": "float64",
         "type": "float"
        },
        {
         "name": "ADPT",
         "rawType": "float64",
         "type": "float"
        },
        {
         "name": "MTRI",
         "rawType": "float64",
         "type": "float"
        },
        {
         "name": "MDRPD",
         "rawType": "float64",
         "type": "float"
        },
        {
         "name": "DKMPPD",
         "rawType": "float64",
         "type": "float"
        },
        {
         "name": "SPMDtex2",
         "rawType": "float64",
         "type": "float"
        },
        {
         "name": "SPRMti",
         "rawType": "float64",
         "type": "float"
        },
        {
         "name": "GLYAMDTRc",
         "rawType": "float64",
         "type": "float"
        },
        {
         "name": "ARGDr",
         "rawType": "float64",
         "type": "float"
        },
        {
         "name": "r0074",
         "rawType": "float64",
         "type": "float"
        },
        {
         "name": "GLU5SAtmc",
         "rawType": "float64",
         "type": "float"
        },
        {
         "name": "G5SADs",
         "rawType": "float64",
         "type": "float"
        },
        {
         "name": "PRO1x",
         "rawType": "float64",
         "type": "float"
        },
        {
         "name": "P5CR",
         "rawType": "float64",
         "type": "float"
        },
        {
         "name": "PROD2",
         "rawType": "float64",
         "type": "float"
        },
        {
         "name": "TransportFAD",
         "rawType": "float64",
         "type": "float"
        },
        {
         "name": "ASNS1",
         "rawType": "float64",
         "type": "float"
        },
        {
         "name": "ASNN",
         "rawType": "float64",
         "type": "float"
        },
        {
         "name": "METS",
         "rawType": "float64",
         "type": "float"
        },
        {
         "name": "METAT",
         "rawType": "float64",
         "type": "float"
        },
        {
         "name": "HMR_3915",
         "rawType": "float64",
         "type": "float"
        },
        {
         "name": "AHCi",
         "rawType": "float64",
         "type": "float"
        },
        {
         "name": "ADNK1",
         "rawType": "float64",
         "type": "float"
        },
        {
         "name": "CYSTS",
         "rawType": "float64",
         "type": "float"
        },
        {
         "name": "CYSTGL",
         "rawType": "float64",
         "type": "float"
        },
        {
         "name": "MTHFR3",
         "rawType": "float64",
         "type": "float"
        },
        {
         "name": "UNK2",
         "rawType": "float64",
         "type": "float"
        },
        {
         "name": "UNK3",
         "rawType": "float64",
         "type": "float"
        },
        {
         "name": "5MTHFt",
         "rawType": "float64",
         "type": "float"
        },
        {
         "name": "ILETA",
         "rawType": "float64",
         "type": "float"
        },
        {
         "name": "3MOPt2im",
         "rawType": "float64",
         "type": "float"
        },
        {
         "name": "ILETAm",
         "rawType": "float64",
         "type": "float"
        },
        {
         "name": "LEUTA",
         "rawType": "float64",
         "type": "float"
        },
        {
         "name": "4MOPt2im",
         "rawType": "float64",
         "type": "float"
        },
        {
         "name": "LEUTAm",
         "rawType": "float64",
         "type": "float"
        },
        {
         "name": "OIVD1m",
         "rawType": "float64",
         "type": "float"
        },
        {
         "name": "ACOAD8m",
         "rawType": "float64",
         "type": "float"
        },
        {
         "name": "MCCCrm",
         "rawType": "float64",
         "type": "float"
        },
        {
         "name": "MGCHrm",
         "rawType": "float64",
         "type": "float"
        },
        {
         "name": "HMGCOAtm",
         "rawType": "float64",
         "type": "float"
        },
        {
         "name": "VALTA",
         "rawType": "float64",
         "type": "float"
        },
        {
         "name": "3MOBt2im",
         "rawType": "float64",
         "type": "float"
        },
        {
         "name": "VALTAim",
         "rawType": "float64",
         "type": "float"
        },
        {
         "name": "OIVD2m",
         "rawType": "float64",
         "type": "float"
        },
        {
         "name": "ACOAD9m",
         "rawType": "float64",
         "type": "float"
        },
        {
         "name": "ECOAH12m",
         "rawType": "float64",
         "type": "float"
        },
        {
         "name": "3HBCOAHLm",
         "rawType": "float64",
         "type": "float"
        },
        {
         "name": "HIBDm",
         "rawType": "float64",
         "type": "float"
        },
        {
         "name": "r0643",
         "rawType": "float64",
         "type": "float"
        },
        {
         "name": "MMSAD1m",
         "rawType": "float64",
         "type": "float"
        },
        {
         "name": "MMTSADm",
         "rawType": "float64",
         "type": "float"
        },
        {
         "name": "PCC",
         "rawType": "float64",
         "type": "float"
        },
        {
         "name": "MMALH",
         "rawType": "float64",
         "type": "float"
        },
        {
         "name": "MMEm",
         "rawType": "float64",
         "type": "float"
        },
        {
         "name": "MMMm",
         "rawType": "float64",
         "type": "float"
        },
        {
         "name": "ILEtmi",
         "rawType": "float64",
         "type": "float"
        },
        {
         "name": "LEUt5m",
         "rawType": "float64",
         "type": "float"
        },
        {
         "name": "VALt5m",
         "rawType": "float64",
         "type": "float"
        },
        {
         "name": "PGCD",
         "rawType": "float64",
         "type": "float"
        },
        {
         "name": "PSERT",
         "rawType": "float64",
         "type": "float"
        },
        {
         "name": "PSP_L",
         "rawType": "float64",
         "type": "float"
        },
        {
         "name": "GHMT2r",
         "rawType": "float64",
         "type": "float"
        },
        {
         "name": "SERD_L",
         "rawType": "float64",
         "type": "float"
        },
        {
         "name": "ALATA_L",
         "rawType": "float64",
         "type": "float"
        },
        {
         "name": "r1435",
         "rawType": "float64",
         "type": "float"
        },
        {
         "name": "GLYtm",
         "rawType": "float64",
         "type": "float"
        },
        {
         "name": "GHMT2rm",
         "rawType": "float64",
         "type": "float"
        },
        {
         "name": "MLTHFtm",
         "rawType": "float64",
         "type": "float"
        },
        {
         "name": "r0962",
         "rawType": "float64",
         "type": "float"
        },
        {
         "name": "FORtm",
         "rawType": "float64",
         "type": "float"
        },
        {
         "name": "r0514",
         "rawType": "float64",
         "type": "float"
        },
        {
         "name": "DHFRim",
         "rawType": "float64",
         "type": "float"
        },
        {
         "name": "FTHFLmi",
         "rawType": "float64",
         "type": "float"
        },
        {
         "name": "MTHFCm",
         "rawType": "float64",
         "type": "float"
        },
        {
         "name": "MTHFDm",
         "rawType": "float64",
         "type": "float"
        },
        {
         "name": "FOLR2",
         "rawType": "float64",
         "type": "float"
        },
        {
         "name": "DHFR",
         "rawType": "float64",
         "type": "float"
        },
        {
         "name": "FTHFLi",
         "rawType": "float64",
         "type": "float"
        },
        {
         "name": "FTHFDH",
         "rawType": "float64",
         "type": "float"
        },
        {
         "name": "MTHFC",
         "rawType": "float64",
         "type": "float"
        },
        {
         "name": "MTHFD",
         "rawType": "float64",
         "type": "float"
        },
        {
         "name": "MTHFD2i",
         "rawType": "float64",
         "type": "float"
        },
        {
         "name": "ACACT1r",
         "rawType": "float64",
         "type": "float"
        },
        {
         "name": "HMGCOAS",
         "rawType": "float64",
         "type": "float"
        },
        {
         "name": "HMGCOAR",
         "rawType": "float64",
         "type": "float"
        },
        {
         "name": "MEVK1",
         "rawType": "float64",
         "type": "float"
        },
        {
         "name": "PMEVK",
         "rawType": "float64",
         "type": "float"
        },
        {
         "name": "IPDDI",
         "rawType": "float64",
         "type": "float"
        },
        {
         "name": "DPMVD",
         "rawType": "float64",
         "type": "float"
        },
        {
         "name": "DMATT",
         "rawType": "float64",
         "type": "float"
        },
        {
         "name": "GRTT",
         "rawType": "float64",
         "type": "float"
        },
        {
         "name": "HMR_1465",
         "rawType": "float64",
         "type": "float"
        },
        {
         "name": "HMR_1467",
         "rawType": "float64",
         "type": "float"
        },
        {
         "name": "SMO",
         "rawType": "float64",
         "type": "float"
        },
        {
         "name": "LNSTLS",
         "rawType": "float64",
         "type": "float"
        },
        {
         "name": "HMR_1477",
         "rawType": "float64",
         "type": "float"
        },
        {
         "name": "HMR_1478",
         "rawType": "float64",
         "type": "float"
        },
        {
         "name": "HMR_1479",
         "rawType": "float64",
         "type": "float"
        },
        {
         "name": "C14STR",
         "rawType": "float64",
         "type": "float"
        },
        {
         "name": "HMR_1490",
         "rawType": "float64",
         "type": "float"
        },
        {
         "name": "HMR_1493",
         "rawType": "float64",
         "type": "float"
        },
        {
         "name": "HMR_1494",
         "rawType": "float64",
         "type": "float"
        },
        {
         "name": "C3STDH1",
         "rawType": "float64",
         "type": "float"
        },
        {
         "name": "HMR_1495",
         "rawType": "float64",
         "type": "float"
        },
        {
         "name": "HMR_1500",
         "rawType": "float64",
         "type": "float"
        },
        {
         "name": "HMR_1502",
         "rawType": "float64",
         "type": "float"
        },
        {
         "name": "HMR_1503",
         "rawType": "float64",
         "type": "float"
        },
        {
         "name": "HMR_1504",
         "rawType": "float64",
         "type": "float"
        },
        {
         "name": "HMR_1505",
         "rawType": "float64",
         "type": "float"
        },
        {
         "name": "HMR_1509",
         "rawType": "float64",
         "type": "float"
        },
        {
         "name": "CHLSTI_1",
         "rawType": "float64",
         "type": "float"
        },
        {
         "name": "HMR_1516",
         "rawType": "float64",
         "type": "float"
        },
        {
         "name": "RE2410C",
         "rawType": "float64",
         "type": "float"
        },
        {
         "name": "DSMSTOLR",
         "rawType": "float64",
         "type": "float"
        },
        {
         "name": "ACCOAC",
         "rawType": "float64",
         "type": "float"
        },
        {
         "name": "FASN",
         "rawType": "float64",
         "type": "float"
        },
        {
         "name": "MCAT",
         "rawType": "float64",
         "type": "float"
        },
        {
         "name": "AcetoacetylACPsynthesis",
         "rawType": "float64",
         "type": "float"
        },
        {
         "name": "r0691",
         "rawType": "float64",
         "type": "float"
        },
        {
         "name": "r0681",
         "rawType": "float64",
         "type": "float"
        },
        {
         "name": "r0682",
         "rawType": "float64",
         "type": "float"
        },
        {
         "name": "r0760",
         "rawType": "float64",
         "type": "float"
        },
        {
         "name": "r0761",
         "rawType": "float64",
         "type": "float"
        },
        {
         "name": "r0762",
         "rawType": "float64",
         "type": "float"
        },
        {
         "name": "r0763",
         "rawType": "float64",
         "type": "float"
        },
        {
         "name": "r0764",
         "rawType": "float64",
         "type": "float"
        },
        {
         "name": "r0694",
         "rawType": "float64",
         "type": "float"
        },
        {
         "name": "r0695",
         "rawType": "float64",
         "type": "float"
        },
        {
         "name": "r0765",
         "rawType": "float64",
         "type": "float"
        },
        {
         "name": "r0766",
         "rawType": "float64",
         "type": "float"
        },
        {
         "name": "r0692",
         "rawType": "float64",
         "type": "float"
        },
        {
         "name": "r0693",
         "rawType": "float64",
         "type": "float"
        },
        {
         "name": "r0767",
         "rawType": "float64",
         "type": "float"
        },
        {
         "name": "r0768",
         "rawType": "float64",
         "type": "float"
        },
        {
         "name": "r0769",
         "rawType": "float64",
         "type": "float"
        },
        {
         "name": "r0770",
         "rawType": "float64",
         "type": "float"
        },
        {
         "name": "r0712",
         "rawType": "float64",
         "type": "float"
        },
        {
         "name": "r0713",
         "rawType": "float64",
         "type": "float"
        },
        {
         "name": "r0701",
         "rawType": "float64",
         "type": "float"
        },
        {
         "name": "r0702",
         "rawType": "float64",
         "type": "float"
        },
        {
         "name": "r0771",
         "rawType": "float64",
         "type": "float"
        },
        {
         "name": "r0772",
         "rawType": "float64",
         "type": "float"
        },
        {
         "name": "r0696",
         "rawType": "float64",
         "type": "float"
        },
        {
         "name": "r0697",
         "rawType": "float64",
         "type": "float"
        },
        {
         "name": "r0773",
         "rawType": "float64",
         "type": "float"
        },
        {
         "name": "FA160ACPH",
         "rawType": "float64",
         "type": "float"
        },
        {
         "name": "palmitateActivation",
         "rawType": "float64",
         "type": "float"
        },
        {
         "name": "carnitineAcylTransferaseI",
         "rawType": "float64",
         "type": "float"
        },
        {
         "name": "CARN160t_m",
         "rawType": "float64",
         "type": "float"
        },
        {
         "name": "carnitineAcylTransferaseII",
         "rawType": "float64",
         "type": "float"
        },
        {
         "name": "betaOxidation",
         "rawType": "float64",
         "type": "float"
        },
        {
         "name": "Biomass",
         "rawType": "float64",
         "type": "float"
        },
        {
         "name": "GLCt1",
         "rawType": "float64",
         "type": "float"
        },
        {
         "name": "O2t",
         "rawType": "float64",
         "type": "float"
        },
        {
         "name": "gln_L_t",
         "rawType": "float64",
         "type": "float"
        },
        {
         "name": "r0963",
         "rawType": "float64",
         "type": "float"
        },
        {
         "name": "THBPTt",
         "rawType": "float64",
         "type": "float"
        },
        {
         "name": "arg_L_t",
         "rawType": "float64",
         "type": "float"
        },
        {
         "name": "phe_L_t",
         "rawType": "float64",
         "type": "float"
        },
        {
         "name": "ile_L_t",
         "rawType": "float64",
         "type": "float"
        },
        {
         "name": "leu_L_t",
         "rawType": "float64",
         "type": "float"
        },
        {
         "name": "val_L_t",
         "rawType": "float64",
         "type": "float"
        },
        {
         "name": "met_L_t",
         "rawType": "float64",
         "type": "float"
        },
        {
         "name": "ser_L_t",
         "rawType": "float64",
         "type": "float"
        },
        {
         "name": "gly_t",
         "rawType": "float64",
         "type": "float"
        },
        {
         "name": "asn_L_t",
         "rawType": "float64",
         "type": "float"
        },
        {
         "name": "pro_L_t",
         "rawType": "float64",
         "type": "float"
        },
        {
         "name": "HDCAt",
         "rawType": "float64",
         "type": "float"
        },
        {
         "name": "GTHRDt2",
         "rawType": "float64",
         "type": "float"
        },
        {
         "name": "DmLact",
         "rawType": "float64",
         "type": "float"
        },
        {
         "name": "UREAt",
         "rawType": "float64",
         "type": "float"
        },
        {
         "name": "DmBiomass",
         "rawType": "float64",
         "type": "float"
        },
        {
         "name": "NH4t",
         "rawType": "float64",
         "type": "float"
        },
        {
         "name": "PTRCtex2",
         "rawType": "float64",
         "type": "float"
        },
        {
         "name": "GUDACtr2",
         "rawType": "float64",
         "type": "float"
        },
        {
         "name": "CE2705t",
         "rawType": "float64",
         "type": "float"
        },
        {
         "name": "Dm2oxobutyrate",
         "rawType": "float64",
         "type": "float"
        },
        {
         "name": "H2Ot",
         "rawType": "float64",
         "type": "float"
        },
        {
         "name": "PHLACHt",
         "rawType": "float64",
         "type": "float"
        },
        {
         "name": "CO2t",
         "rawType": "float64",
         "type": "float"
        },
        {
         "name": "DmGSSG",
         "rawType": "float64",
         "type": "float"
        },
        {
         "name": "glu_L_t",
         "rawType": "float64",
         "type": "float"
        },
        {
         "name": "ala_L_t",
         "rawType": "float64",
         "type": "float"
        },
        {
         "name": "asp_L_t",
         "rawType": "float64",
         "type": "float"
        },
        {
         "name": "ATPM",
         "rawType": "float64",
         "type": "float"
        },
        {
         "name": "GACMTRc",
         "rawType": "float64",
         "type": "float"
        },
        {
         "name": "CKc_cho",
         "rawType": "float64",
         "type": "float"
        },
        {
         "name": "CRTNsyn_cho",
         "rawType": "float64",
         "type": "float"
        },
        {
         "name": "CRTNtr",
         "rawType": "float64",
         "type": "float"
        },
        {
         "name": "NDPK1",
         "rawType": "float64",
         "type": "float"
        },
        {
         "name": "NDPK5",
         "rawType": "float64",
         "type": "float"
        },
        {
         "name": "NDPK8",
         "rawType": "float64",
         "type": "float"
        },
        {
         "name": "NDPK7",
         "rawType": "float64",
         "type": "float"
        },
        {
         "name": "DTMPK",
         "rawType": "float64",
         "type": "float"
        },
        {
         "name": "NDPK4",
         "rawType": "float64",
         "type": "float"
        },
        {
         "name": "his_L_t",
         "rawType": "float64",
         "type": "float"
        },
        {
         "name": "PTRCOX1",
         "rawType": "float64",
         "type": "float"
        },
        {
         "name": "ABUTD",
         "rawType": "float64",
         "type": "float"
        },
        {
         "name": "r0465_1",
         "rawType": "float64",
         "type": "float"
        },
        {
         "name": "ABUTH",
         "rawType": "float64",
         "type": "float"
        },
        {
         "name": "GLUDC",
         "rawType": "float64",
         "type": "float"
        },
        {
         "name": "HISDr",
         "rawType": "float64",
         "type": "float"
        },
        {
         "name": "URCN",
         "rawType": "float64",
         "type": "float"
        },
        {
         "name": "IZPN",
         "rawType": "float64",
         "type": "float"
        },
        {
         "name": "GluForTx",
         "rawType": "float64",
         "type": "float"
        },
        {
         "name": "FTCD",
         "rawType": "float64",
         "type": "float"
        },
        {
         "name": "NBAHH_ir",
         "rawType": "float64",
         "type": "float"
        },
        {
         "name": "r0283",
         "rawType": "float64",
         "type": "float"
        },
        {
         "name": "ASP1DC",
         "rawType": "float64",
         "type": "float"
        },
        {
         "name": "lys_L_t",
         "rawType": "float64",
         "type": "float"
        },
        {
         "name": "LYStm",
         "rawType": "float64",
         "type": "float"
        },
        {
         "name": "SACCD3m",
         "rawType": "float64",
         "type": "float"
        },
        {
         "name": "r0525",
         "rawType": "float64",
         "type": "float"
        },
        {
         "name": "AASAD3m",
         "rawType": "float64",
         "type": "float"
        },
        {
         "name": "r0450",
         "rawType": "float64",
         "type": "float"
        },
        {
         "name": "2OXOADOXm",
         "rawType": "float64",
         "type": "float"
        },
        {
         "name": "GLUTCOADHm",
         "rawType": "float64",
         "type": "float"
        },
        {
         "name": "3HBCDm",
         "rawType": "float64",
         "type": "float"
        },
        {
         "name": "HACD1m",
         "rawType": "float64",
         "type": "float"
        },
        {
         "name": "HMGCOASm",
         "rawType": "float64",
         "type": "float"
        },
        {
         "name": "cys_L_t",
         "rawType": "float64",
         "type": "float"
        },
        {
         "name": "CYSO",
         "rawType": "float64",
         "type": "float"
        },
        {
         "name": "3SALATAi",
         "rawType": "float64",
         "type": "float"
        },
        {
         "name": "3SALAASPm",
         "rawType": "float64",
         "type": "float"
        },
        {
         "name": "3SALATAim",
         "rawType": "float64",
         "type": "float"
        },
        {
         "name": "3SPYRSP",
         "rawType": "float64",
         "type": "float"
        },
        {
         "name": "3SPYRSPm",
         "rawType": "float64",
         "type": "float"
        },
        {
         "name": "HMR_3951",
         "rawType": "float64",
         "type": "float"
        },
        {
         "name": "ExSulfitem",
         "rawType": "float64",
         "type": "float"
        },
        {
         "name": "PHETHPTOX2",
         "rawType": "float64",
         "type": "float"
        },
        {
         "name": "tyr_L_t",
         "rawType": "float64",
         "type": "float"
        },
        {
         "name": "TYRTA",
         "rawType": "float64",
         "type": "float"
        },
        {
         "name": "34HPPOR",
         "rawType": "float64",
         "type": "float"
        },
        {
         "name": "HGNTOR",
         "rawType": "float64",
         "type": "float"
        },
        {
         "name": "MACACI",
         "rawType": "float64",
         "type": "float"
        },
        {
         "name": "FUMAC",
         "rawType": "float64",
         "type": "float"
        },
        {
         "name": "AACOAT",
         "rawType": "float64",
         "type": "float"
        },
        {
         "name": "thr_L_t",
         "rawType": "float64",
         "type": "float"
        },
        {
         "name": "THRD_L",
         "rawType": "float64",
         "type": "float"
        },
        {
         "name": "OBDHc",
         "rawType": "float64",
         "type": "float"
        },
        {
         "name": "PPCOAtm",
         "rawType": "float64",
         "type": "float"
        },
        {
         "name": "trp_L_t",
         "rawType": "float64",
         "type": "float"
        },
        {
         "name": "TRPO2",
         "rawType": "float64",
         "type": "float"
        },
        {
         "name": "FKYNH",
         "rawType": "float64",
         "type": "float"
        },
        {
         "name": "KYN",
         "rawType": "float64",
         "type": "float"
        },
        {
         "name": "ANTHte",
         "rawType": "float64",
         "type": "float"
        },
        {
         "name": "KYN3OX",
         "rawType": "float64",
         "type": "float"
        },
        {
         "name": "HKYNH",
         "rawType": "float64",
         "type": "float"
        },
        {
         "name": "3HAO",
         "rawType": "float64",
         "type": "float"
        },
        {
         "name": "PCLAD",
         "rawType": "float64",
         "type": "float"
        },
        {
         "name": "AM6SAD",
         "rawType": "float64",
         "type": "float"
        },
        {
         "name": "AMCOXO",
         "rawType": "float64",
         "type": "float"
        },
        {
         "name": "2OXOADPTm",
         "rawType": "float64",
         "type": "float"
        },
        {
         "name": "CystinePyruvate",
         "rawType": "float64",
         "type": "float"
        },
        {
         "name": "r0027",
         "rawType": "float64",
         "type": "float"
        },
        {
         "name": "HMR_3996",
         "rawType": "float64",
         "type": "float"
        },
        {
         "name": "CYSGLTH",
         "rawType": "float64",
         "type": "float"
        },
        {
         "name": "ACACT1m",
         "rawType": "float64",
         "type": "float"
        },
        {
         "name": "G3PD1ir",
         "rawType": "float64",
         "type": "float"
        },
        {
         "name": "GLYC3Ptm",
         "rawType": "float64",
         "type": "float"
        },
        {
         "name": "G3PDm",
         "rawType": "float64",
         "type": "float"
        },
        {
         "name": "DHAPtm",
         "rawType": "float64",
         "type": "float"
        },
        {
         "name": "Transport_ala_B_c_e",
         "rawType": "float64",
         "type": "float"
        },
        {
         "name": "EX_ala_B_e",
         "rawType": "float64",
         "type": "float"
        },
        {
         "name": "TMDK1",
         "rawType": "float64",
         "type": "float"
        },
        {
         "name": "THYMDt1",
         "rawType": "float64",
         "type": "float"
        },
        {
         "name": "EX_thymd_e",
         "rawType": "float64",
         "type": "float"
        },
        {
         "name": "Transport_HC00576_c_e",
         "rawType": "float64",
         "type": "float"
        },
        {
         "name": "EX_HC00576_e",
         "rawType": "float64",
         "type": "float"
        },
        {
         "name": "Transport_4abut_c_e",
         "rawType": "float64",
         "type": "float"
        },
        {
         "name": "EX_4abut_e",
         "rawType": "float64",
         "type": "float"
        },
        {
         "name": "GLUVESSEC",
         "rawType": "float64",
         "type": "float"
        },
        {
         "name": "EX_chsterol_e",
         "rawType": "float64",
         "type": "float"
        },
        {
         "name": "r1050",
         "rawType": "float64",
         "type": "float"
        },
        {
         "name": "EX_gal_e",
         "rawType": "float64",
         "type": "float"
        },
        {
         "name": "GALt1r",
         "rawType": "float64",
         "type": "float"
        },
        {
         "name": "GALK",
         "rawType": "float64",
         "type": "float"
        },
        {
         "name": "UGLT",
         "rawType": "float64",
         "type": "float"
        },
        {
         "name": "PGMT",
         "rawType": "float64",
         "type": "float"
        },
        {
         "name": "UDPG4E",
         "rawType": "float64",
         "type": "float"
        },
        {
         "name": "t_Lcystin_ala__L",
         "rawType": "float64",
         "type": "float"
        },
        {
         "name": "t_Lcystin_glu__L",
         "rawType": "float64",
         "type": "float"
        },
        {
         "name": "t_Lcystin_leu__L",
         "rawType": "float64",
         "type": "float"
        },
        {
         "name": "t_Lcystin_ser__L",
         "rawType": "float64",
         "type": "float"
        },
        {
         "name": "CSNATr",
         "rawType": "float64",
         "type": "float"
        },
        {
         "name": "CRNCARtm",
         "rawType": "float64",
         "type": "float"
        },
        {
         "name": "CSNATm",
         "rawType": "float64",
         "type": "float"
        },
        {
         "name": "ACS",
         "rawType": "float64",
         "type": "float"
        },
        {
         "name": "ACt2m",
         "rawType": "float64",
         "type": "float"
        },
        {
         "name": "PyrODC",
         "rawType": "float64",
         "type": "float"
        },
        {
         "name": "Incompox_Pyr",
         "rawType": "float64",
         "type": "float"
        }
       ],
       "ref": "b0b5bf1e-fa8f-4e75-80f2-56275f6d51de",
       "rows": [
        [
         "22RV1_PROSTATE",
         "4.733091216576155",
         "-8.53227375669705",
         "-0.1257454829568292",
         "-1.592309771734039",
         "-0.0775603639069196",
         "43.91725389150329",
         "18.66853907118765",
         "29.819425532372115",
         "-0.0538967207086172",
         "3.695611317768674",
         "-37.87084060147097",
         "-0.6739947530409451",
         "0.0271331602991365",
         "-0.1057941358498969",
         "-0.0160826042167577",
         "-0.0419690556791257",
         "0.1902532622371516",
         "-0.0145865427810085",
         "-0.213212117158215",
         "0.5207997965912468",
         "-0.2685289610766191",
         "-0.0006633993358718",
         "0.5714124793059342",
         "0.1351359037489996",
         "-0.1351359037490027",
         "0.0469937081869094",
         "0.0607324761100171",
         "0.2883341829195061",
         "0.0562175498177313",
         "0.0075983589877801",
         "0.0418477124690685",
         "-0.0959881814218507",
         "0.0256375375827812",
         "0.0138411936017576",
         "0.0006633993358731",
         "-9.999999999998683e-17",
         "-9.999999999998683e-17",
         "0.0772116690645118",
         "-0.0356490936215004",
         "-0.1099463513210567",
         "0.1178969961968551",
         "0.0404514685069502",
         "-0.103981799841243",
         "-0.0064845731780754",
         "0.0029531431051207",
         "-0.0198368405459043",
         "-0.2032068117970567",
         "-0.000641162690812",
         "10.022840367750486",
         "1.4905666110534683",
         "-4.258281653529308",
         "3.891540378362643",
         "27.36919382069156",
         "-23.477653442329068",
         "4.214355739982834",
         "12.66503017672338",
         "-1.965349371448567",
         "14.630379548170536",
         "14.630379548170527",
         "9.498823252317614",
         "9.498823252317615",
         "13.767691040519791",
         "4.733091216576151",
         "27.692009182311374",
         "0.0661285875543158",
         "12.775084677822855",
         "12.775084677822854",
         "12.775084677822854",
         "4.3024472843105634",
         "4.236318696756239",
         "8.472637393512475",
         "4.236318696756236",
         "-23.455690485555586",
         "27.692009182311374",
         "2.468118543667223",
         "12.196399367449269",
         "4.268867788202129",
         "17.537293863598116",
         "-83.41667466032203",
         "25.29437889746981",
         "-108.71105355779176",
         "9.883444472276782",
         "10.037532132470838",
         "10.037532132470838",
         "-18.29538085420561",
         "126.20821396371238",
         "2.334594979191229",
         "3.4043823243463973",
         "4.189777261617568",
         "9.2267143187336",
         "32.95823556679793",
         "-121.4741138162761",
         "-49.28860359753492",
         "91.7272542051863",
         "91.7272542051863",
         "12.247130143339636",
         "57.24250541871927",
         "16.72317222220932",
         "71.11001823148582",
         "35.55500911574291",
         "86.95920268604216",
         "0.014555555284748",
         "0.0145555552847481",
         "1.4310626354679867",
         "0.3259851219894255",
         "1.21065803981132",
         "0.2610064244212149",
         "0.0915974981940024",
         "0.9506565121392492",
         "0.2524031686842889",
         "0.0151967179755601",
         "15.651577083860332",
         "100.95396852392024",
         "56.2305305418923",
         "74.51071467812294",
         "-28.332912986676213",
         "70.65609890189126",
         "36.98607175121058",
         "10.03753213247084",
         "127.67902358899264",
         "-138.8445172574353",
         "-0.0471549424744442",
         "3.775936069259024",
         "12.406445927996396",
         "2.182099353820046",
         "7.485285592708087",
         "15.548677698319562",
         "6.250920710066439",
         "6.25092071006644",
         "0.0063428012757374",
         "0.0063428012757374",
         "0.0063428012757374",
         "0.0063428012757374",
         "0.0063428012757375",
         "0.0063428012757376",
         "0.0063428012757376",
         "0.0063428012757376",
         "0.0063428012757376",
         "0.0063428012757376",
         "0.0037559507208739",
         "0.0037559507208739",
         "0.0025868505548638",
         "0.0011939805778628",
         "0.001392869977001",
         "0.0025868505548638",
         "0.0005564413080959",
         "12.0152563099648",
         "0.0007411159592471",
         "0.006465861492281",
         "0.006465861492281",
         "0.006465861492281",
         "0.006465861492281",
         "0.006465861492281",
         "0.006465861492281",
         "0.006465861492281",
         "0.0007359439446581",
         "0.0007359439446581",
         "0.0007359439446581",
         "0.0057299175476226",
         "0.000530806105379",
         "0.0027253143800644",
         "0.000530806105379",
         "15.880248988875474",
         "22.042194936003792",
         "116.51626728574584",
         "120.86731946756466",
         "120.84222972122085",
         "3.9604276893746966",
         "0.0418198204639172",
         "0.0418198204639177",
         "0.0418198204639176",
         "0.6439356106009152",
         "0.6439356106009152",
         "0.5714124793059348",
         "0.6537980360933716",
         "0.0394787311845387",
         "0.0138411936017576",
         "0.0533199247862962",
         "0.0533199247862962",
         "0.0533199247862962",
         "0.0533199247862962",
         "0.0533199247862962",
         "0.0533199247862962",
         "0.0256375375827812",
         "0.0138411936017577",
         "0.1242053772514139",
         "0.6021157901370053",
         "0.0503220001181618",
         "0.0503220001181621",
         "0.0503220001181619",
         "0.5105033977998743",
         "0.2219763086418298",
         "0.682157706323589",
         "0.6821577063235873",
         "0.5823685761170818",
         "0.8351889483357589",
         "1.1172535830366706",
         "1.2039402664640788",
         "1.073408672613214",
         "1.150620341677797",
         "1.1506203416777971",
         "0.0333667586411215",
         "0.0333667586411214",
         "0.044508309759266",
         "0.0233356940475773",
         "0.029984230738719",
         "0.0006633993358731",
         "28.188433639066535",
         "28.188433639066584",
         "-28.188433639066584",
         "0.0145579279045478",
         "0.0145579279045478",
         "0.0605670609475841",
         "0.0751249888521318",
         "0.0751249888521317",
         "0.0751249888521317",
         "0.0751249888521316",
         "0.0779221803607917",
         "0.0128395631660878",
         "0.0128395631660878",
         "0.0633259166671675",
         "0.0761654798332533",
         "0.0761654798332534",
         "0.0761654798332533",
         "0.0761654798332534",
         "0.0761654798332534",
         "0.0233814721275725",
         "0.015179570870469",
         "0.0376044368352151",
         "0.093101751231253",
         "0.0233814721275725",
         "0.1164832233588236",
         "0.1540876601940341",
         "-28.188433639066584",
         "0.060567060947584",
         "0.0633259166671675",
         "3.1662069244049937",
         "3.1662069244049955",
         "3.166206924404994",
         "0.365437967959639",
         "2.9583333614919964",
         "0.5434883089751715",
         "0.0002141597282565",
         "-0.0002141597282565",
         "0.0002141597282565",
         "-0.000436419186187",
         "0.000436419186187",
         "-0.0002222594579304",
         "0.0004364191861871",
         "0.0004364191861871",
         "0.0002222594579305",
         "0.0002222594579305",
         "0.0002222594579305",
         "0.0002269801496848",
         "0.0009629240943429",
         "0.0981058384711685",
         "0.4154646584912664",
         "-0.3300444225715621",
         "112.97471714014888",
         "-113.29534727358715",
         "0.146847075585882",
         "0.1577076037348398",
         "0.2356297840956192",
         "0.2356297840956192",
         "0.2356297840956193",
         "0.0785432613652117",
         "0.2356297840956193",
         "0.0785432613652117",
         "0.0785432613652117",
         "0.0392716306826058",
         "0.0392716306826058",
         "0.0392716306826058",
         "0.0392716306826058",
         "0.0392716306826058",
         "0.0392716306826058",
         "0.0392716306826058",
         "0.0392716306826058",
         "0.0392716306826058",
         "0.0392716306826058",
         "0.0392716306826058",
         "0.0089257500908388",
         "0.0303458805917679",
         "0.039271630682607",
         "0.0392716306826071",
         "0.0392716306826071",
         "0.0392716306826071",
         "0.0392716306826071",
         "0.039271630682607",
         "0.039271630682607",
         "0.039271630682607",
         "0.039271630682607",
         "0.0392716306826071",
         "3.7694702077668407",
         "0.5384957439667488",
         "3.7694702077668394",
         "0.5384957439667486",
         "0.5384957439667486",
         "0.5384957439667486",
         "0.5384957439667486",
         "0.5384957439667486",
         "0.5384957439667486",
         "0.5384957439667486",
         "0.5384957439667486",
         "0.5384957439667486",
         "0.5384957439667486",
         "0.5384957439667486",
         "0.5384957439667486",
         "0.5384957439667486",
         "0.5384957439667486",
         "0.5384957439667486",
         "0.5384957439667486",
         "0.5384957439667486",
         "0.5384957439667486",
         "0.5384957439667486",
         "0.5384957439667486",
         "0.5384957439667486",
         "0.5384957439667486",
         "0.5384957439667486",
         "0.5384957439667486",
         "0.5384957439667486",
         "0.5384957439667486",
         "0.5384957439667486",
         "0.5384957439667488",
         "0.5384957439667488",
         "0.4625261193716347",
         "0.4625261193716351",
         "0.4625261193716351",
         "0.4625261193716351",
         "0.462526119371635",
         "0.0562175498177313",
         "-8.53227375669705",
         "-37.87084060147097",
         "-1.592309771734039",
         "-0.0006633993358718",
         "-9.999999999998683e-17",
         "-0.6739947530409451",
         "-0.0145865427810085",
         "-0.0160826042167577",
         "-0.1531543256958188",
         "-0.0959881814218507",
         "-0.0419690556791257",
         "-0.2599980317554244",
         "0.1902532622371516",
         "-0.2685289610766191",
         "0.0271331602991364",
         "-0.0607324761100172",
         "-0.000641162690812",
         "4.733091216576159",
         "0.5714124793059346",
         "0.0562175498177313",
         "3.695611317768674",
         "0.288334182919506",
         "0.0469937081869095",
         "-9.999999999998683e-17",
         "0.0418477124690686",
         "-29.819425532372115",
         "18.53340316743865",
         "43.91725389150329",
         "0.0075983589877801",
         "0.917369805997791",
         "-0.4557660949882461",
         "-0.0775603639069196",
         "1.9299841064759464",
         "0.0772116690645117",
         "0.0772116690645117",
         "0.0772116690645117",
         "0.0772116690645117",
         "-5.762877984300941",
         "0.0005564413080959",
         "0.0007411159592471",
         "0.000530806105379",
         "0.0007359439446582",
         "0.000735943944664",
         "-0.0356490936215004",
         "0.3259851219894257",
         "0.3259851219894257",
         "1.3241349842981422",
         "1.3050064154085337",
         "0.0497075862520368",
         "0.0094142891296625",
         "0.0094142891296624",
         "0.0094142891296624",
         "0.0094142891296624",
         "0.0094142891296624",
         "0.9638926135103666",
         "0.9638926135103666",
         "0.0406823028919076",
         "-0.1099463513210566",
         "0.0766591530282619",
         "0.0766591530282619",
         "0.076659153028262",
         "0.076659153028262",
         "0.076659153028262",
         "0.0794425523833497",
         "0.0794425523833497",
         "0.0794425523833497",
         "0.0794425523833497",
         "0.0027971915086603",
         "0.1178969961968551",
         "0.04045146850695",
         "0.0153617221650113",
         "0.0250897463419393",
         "0.0250897463419393",
         "0.0153617221650113",
         "0.0250897463419393",
         "0.0153617221650113",
         "0.0250897463419394",
         "-1.2199999999999676e-17",
         "-0.0198368405459043",
         "0.0108605281489549",
         "0.0108605281489549",
         "0.0108605281489549",
         "0.0108605281489549",
         "0.0108605281489549",
         "0.0108605281489549",
         "-0.103981799841243",
         "0.0864031341887398",
         "0.0779221803607841",
         "0.0779221803607842",
         "-0.0064845731780754",
         "0.0057365424602011",
         "0.0057365424602011",
         "0.0029531431051207",
         "0.0029531431051207",
         "0.0027833993550802",
         "0.0027833993550802",
         "0.0027833993550802",
         "0.0027833993550802",
         "0.0027833993550802",
         "0.0027833993550801",
         "0.0027833993550802",
         "0.1321291273670425",
         "0.013452588553587",
         "0.0310062952506316",
         "0.026618800625779",
         "0.076645360874689",
         "2.53506652674503",
         "2.5350665267450023",
         "2.5350665267450023",
         "2.535066526745002",
         "0.0406823028919076",
         "0.0406823028919084",
         "6.247999999999837e-17",
         "-9.999999999998683e-17",
         "-9.999999999998683e-17",
         "0.0191285688895805",
         "0.0191285688895806",
         "0.3565641393518912",
         "0.3565641393518924",
         "0.7475973172901859",
         "0.0381247364487746",
         "-0.0381247364487746",
         "-9.999999999998683e-17",
         "-9.999999999998683e-17",
         "2.4779999999999506e-17",
         "-9.999999999998683e-17",
         "-2.3379999999999224e-17",
         "-9.999999999998683e-17",
         "0.0650337016030492",
         "0.0440270057508269",
         "0.0473601898459169",
         "0.0467859145972503",
         "11.218472834717174",
         "11.218472834717172",
         "11.218472834717176",
         "6.751126222623584",
         "-6.751126222623584",
         "0.2204045956566667",
         "6.530721626966923"
        ],
        [
         "2313287_STOMACH",
         "4.482885571289219",
         "-8.540755710766016",
         "-0.1269807897259572",
         "-1.7005252306334686",
         "-0.0805483793339931",
         "45.14963793868242",
         "6.387747887122077",
         "37.79234753273471",
         "-0.057845552362321",
         "3.833157195245364",
         "-42.55852349807328",
         "-0.6936137956801733",
         "0.032768927450841",
         "-0.1117506439080831",
         "-0.0172609225962407",
         "-0.0391448420840525",
         "0.1704359170156979",
         "-0.0156552497652928",
         "-0.2301441769178802",
         "0.540314379155696",
         "-0.2870276904841263",
         "-0.0004257947123001",
         "0.5795474270176227",
         "0.1285900725336046",
         "-0.1285900725336047",
         "0.0890759151082808",
         "0.0587602577391025",
         "0.238557395149359",
         "0.0603364208231208",
         "0.0075444202846325",
         "0.0346946994921753",
         "-0.0992681718307958",
         "0.027735144749371",
         "0.0139054360866392",
         "0.0004257947122999",
         "-9.999999999998683e-17",
         "-9.999999999998683e-17",
         "0.0844242789496535",
         "-0.0387929877614787",
         "-0.0947142274178026",
         "0.1296488799482826",
         "0.01775724204178",
         "-0.1046620388688554",
         "-0.0042248209031818",
         "0.0024374932425932",
         "-0.0151870663998439",
         "-0.2017132508131248",
         "-0.0015181947064889",
         "10.284649462834",
         "1.7438937520679887",
         "-11.995939838294678",
         "3.955955871397736",
         "31.054690722126548",
         "-27.098734850728967",
         "1.637925628831821",
         "10.092783991225836",
         "-4.26439835436056",
         "14.357182345587644",
         "14.357182345587644",
         "6.456730610200967",
         "6.456730610200967",
         "12.752011323862838",
         "4.482885571289214",
         "28.736660479560484",
         "0.069293127379423",
         "20.52009132806941",
         "20.520091328069423",
         "20.520091328069423",
         "6.886225860942623",
         "6.8169327335631245",
         "13.63386546712625",
         "6.816932733563127",
         "-21.919727745997005",
         "28.736660479560484",
         "6.679229424387369",
         "13.44901444158696",
         "6.29528071366293",
         "12.445924923395896",
         "-94.18649522489515",
         "21.557236302518056",
         "-115.7437315274134",
         "7.780564572290558",
         "7.939570727376215",
         "7.939570727376212",
         "-18.96567611980182",
         "120.15264309829956",
         "1.8628446915942216",
         "3.2587874989485908",
         "4.163678843279649",
         "6.3422589525969695",
         "37.96699425145459",
         "-110.43663600047137",
         "-37.6075312603528",
         "100.29016119569404",
         "100.290161195694",
         "6.685821646039136",
         "36.09842917940015",
         "47.26550022980826",
         "81.56594754367816",
         "40.78297377183909",
         "81.54389307769974",
         "0.013570645862776",
         "0.0135706458627762",
         "0.9024607294850036",
         "0.3917393571499206",
         "0.8034143902508053",
         "0.3007450056379712",
         "0.1171132643407569",
         "0.6631921901919117",
         "0.1326777797742145",
         "0.0150888405692652",
         "15.294647417647424",
         "106.63242014829056",
         "48.80718939232231",
         "67.75777667155464",
         "-26.90524684717838",
         "87.71975953919247",
         "41.685434501323925",
         "7.939570727376215",
         "138.55737632833052",
         "-162.91144389719608",
         "9.796309668034343",
         "4.459157026156916",
         "13.704857858543804",
         "2.7687231320550145",
         "5.060557580110385",
         "15.190124346092048",
         "3.297848349382914",
         "3.2978483493829147",
         "0.0068075170157948",
         "0.0068075170157948",
         "0.0068075170157948",
         "0.0068075170157948",
         "0.0068075170157948",
         "0.0068075170157948",
         "0.0068075170157948",
         "0.0068075170157948",
         "0.0068075170157948",
         "0.0068075170157948",
         "0.0040311366116205",
         "0.0040311366116205",
         "0.0027763804041746",
         "0.0018584743359166",
         "0.0009179060682577",
         "0.0027763804041757",
         "0.0005972098933072",
         "6.476280473112134",
         "0.0007954150355956",
         "0.006939593440975",
         "0.0069395934409752",
         "0.0069395934409748",
         "0.0069395934409748",
         "0.0069395934409746",
         "0.0069395934409746",
         "0.0069395934409746",
         "0.0007898640849955",
         "0.0007898640849955",
         "0.0007898640849955",
         "0.0061497293559756",
         "0.0005696964854119",
         "0.0029249890086639",
         "0.0005696964854119",
         "12.866979789820098",
         "25.880027519296974",
         "110.38965776153572",
         "121.15573261648508",
         "121.14525958896452",
         "10.086034184615777",
         "0.0811102879402711",
         "0.081110287940271",
         "0.081110287940271",
         "0.959321476282567",
         "0.959321476282567",
         "0.579547427017623",
         "0.6719373331352665",
         "0.0416405808360115",
         "0.0139054360866391",
         "0.0555460169226505",
         "0.0555460169226505",
         "0.0555460169226505",
         "0.0555460169226505",
         "0.0555460169226505",
         "0.0555460169226505",
         "0.0277351447493721",
         "0.0139054360866391",
         "0.1735001940579419",
         "0.8782111883422773",
         "0.0576567356576424",
         "0.0576567356576424",
         "0.0576567356576425",
         "3.066769000914717",
         "2.511214164677761",
         "5.5203264299344825",
         "5.520326429934484",
         "0.6163556909134916",
         "0.886523877009205",
         "1.3226604227765657",
         "1.4081187233418435",
         "1.268148427469414",
         "1.3525727064191968",
         "1.3525727064191968",
         "0.029912283642547",
         "0.0299122836425475",
         "0.0549377900194124",
         "0.0370136730091343",
         "0.018532343913511",
         "0.0004257947122999",
         "31.691239661452663",
         "31.69123966145245",
         "-31.69123966145246",
         "0.0148391098368233",
         "0.0148391098368228",
         "0.0639953617097251",
         "0.078834471546549",
         "0.078834471546549",
         "0.0788344715465493",
         "0.0788344715465493",
         "0.0810130275921589",
         "0.0120888929225043",
         "0.0120888929225043",
         "0.0659042345710981",
         "0.0779931274936017",
         "0.0779931274936017",
         "0.0779931274936017",
         "0.0779931274936017",
         "0.0779931274936017",
         "0.0242357015847565",
         "0.014885629878236",
         "0.0388717960306112",
         "0.0958986574702753",
         "0.0242357015847565",
         "0.1201343590550312",
         "0.1590061550856408",
         "-31.69123966145249",
         "0.0639953617097249",
         "0.0659042345710981",
         "3.636053381026117",
         "3.636053381026117",
         "3.636053381026116",
         "0.3966820111664042",
         "3.415772692611649",
         "0.5674000577830915",
         "0.0001470169395984",
         "-0.0001470169395984",
         "0.0001470169395983",
         "-0.000295276598701",
         "0.000295276598701",
         "-0.0001482596591026",
         "0.000295276598701",
         "0.000295276598701",
         "0.0001482596591026",
         "0.0001482596591026",
         "0.0001482596591026",
         "0.0001305181135992",
         "0.0009203821985947",
         "0.0944151266743792",
         "0.4302173321238878",
         "-0.3494172394810976",
         "133.42294942058805",
         "-133.76419905425075",
         "0.1270061921960138",
         "0.1325592819465545",
         "0.213572309538708",
         "0.2135723095387277",
         "0.2135723095387277",
         "0.0711907698462467",
         "0.2135723095387277",
         "0.0711907698462467",
         "0.0711907698462467",
         "0.0355953849231233",
         "0.0355953849231233",
         "0.0355953849231233",
         "0.0355953849231234",
         "0.0355953849231233",
         "0.0355953849231233",
         "0.0355953849231233",
         "0.0355953849231234",
         "0.0355953849231234",
         "0.0355953849231234",
         "0.0355953849231234",
         "0.0088504321156413",
         "0.0267449528074815",
         "0.0355953849231233",
         "0.0355953849231233",
         "0.0355953849231233",
         "0.0355953849231233",
         "0.0355953849231234",
         "0.0355953849231234",
         "0.0355953849231234",
         "0.0355953849231234",
         "0.0355953849231233",
         "0.0355953849231234",
         "4.452217432716077",
         "0.6360310618166194",
         "4.452217432716078",
         "0.6360310618166194",
         "0.6360310618166195",
         "0.6360310618166195",
         "0.6360310618166195",
         "0.6360310618166194",
         "0.6360310618166195",
         "0.6360310618166195",
         "0.6360310618166195",
         "0.6360310618166194",
         "0.6360310618166195",
         "0.6360310618166195",
         "0.6360310618166195",
         "0.6360310618166194",
         "0.6360310618166195",
         "0.6360310618166195",
         "0.6360310618166195",
         "0.6360310618166194",
         "0.6360310618166195",
         "0.6360310618166195",
         "0.6360310618166195",
         "0.6360310618166194",
         "0.6360310618166195",
         "0.6360310618166195",
         "0.6360310618166195",
         "0.6360310618166194",
         "0.6360310618166195",
         "0.6360310618166195",
         "0.6360310618166194",
         "0.6360310618166195",
         "0.5609172809139884",
         "0.5609172809139883",
         "0.5609172809139883",
         "0.5609172809139883",
         "0.5609172809139883",
         "0.0603364208231208",
         "-8.540755710766016",
         "-42.55852349807328",
         "-1.7005252306334686",
         "-0.0004257947123001",
         "-9.999999999998683e-17",
         "-0.6936137956801728",
         "-0.0156552497652928",
         "-0.0172609225962439",
         "-0.1520580845850513",
         "-0.099268171830796",
         "-0.0391448420840525",
         "-0.267373590469316",
         "0.1704359170156979",
         "-0.2870276904841263",
         "0.032768927450841",
         "-0.0587602577391024",
         "-0.0015181947064889",
         "4.482885571289214",
         "0.579547427017623",
         "0.0603364208231208",
         "3.833157195245364",
         "0.238557395149359",
         "0.0890759151082809",
         "-9.999999999998683e-17",
         "0.0346946994921754",
         "-37.79234753273471",
         "6.25915781458848",
         "45.14963793868242",
         "0.0075444202846325",
         "0.6145247556649274",
         "-0.4842660948970058",
         "-0.0805483793339931",
         "2.172638668205014",
         "0.0844242789496555",
         "0.0844242789496555",
         "0.0844242789496555",
         "0.0844242789496555",
         "-1.6380797065907575",
         "0.0005972098933072",
         "0.0007954150357112",
         "0.0005696964854119",
         "0.0007898640849956",
         "0.0007898640849956",
         "-0.0387929877614786",
         "0.3917393571499206",
         "0.3917393571499195",
         "1.492475339436382",
         "1.4694768431057808",
         "0.0445960759494706",
         "0.0081676058204101",
         "0.00816760582041",
         "0.00816760582041",
         "0.00816760582041",
         "0.00816760582041",
         "1.0589294583378337",
         "1.0589294583378337",
         "0.0323824680810262",
         "-0.0947142274178019",
         "0.0589881879385236",
         "0.0589881879385211",
         "0.0589881879385236",
         "0.0589881879385236",
         "0.0589881879385236",
         "0.0599726791836427",
         "0.0599726791836427",
         "0.0599726791836427",
         "0.0599726791836427",
         "0.0021785560456096",
         "0.1296488799482822",
         "0.0177572420417799",
         "0.0072842145173461",
         "0.0104730275244314",
         "0.0104730275244314",
         "0.0072842145173461",
         "0.0104730275244314",
         "0.0072842145173462",
         "0.0104730275244314",
         "-8.939999999999852e-18",
         "-0.0151870663998439",
         "0.005553089750595",
         "0.0055530897505952",
         "0.0055530897505952",
         "0.0055530897505952",
         "0.0055530897505952",
         "0.0055530897505952",
         "-0.1046620388688553",
         "0.0857954434416803",
         "0.0810130275920397",
         "0.0810130275920397",
         "-0.0042248209031818",
         "0.0034219844877093",
         "0.0034219844877093",
         "0.0024374932425932",
         "0.0024374932425932",
         "0.000984491245116",
         "0.000984491245116",
         "0.000984491245116",
         "0.000984491245116",
         "0.000984491245116",
         "0.000984491245116",
         "0.000984491245116",
         "0.1347760449808913",
         "0.0118355841816523",
         "0.0289827088217541",
         "0.026118912828818",
         "0.0577941231380331",
         "29.66238182787593",
         "29.66238182787593",
         "29.66238182787593",
         "29.66238182787593",
         "0.0323824680810261",
         "0.0323824680810263",
         "6.213999999999847e-17",
         "-9.999999999998683e-17",
         "-9.999999999998683e-17",
         "0.0229984963305",
         "0.0229984963305",
         "0.413336936768868",
         "0.413336936768868",
         "0.4194158536129516",
         "0.0343644616019094",
         "-0.0343644616019094",
         "-9.999999999998683e-17",
         "-9.999999999998683e-17",
         "-2.902000000000034e-17",
         "-9.999999999998683e-17",
         "6.061999999999894e-17",
         "-9.999999999998683e-17",
         "0.0560482842586838",
         "0.0681281123260102",
         "0.0403074406769645",
         "0.0372294135514466",
         "1.1659475614661765",
         "1.1659475614661976",
         "1.1659475614661718",
         "0.2985087697404106",
         "-0.2985087697404107",
         "0.0990463392342141",
         "0.1994624305061967"
        ],
        [
         "5637_URINARY_TRACT",
         "5.923772528411496",
         "-7.895253037901297",
         "-0.1221649570651916",
         "-1.512695562295448",
         "-0.0745002722563317",
         "34.7875825188256",
         "20.308092000621677",
         "20.86246031032015",
         "-0.0489679295372351",
         "3.330388554107302",
         "-28.31697107423918",
         "-0.5440988166942441",
         "0.0844698248663363",
         "-0.077453936331262",
         "-0.0146118691398583",
         "-0.0294425960169291",
         "0.1602812316946395",
         "-0.0132526207476365",
         "-0.2105865611905115",
         "0.5112375302498531",
         "-0.253206259284913",
         "-0.0010329198607927",
         "0.3312952701163736",
         "0.2254165151935958",
         "-0.2254165151935952",
         "0.1060981703676302",
         "0.0656060159758814",
         "0.2603342204270387",
         "0.0510765215775313",
         "0.0082025840600378",
         "0.0461317914918089",
         "-0.0850379653576998",
         "0.019870082837188",
         "0.0167625284249656",
         "0.0010329198607926",
         "-9.999999999998683e-17",
         "-9.999999999998683e-17",
         "0.0914159165528856",
         "-0.032426675888409",
         "-0.1075760845233558",
         "0.1235985417710873",
         "0.0378547596774533",
         "-0.0904462823004595",
         "-0.0077761345497378",
         "0.0057285110782835",
         "-0.018903721584598",
         "-0.200271512873334",
         "-0.0002819740253538",
         "8.482119383188524",
         "0.5868663452871427",
         "3.293518588740762",
         "4.026393451252759",
         "13.71139007056186",
         "-9.68499661930905",
         "6.308615943035143",
         "14.12478056321725",
         "7.735205824531728",
         "6.389574738685218",
         "6.389574738685218",
         "12.742017019183429",
         "12.742017019183432",
         "13.242346342275562",
         "5.923772528411495",
         "15.993612562344302",
         "0.065032465439868",
         "4.587678496881234",
         "4.587678496881234",
         "4.587678496881234",
         "1.5725811425870273",
         "1.5075486771471112",
         "3.0150973542942245",
         "1.5075486771471132",
         "-14.48606388519684",
         "15.993612562344302",
         "1.5042055332621755",
         "10.381222314083512",
         "0.5003293230922355",
         "16.749692145865836",
         "-73.9565853871401",
         "35.82717277368274",
         "-109.78375816082271",
         "9.479923990544249",
         "9.596922358972751",
         "9.596922358972751",
         "-7.934944110920159",
         "97.93941080955952",
         "4.499360983951818",
         "4.702227876267929",
         "2.477212167188258",
         "8.70013317579368",
         "20.40392268876488",
         "-97.14923325912213",
         "-24.36966624769317",
         "82.00614435721172",
         "82.0061443572117",
         "10.290608763476255",
         "42.35248233896464",
         "12.586884175298602",
         "52.82761696344642",
         "26.41380848172321",
         "54.70404674199603",
         "0.0161231940947216",
         "0.0161231940947216",
         "1.0588120584741183",
         "0.2287822338631317",
         "1.0189693800666682",
         "0.189199404002327",
         "0.0693152034757181",
         "0.7053006289002287",
         "0.3054661671063898",
         "0.0164051681200755",
         "10.31980144240552",
         "90.70627753300542",
         "36.28705906568591",
         "44.20559800848596",
         "-17.531866469892698",
         "56.32069562085658",
         "27.472620540197",
         "9.59692235897275",
         "131.83083795812738",
         "-72.74588140132775",
         "-8.038618243175469",
         "2.1960533277582663",
         "10.49506297671035",
         "1.3382474160323097",
         "11.012856903004405",
         "5.506948475440369",
         "10.859224171972905",
         "10.859224171972905",
         "0.0057627596235061",
         "0.0057627596235061",
         "0.0057627596235061",
         "0.0057627596235061",
         "0.0057627596235061",
         "0.005762759623506",
         "0.005762759623506",
         "0.005762759623506",
         "0.005762759623506",
         "0.005762759623506",
         "0.0034124734831174",
         "0.0034124734831174",
         "0.0023502861403884",
         "0.0015923280046634",
         "0.0007579581357251",
         "0.0023502861403884",
         "0.0005055554105744",
         "10.025117967525471",
         "0.0006733417839566",
         "0.0058745661292405",
         "0.0058745661292405",
         "0.0058745661292405",
         "0.0058745661292405",
         "0.0058745661292405",
         "0.0058745661292405",
         "0.0058745661292405",
         "0.0006686427439715",
         "0.0006686427439715",
         "0.0006686427439715",
         "0.0052059233852684",
         "0.000482264516735",
         "0.002476087613036",
         "0.000482264516735",
         "23.5473129952699",
         "26.36485863258233",
         "88.94942940641846",
         "91.570940977778",
         "91.5469090500332",
         "2.6184896781896327",
         "0.0030602914845632",
         "0.0030602914845625",
         "0.0030602914845635",
         "0.2336430252681126",
         "0.2336430252681126",
         "0.3312952701163737",
         "0.5257490655523193",
         "0.0366326112621532",
         "0.0167625284249649",
         "0.0533951396871184",
         "0.0533951396871185",
         "0.0533951396871185",
         "0.0533951396871185",
         "0.0533951396871194",
         "0.0533951396871194",
         "0.0198700828371879",
         "0.0167625284249656",
         "0.1975140869205096",
         "0.2305827337835479",
         "0.105538072792752",
         "0.105538072792752",
         "0.105538072792752",
         "0.3577037997048216",
         "0.1463022239808044",
         "0.3984679508929482",
         "0.3984679508929482",
         "0.2734322943604704",
         "0.5123664966036203",
         "0.522221992278632",
         "0.5972441008039142",
         "0.4524330445639117",
         "0.5438489611168011",
         "0.5438489611168026",
         "0.0216269688381796",
         "0.0216269688381802",
         "0.0708218675754981",
         "0.019839797693989",
         "0.0335553419931302",
         "0.0010329198607926",
         "19.301154583277665",
         "19.301154583277658",
         "-19.301154583277658",
         "0.0218519955499792",
         "0.0218519955499793",
         "0.027737450893789",
         "0.0495894464437695",
         "0.0495894464437695",
         "0.0495894464437695",
         "0.0495894464437695",
         "0.0499703421147553",
         "0.0264570279146734",
         "0.0264570279146734",
         "0.0405709983991291",
         "0.0670280263137999",
         "0.0670280263137999",
         "0.0670280263137999",
         "0.0670280263138",
         "0.0670280263138002",
         "0.0215601052564108",
         "0.0112205825839224",
         "0.0342473384734688",
         "0.0611909246986751",
         "0.0215601052564108",
         "0.0827510299550868",
         "0.1169983684285565",
         "-19.301154583277665",
         "0.0277374508937891",
         "0.0405709983991291",
         "1.3827635440349335",
         "1.3827635440349335",
         "1.3827635440349335",
         "0.4068691916665228",
         "1.1444683746322228",
         "0.5299666371954069",
         "0.0003367584562844",
         "-0.0003367584562844",
         "0.0003367584562844",
         "-0.0006622237713972",
         "0.0006622237713972",
         "-0.0003254653151128",
         "0.0006622237713972",
         "0.0006622237713972",
         "0.0003254653151128",
         "0.0003254653151128",
         "0.0003254653151128",
         "0.0003706960893956",
         "0.001039338833367",
         "0.1049833962979277",
         "0.4380893603643997",
         "-0.3446314833134816",
         "88.2799970837934",
         "-88.61603798891247",
         "0.2081846450112446",
         "0.2189329273190438",
         "0.268903269433791",
         "0.268903269433791",
         "0.2689032694337911",
         "0.0896344231446033",
         "0.268903269433791",
         "0.0896344231446033",
         "0.0896344231446033",
         "0.0448172115723016",
         "0.0448172115723016",
         "0.0448172115723016",
         "0.0448172115723016",
         "0.0448172115723016",
         "0.0448172115723016",
         "0.0448172115723016",
         "0.0448172115723016",
         "0.0448172115723016",
         "0.0448172115723016",
         "0.0448172115723016",
         "0.0106818858285015",
         "0.0341353257437989",
         "0.0448172115723016",
         "0.0448172115723016",
         "0.0448172115723016",
         "0.0448172115723016",
         "0.0448172115723016",
         "0.0448172115723016",
         "0.0448172115723016",
         "0.0448172115723016",
         "0.0448172115723016",
         "0.0448172115723016",
         "2.1901787616290345",
         "0.3128826802327505",
         "2.190178761629034",
         "0.3128826802327505",
         "0.3128826802327505",
         "0.3128826802327505",
         "0.3128826802327505",
         "0.3128826802327505",
         "0.3128826802327505",
         "0.3128826802327505",
         "0.3128826802327505",
         "0.3128826802327505",
         "0.3128826802327505",
         "0.3128826802327505",
         "0.3128826802327505",
         "0.3128826802327505",
         "0.3128826802327505",
         "0.3128826802327505",
         "0.3128826802327505",
         "0.3128826802327505",
         "0.3128826802327505",
         "0.3128826802327505",
         "0.3128826802327505",
         "0.3128826802327505",
         "0.3128826802327505",
         "0.3128826802327505",
         "0.3128826802327505",
         "0.3128826802327505",
         "0.3128826802327505",
         "0.3128826802327505",
         "0.3128826802327505",
         "0.3128826802327505",
         "0.2334329349250003",
         "0.2334329349250003",
         "0.2334329349250003",
         "0.2334329349250003",
         "0.2334329349250002",
         "0.0510765215775313",
         "-7.895253037901297",
         "-28.31697107423918",
         "-1.512695562295448",
         "-0.0010329198607927",
         "-9.999999999998683e-17",
         "-0.544098816694244",
         "-0.0132526207476365",
         "-0.0146118691398583",
         "-0.1099522316746949",
         "-0.0850379653576997",
         "-0.0294425960169292",
         "-0.2445719348414445",
         "0.1602812316946395",
         "-0.253206259284913",
         "0.0844698248663363",
         "-0.0656060159758815",
         "-0.0002819740253539",
         "5.923772528411495",
         "0.3312952701163736",
         "0.0510765215775313",
         "3.3303885541073024",
         "0.2603342204270387",
         "0.1060981703676302",
         "-9.999999999998683e-17",
         "0.0461317914918093",
         "-20.86246031032015",
         "20.08267548542805",
         "34.7875825188256",
         "0.0082025840600378",
         "0.4637898121775375",
         "-0.4642273592978571",
         "-0.0745002722563317",
         "0.8782507433250929",
         "0.091415916552886",
         "0.0914159165528864",
         "0.0914159165528856",
         "0.0914159165528856",
         "-9.091335831667566",
         "0.0005055554105744",
         "0.0006733417839566",
         "0.000482264516735",
         "0.0006686427439716",
         "0.0006686427439716",
         "-0.032426675888409",
         "0.2287822338631319",
         "0.228782233863132",
         "0.5638147361293937",
         "0.5464350172225168",
         "0.0550650689334951",
         "0.0085905781950228",
         "0.0085905781950228",
         "0.0085905781950228",
         "0.0085905781950228",
         "0.0085905781950228",
         "0.3820129856435176",
         "0.3820129856435176",
         "0.0497536041178341",
         "-0.1075760845233553",
         "0.0773329610259827",
         "0.077332961025988",
         "0.077332961025988",
         "0.077332961025988",
         "0.077332961025988",
         "0.0787009603013356",
         "0.0787009603013356",
         "0.0787009603013356",
         "0.0787009603013356",
         "0.0003808956709858",
         "0.1235985417710864",
         "0.0378547596774538",
         "0.0138228319332689",
         "0.0240319277441796",
         "0.0240319277441796",
         "0.0138228319332689",
         "0.0240319277441796",
         "0.0138228319332688",
         "0.0240319277441796",
         "-3.356000000000124e-17",
         "-0.018903721584598",
         "0.0107482823077891",
         "0.010748282307789",
         "0.0107482823077891",
         "0.0107482823077891",
         "0.0107482823077891",
         "0.0107482823077891",
         "-0.0904462823004592",
         "0.074475164768384",
         "0.0499703421147518",
         "0.0499703421147518",
         "-0.0077761345497378",
         "0.0070965103536255",
         "0.0070965103536255",
         "0.0057285110782835",
         "0.0057285110782835",
         "0.001367999275343",
         "0.001367999275343",
         "0.0013679992753429",
         "0.0013679992753429",
         "0.0013679992753429",
         "0.0013679992753427",
         "0.0013679992753427",
         "0.1211074071775844",
         "0.0147507678343834",
         "0.0346809642464302",
         "0.0297323736149218",
         "0.0783200646303499",
         "0.7621448878991954",
         "0.7621448878991731",
         "0.762144887899173",
         "0.7621448878991731",
         "0.0497536041178341",
         "0.0497536041178341",
         "5.242000000000146e-17",
         "-9.999999999998683e-17",
         "-9.999999999998683e-17",
         "0.0173797189068576",
         "0.0173797189068576",
         "0.2664675838897646",
         "0.2664675838897646",
         "0.2548471821853883",
         "0.0437751994555969",
         "-0.0437751994555969",
         "-9.999999999998683e-17",
         "-9.999999999998683e-17",
         "-1.9399999999999997e-18",
         "-9.999999999998683e-17",
         "-1.7399999999999977e-18",
         "-9.999999999998683e-17",
         "0.0470101709519828",
         "0.0867776729269358",
         "0.0324982953434338",
         "0.0339853736509608",
         "13.221763899614285",
         "13.22176389961429",
         "13.22176389961428",
         "7.659994383023822",
         "-7.659994383023822",
         "0.03984267840745",
         "7.620151704616373"
        ],
        [
         "697_HAEMATOPOIETIC_AND_LYMPHOID_TISSUE",
         "5.271437254420874",
         "-7.592020728762237",
         "-0.1109334193772754",
         "-1.8544247594874304",
         "-0.0031419676137966",
         "35.98811530663663",
         "19.39310016948354",
         "20.410546272068945",
         "-0.0575992635662894",
         "3.735923352697209",
         "-28.883209662872268",
         "-0.7562282879098733",
         "0.1348113214944625",
         "-0.050414084881998",
         "-0.0171874308294789",
         "-0.0264637122063748",
         "0.037062062834296",
         "-0.0155885944658503",
         "-0.1724107565798301",
         "0.5985443168464455",
         "-0.2997936567072181",
         "-2.8788510850801368e-05",
         "0.601758091511769",
         "0.2501580512458191",
         "-0.2501580512458208",
         "0.0705842795722657",
         "0.0718290185163184",
         "0.5204640442619921",
         "0.0600795266657262",
         "0.0067178466131349",
         "0.0150759809124879",
         "-0.0878410267728085",
         "0.0342294877807163",
         "0.005690483874372",
         "2.8788510851271725e-05",
         "-9.999999999998683e-17",
         "-9.999999999998683e-17",
         "0.072249247852976",
         "-0.0368119667971168",
         "-0.0599252521835526",
         "0.1196427784209775",
         "0.0300950495472124",
         "-0.0343031229918235",
         "-0.0010246329167923",
         "9.701096731309468e-05",
         "-0.0125620163250074",
         "-0.1870212613550108",
         "-0.0002882981047995",
         "9.022892513446184",
         "1.430871784683584",
         "1.5427658446455",
         "3.8889061567159455",
         "9.297897864729428",
         "-5.40899170801328",
         "5.525047393906253",
         "13.04123556244269",
         "0.610760224204665",
         "12.430475338238375",
         "12.430475338238375",
         "11.335183628161191",
         "11.335183628161191",
         "11.999122754457051",
         "5.271437254420869",
         "10.93403910191958",
         "0.0592990349645049",
         "6.03272135885566",
         "6.03272135885566",
         "6.0327213588556585",
         "2.0504398095948955",
         "1.9911407746304053",
         "3.982281549260813",
         "1.991140774630407",
         "-8.942898327289189",
         "10.93403910191958",
         "0.9411458069141264",
         "5.108453054913452",
         "0.6639391262958245",
         "15.588351745930172",
         "-69.1026760502041",
         "26.723896402515265",
         "-95.82657245271912",
         "9.63753838899339",
         "9.721906292188809",
         "9.721906292188809",
         "-16.480904461397266",
         "106.21273039720526",
         "2.4906290745482598",
         "3.574244754620606",
         "0.4179432624293442",
         "7.668102602726531",
         "33.90457515155971",
         "-95.27187679863952",
         "-44.06748089163723",
         "77.02292519340747",
         "77.02292519340746",
         "12.239685865501825",
         "44.99361916510917",
         "11.698016476874605",
         "54.44886473048966",
         "27.22443236524483",
         "57.980270578212384",
         "0.0131473951214704",
         "0.0131473951214704",
         "1.1248404791277191",
         "0.1742601012428164",
         "1.0788527106922343",
         "0.1489905997397952",
         "0.0532985419657002",
         "0.7480482437175697",
         "0.3240866203615323",
         "0.0134356932262701",
         "7.996850141851047",
         "84.6910277961341",
         "36.33451112484203",
         "52.80197989301304",
         "-26.202810753585982",
         "49.44924386854961",
         "28.349272844372138",
         "9.721906292188809",
         "119.82020033457734",
         "-98.12093182730786",
         "-4.057246077719187",
         "0.7497518223486158",
         "5.168333410816756",
         "2.402491949616119",
         "13.11457011003999",
         "15.240450068844178",
         "12.012380247386252",
         "12.012380247386252",
         "0.0067785326755863",
         "0.0067785326755839",
         "0.0067785326755839",
         "0.0067785326755839",
         "0.0067785326755839",
         "0.0067785326755839",
         "0.0067785326755839",
         "0.0067785326755839",
         "0.0067785326755839",
         "0.0067785326755839",
         "0.0040139732560566",
         "0.0040139732560562",
         "0.0027645594195275",
         "0.0012981542406336",
         "0.0014664051788941",
         "0.0027645594195275",
         "0.0005946671549373",
         "12.092308125958237",
         "0.0007920284000342",
         "0.0069100467594594",
         "0.0069100467594594",
         "0.0069100467594594",
         "0.0069100467594594",
         "0.0069100467594594",
         "0.0069100467594594",
         "0.0069100467594594",
         "0.0007865010835811",
         "0.0007865010835811",
         "0.0007865010835811",
         "0.0061235456758775",
         "0.0005672708907777",
         "0.0029125352937016",
         "0.0005672708907777",
         "19.27420000023085",
         "27.21938666812142",
         "88.26771332220905",
         "95.73283170618724",
         "95.71458638334327",
         "6.941557323293242",
         "0.0099475017770856",
         "0.0099475017770857",
         "0.0099475017770857",
         "0.7464455105267112",
         "0.7464455105267109",
         "0.601758091511769",
         "0.7346441171599366",
         "0.0399199716550886",
         "0.005690483874372",
         "0.0456104555294606",
         "0.0456104555294606",
         "0.0456104555294606",
         "0.0456104555294606",
         "0.0456104555294606",
         "0.0456104555294606",
         "0.0342294877807165",
         "0.0056904838743719",
         "0.1428335274252453",
         "0.7364980087496419",
         "0.1595931649716256",
         "0.1595931649716257",
         "0.1595931649716209",
         "0.570780106792325",
         "0.2374010083920777",
         "0.6485879502128064",
         "0.6485879502128064",
         "0.495663116022646",
         "0.7786690509913698",
         "0.2353449877644482",
         "0.2982259064889441",
         "0.180366203106506",
         "0.2526154509594802",
         "0.2526154509594802",
         "0.0172704631950365",
         "0.0172704631950364",
         "0.0550075731687901",
         "0.0169403538377743",
         "0.028670101691686",
         "2.8788510851271725e-05",
         "35.1314696652365",
         "35.1314696652365",
         "-35.131469665236494",
         "0.0084922358256641",
         "0.0084922358256641",
         "0.0091458237610064",
         "0.0176380595866706",
         "0.0176380595866706",
         "0.0176380595866707",
         "0.0176380595866707",
         "0.01771133808127",
         "0.0314591894506376",
         "0.0314591894506376",
         "0.0351973756631399",
         "0.0666565651137776",
         "0.0666565651137776",
         "0.0666565651137776",
         "0.0666565651137776",
         "0.0666565651137775",
         "0.0170652179852365",
         "0.0145834564582087",
         "0.0350078906703329",
         "0.0322947945394753",
         "0.0170652179852365",
         "0.0493600125247125",
         "0.0843679031950447",
         "-35.1314696652365",
         "0.0091458237610065",
         "0.0351973756631399",
         "1.7060519342817202",
         "1.7060519342817229",
         "1.70605193428172",
         "0.2321884808369011",
         "1.6054116772009903",
         "0.628696872861377",
         "9.353424119824035e-06",
         "-9.353424119824035e-06",
         "9.353424119824042e-06",
         "-1.9126029419069505e-05",
         "1.912602941902381e-05",
         "-9.772605299244244e-06",
         "1.9126029419065887e-05",
         "1.912602941906589e-05",
         "9.772605299242338e-06",
         "9.77260529924405e-06",
         "9.772605299244076e-06",
         "9.662481431778036e-06",
         "0.0007961635650128",
         "0.071057849792337",
         "0.2403340876088112",
         "-0.1828333031676453",
         "87.2652781401237",
         "-87.44169167273832",
         "0.1307113164951539",
         "0.1336803747179076",
         "0.1513917127991832",
         "0.1513917127991779",
         "0.1513917127991779",
         "0.050463904266394",
         "0.151391712799178",
         "0.050463904266394",
         "0.050463904266394",
         "0.025231952133197",
         "0.025231952133197",
         "0.0252319521331991",
         "0.0252319521331991",
         "0.0252319521331991",
         "0.0252319521331991",
         "0.0252319521331991",
         "0.0252319521331991",
         "0.0252319521331991",
         "0.0252319521331991",
         "0.0252319521331991",
         "0.0056296639217194",
         "0.0196022882114797",
         "0.0252319521331991",
         "0.0252319521331991",
         "0.0252319521331991",
         "0.0252319521331991",
         "0.0252319521331991",
         "0.0252319521331991",
         "0.0252319521331991",
         "0.0252319521331991",
         "0.0252319521331991",
         "0.0252319521331989",
         "0.7428417755892679",
         "0.1061202536555894",
         "0.7428417755892678",
         "0.1061202536555894",
         "0.1061202536555894",
         "0.1061202536555894",
         "0.1061202536555894",
         "0.1061202536555894",
         "0.1061202536555894",
         "0.1061202536555894",
         "0.1061202536555894",
         "0.1061202536555894",
         "0.1061202536555894",
         "0.1061202536555894",
         "0.1061202536555894",
         "0.1061202536555894",
         "0.1061202536555894",
         "0.1061202536555894",
         "0.1061202536555894",
         "0.1061202536555894",
         "0.1061202536555894",
         "0.1061202536555894",
         "0.1061202536555894",
         "0.1061202536555894",
         "0.1061202536555894",
         "0.1061202536555894",
         "0.1061202536555894",
         "0.1061202536555894",
         "0.1061202536555894",
         "0.1061202536555894",
         "0.1061202536555894",
         "0.1061202536555894",
         "0.0180073403113306",
         "0.0180073403113306",
         "0.0180073403113306",
         "0.0180073403113306",
         "0.0180073403113306",
         "0.0600795266657262",
         "-7.592020728762237",
         "-28.883209662872268",
         "-1.8544247594874304",
         "-2.878851085080081e-05",
         "-9.999999999998683e-17",
         "-0.7562282879098724",
         "-0.0155885944658503",
         "-0.0171874308294789",
         "-0.089209107969123",
         "-0.0878410267728081",
         "-0.0264637122063748",
         "-0.2179110178494298",
         "0.037062062834296",
         "-0.2997936567072181",
         "0.1348113214944625",
         "-0.0718290185163178",
         "-0.0002882981047995",
         "5.271437254420874",
         "0.601758091511769",
         "0.0600795266657262",
         "3.735923352697208",
         "0.5204640442619921",
         "0.0705842795722657",
         "-9.999999999998683e-17",
         "0.015075980912488",
         "-20.41054627206895",
         "19.14294211823773",
         "35.98811530663663",
         "0.0067178466131349",
         "0.9258281113194918",
         "-0.5543378327329002",
         "-0.0031419676137966",
         "1.973192232683912",
         "0.0722492478529756",
         "0.0722492478529756",
         "0.072249247852976",
         "0.072249247852976",
         "-9.051783300372229",
         "0.0005946671549373",
         "0.0007920284000342",
         "0.0005672708907777",
         "0.0007865010835811",
         "0.0007865010835811",
         "-0.0368119667971165",
         "0.1742601012428164",
         "0.1742601012428164",
         "1.4411096195663728",
         "1.4183118359706484",
         "0.0389794510469893",
         "0.0064197705536947",
         "0.0064197705536947",
         "0.0064197705536946",
         "0.0064197705536945",
         "0.0064197705536945",
         "0.9934395751420784",
         "0.9934395751420784",
         "0.0243764383911598",
         "-0.0599252521835526",
         "0.0243513233313928",
         "0.0243513233313928",
         "0.0243513233313928",
         "0.0243513233313928",
         "0.0243513233313928",
         "0.02447952709906",
         "0.02447952709906",
         "0.02447952709906",
         "0.02447952709906",
         "7.327849459977815e-05",
         "0.1196427784209775",
         "0.0300950495472121",
         "0.0118497267019887",
         "0.0182453228452244",
         "0.0182453228452244",
         "0.0118497267019886",
         "0.0182453228452244",
         "0.0118497267019888",
         "0.0182453228452244",
         "-3.012000000000056e-17",
         "-0.0125620163250074",
         "0.0029690582227628",
         "0.0029690582227628",
         "0.0029690582227628",
         "0.0029690582227628",
         "0.0029690582227628",
         "0.0029690582227628",
         "-0.0343031229918234",
         "0.0155168557987185",
         "0.0177113380812668",
         "0.0177113380812668",
         "-0.0010246329167923",
         "0.0002252147349782",
         "0.0002252147349782",
         "9.701096731310518e-05",
         "9.701096731309468e-05",
         "0.000128203767665",
         "0.000128203767665",
         "0.000128203767665",
         "0.000128203767665",
         "0.0001282037676651",
         "0.000128203767665",
         "0.000128203767665",
         "0.112814899589509",
         "0.0124857454947171",
         "0.0336915758080989",
         "0.0280290404626728",
         "0.0244062486044604",
         "1.0926967004944097",
         "1.0926967004944124",
         "1.0926967004944124",
         "1.0926967004944124",
         "0.0243764383911598",
         "0.0243764383911599",
         "5.0900000000001915e-17",
         "-9.999999999998683e-17",
         "-9.999999999998683e-17",
         "0.0227977835957171",
         "0.0227977835957171",
         "0.1904417686940924",
         "0.1904417686940924",
         "0.7563751990575812",
         "0.0240062697096909",
         "-0.0240062697096911",
         "-9.999999999998683e-17",
         "-9.999999999998683e-17",
         "1.8239999999999345e-17",
         "-9.999999999998683e-17",
         "-1.8359999999999338e-17",
         "-9.999999999998683e-17",
         "0.0442064841135835",
         "0.0585194928846432",
         "0.0387950230871243",
         "0.0455002612696343",
         "14.454407997811098",
         "14.454407997811105",
         "14.454407997811105",
         "8.030370432037214",
         "-8.030370432037223",
         "0.0459877684354861",
         "7.984382663601781"
        ],
        [
         "769P_KIDNEY",
         "5.243026016150568",
         "-8.403161739862043",
         "-0.1235608371733093",
         "-1.425951095681578",
         "-0.0595269213536098",
         "39.75175212508194",
         "21.501629883112344",
         "25.03562086025134",
         "-0.0488758500879437",
         "3.219668760505936",
         "-32.80722201411511",
         "-0.6166599924709592",
         "0.0757299467200162",
         "-0.0950800665437163",
         "-0.0145843929349974",
         "-0.0323218250385121",
         "0.1179237723594585",
         "-0.0132277004777436",
         "-0.2139162617752137",
         "0.497684689378183",
         "-0.2363788382801281",
         "-0.001096438607351",
         "0.4618880202488445",
         "0.2309673307350803",
         "-0.2309673307350805",
         "0.0704821062507752",
         "0.0599512981610061",
         "0.3604929447547279",
         "0.0509804771251052",
         "0.0096788973015715",
         "0.0418076153264386",
         "-0.0831991361692522",
         "0.02393653446331",
         "0.0216581082146451",
         "0.0010964386073514",
         "-9.999999999998683e-17",
         "-9.999999999998683e-17",
         "0.072762495437092",
         "-0.0287425718739072",
         "-0.1131191026544978",
         "0.1147895436465551",
         "0.04963434323101",
         "-0.1007726025543548",
         "-0.0065271693071682",
         "0.004566681241995",
         "-0.0278183465995296",
         "-0.2010202092150683",
         "-0.0003431113384746",
         "8.801664770993145",
         "0.3985030311311171",
         "1.355099615763922",
         "3.8053065609921215",
         "6.384490612374386",
         "-2.5791840513823243",
         "5.9918758883605525",
         "14.302139913020614",
         "10.104570709387342",
         "4.197569203632493",
         "4.197569203632494",
         "12.748378995947196",
         "12.7483789959472",
         "13.48162752300846",
         "5.243026016150568",
         "8.571059939742952",
         "0.0788681937812595",
         "7.034032602676152",
         "7.034032602676152",
         "7.034032602676152",
         "2.39725633007964",
         "2.3183881362984144",
         "4.636776272596828",
         "2.3183881362984127",
         "-6.252671803444809",
         "8.571059939742952",
         "1.7223042302015052",
         "20.25875394823624",
         "0.7332485270612074",
         "18.731966739180315",
         "-97.83681230123015",
         "57.27409933121932",
         "-155.11091163244828",
         "10.239111504588944",
         "10.371879363885917",
         "10.371879363885917",
         "-0.8751691679710734",
         "114.7483461668727",
         "10.136006422171535",
         "8.886827318112019",
         "2.215214787165077",
         "9.844103408528406",
         "12.951828129305284",
         "-123.90973573298754",
         "-18.077570034716626",
         "106.72467563188246",
         "106.7246756318824",
         "10.533324939665125",
         "47.9203042850236",
         "15.775892439033294",
         "61.30604502938315",
         "30.65302251469157",
         "51.55732014166889",
         "0.019014683264667",
         "0.0190146832646673",
         "1.1980076071255896",
         "0.1922571588262933",
         "1.1560379575145117",
         "0.1611948588346849",
         "0.0604337123810129",
         "0.8188219122202144",
         "0.3275371479927219",
         "0.0193577946031418",
         "11.253219786289488",
         "116.56877904040957",
         "30.283290661585028",
         "31.13910203495301",
         "-11.247048531856915",
         "78.62523891817885",
         "31.85103012181708",
         "10.371879363885917",
         "197.62007760364745",
         "-61.38670656033304",
         "-4.35364429123165",
         "3.140431183745",
         "20.41106984083918",
         "1.1459899047324753",
         "6.198007576290947",
         "3.784665945547062",
         "6.223497375136413",
         "6.223497375136413",
         "0.005751923312112",
         "0.005751923312112",
         "0.005751923312112",
         "0.005751923312112",
         "0.005751923312112",
         "0.005751923312112",
         "0.005751923312112",
         "0.005751923312112",
         "0.005751923312112",
         "0.005751923312112",
         "0.0034060566571997",
         "0.0034060566571997",
         "0.0023458666549125",
         "0.0015863916638321",
         "0.0007594749910804",
         "0.0023458666549125",
         "0.0005046047625843",
         "10.209852061636663",
         "0.0006720756299402",
         "0.0058635195765447",
         "0.0058635195765447",
         "0.0058635195765447",
         "0.0058635195765447",
         "0.0058635195765447",
         "0.0058635195765447",
         "0.0058635195765447",
         "0.0006673854260448",
         "0.0006673854260448",
         "0.0006673854260448",
         "0.0051961341504991",
         "0.0004813576650152",
         "0.0024714315700714",
         "0.0004813576650152",
         "49.12067718971098",
         "50.98374239793818",
         "114.79888085152068",
         "116.27513337592764",
         "116.243371239535",
         "1.5332487472179956",
         "0.0067878756777289",
         "0.0067878756777287",
         "0.0067878756777287",
         "0.1426946274241688",
         "0.1426946274241688",
         "0.4618880202488447",
         "0.598344746258973",
         "0.0455946426779547",
         "0.021658108214645",
         "0.0672527508925997",
         "0.0672527508925997",
         "0.0672527508925997",
         "0.0672527508925997",
         "0.0672527508925997",
         "0.0672527508925997",
         "0.0239365344633098",
         "0.021658108214645",
         "0.1432446016878658",
         "0.1359067517464455",
         "0.0967585778464742",
         "0.0967585778464742",
         "0.0967585778464737",
         "0.9630514523886284",
         "0.8701184921128065",
         "1.7364113666549308",
         "1.736411366654894",
         "0.1868287071687984",
         "0.4089623256281983",
         "0.3556857408334079",
         "0.4474593861158006",
         "0.3074441397861184",
         "0.3802066352232058",
         "0.3802066352232058",
         "0.0245208943897811",
         "0.024520894389781",
         "0.0493380396546622",
         "0.032896412122091",
         "0.0343563387705087",
         "0.0010964386073514",
         "12.02370508603024",
         "12.02370508603024",
         "-12.02370508603024",
         "0.0263800431498459",
         "0.0263800431498459",
         "0.0408879299811319",
         "0.0672679731309779",
         "0.0672679731309778",
         "0.0672679731309778",
         "0.0672679731309778",
         "0.0675447962254417",
         "0.0227415549306928",
         "0.0227415549306927",
         "0.0424815081408992",
         "0.0652230630715927",
         "0.0652230630715926",
         "0.0652230630715926",
         "0.0652230630715926",
         "0.0652230630715926",
         "0.0216294231734399",
         "0.010715247568383",
         "0.0328783923297653",
         "0.0782600437938251",
         "0.02162942317344",
         "0.0998894669672663",
         "0.1327678592970284",
         "-12.02370508603024",
         "0.0408879299811319",
         "0.0424815081408992",
         "1.55376091707288",
         "1.55376091707288",
         "1.55376091707288",
         "0.3130580387426599",
         "1.4097372717522247",
         "0.5176129210265016",
         "0.0003498621798674",
         "-0.0003498621798674",
         "0.0003498621798674",
         "-0.0007102523787022",
         "0.0007102523787023",
         "-0.0003603901988348",
         "0.0007102523787022",
         "0.0007102523787022",
         "0.0003603901988349",
         "0.0003603901988349",
         "0.0003603901988349",
         "0.0003861862286487",
         "0.0010535716546935",
         "0.1272210062199138",
         "0.3849694706705052",
         "-0.2692523110748209",
         "114.74429012819591",
         "-115.00805299423683",
         "0.2396558956236971",
         "0.2593341384601806",
         "0.3268789346856258",
         "0.3268789346856259",
         "0.3268789346856259",
         "0.108959644895209",
         "0.3268789346856258",
         "0.108959644895209",
         "0.108959644895209",
         "0.0544798224476045",
         "0.0544798224476045",
         "0.0544798224476045",
         "0.0544798224476045",
         "0.0544798224476045",
         "0.0544798224476045",
         "0.0544798224476045",
         "0.0544798224476045",
         "0.0544798224476045",
         "0.0544798224476045",
         "0.0544798224476045",
         "0.0159584962359634",
         "0.0385213262116422",
         "0.0544798224476045",
         "0.0544798224476045",
         "0.0544798224476045",
         "0.0544798224476045",
         "0.0544798224476045",
         "0.0544798224476045",
         "0.0544798224476045",
         "0.0544798224476045",
         "0.0544798224476045",
         "0.0544798224476045",
         "3.1345676641682885",
         "0.4477953805955708",
         "3.1345676641682885",
         "0.4477953805955708",
         "0.4477953805955707",
         "0.4477953805955707",
         "0.4477953805955707",
         "0.4477953805955708",
         "0.4477953805955707",
         "0.4477953805955707",
         "0.4477953805955707",
         "0.4477953805955708",
         "0.4477953805955707",
         "0.4477953805955707",
         "0.4477953805955707",
         "0.4477953805955708",
         "0.4477953805955707",
         "0.4477953805955708",
         "0.4477953805955707",
         "0.4477953805955708",
         "0.4477953805955707",
         "0.4477953805955708",
         "0.4477953805955707",
         "0.4477953805955708",
         "0.4477953805955708",
         "0.4477953805955708",
         "0.4477953805955707",
         "0.4477953805955708",
         "0.4477953805955708",
         "0.4477953805955708",
         "0.4477953805955707",
         "0.4477953805955708",
         "0.3740263848950032",
         "0.3740263848950032",
         "0.3740263848950032",
         "0.3740263848950032",
         "0.3740263848950033",
         "0.0509804771251052",
         "-8.403161739862043",
         "-32.80722201411511",
         "-1.425951095681578",
         "-0.001096438607351",
         "-9.999999999998683e-17",
         "-0.6166599924709594",
         "-0.0132277004777436",
         "-0.0145843929349974",
         "-0.135987313443642",
         "-0.0831991361692522",
         "-0.0323218250385121",
         "-0.2485452983265944",
         "0.1179237723594585",
         "-0.2363788382801281",
         "0.0757299467200162",
         "-0.0599512981610062",
         "-0.0003431113384746",
         "5.243026016150568",
         "0.4618880202488446",
         "0.0509804771251053",
         "3.219668760505936",
         "0.3604929447547279",
         "0.070482106250775",
         "-9.999999999998683e-17",
         "0.0418076153264386",
         "-25.03562086025134",
         "21.27066255237727",
         "39.75175212508194",
         "0.0096788973015715",
         "0.4942805288351559",
         "-0.4395463944887539",
         "-0.0595269213536098",
         "0.5774668892711682",
         "0.0727624954370921",
         "0.0727624954370921",
         "0.0727624954370921",
         "0.0727624954370921",
         "-9.633383518275144",
         "0.0005046047625843",
         "0.0006720756299402",
         "0.0004813576650152",
         "0.0006673854260449",
         "0.0006673854260449",
         "-0.0287425718739072",
         "0.1922571588262933",
         "0.1922571588262933",
         "0.3759448907704512",
         "0.359136002122177",
         "0.051688572550722",
         "0.0054894450341599",
         "0.0054894450341599",
         "0.0054894450341599",
         "0.0054894450341599",
         "0.0054894450341599",
         "0.2518422208040853",
         "0.2518422208040853",
         "0.0489721169358267",
         "-0.1131191026544977",
         "0.0829328484220252",
         "0.0829328484220252",
         "0.0829328484220252",
         "0.0829328484220252",
         "0.0829328484220252",
         "0.0842149902585784",
         "0.0842149902585784",
         "0.0842149902585784",
         "0.0842149902585784",
         "0.0002768230944637",
         "0.1147895436465551",
         "0.04963434323101",
         "0.0178722068378761",
         "0.0317621363931337",
         "0.0317621363931337",
         "0.0178722068378761",
         "0.0317621363931337",
         "0.0178722068378761",
         "0.0317621363931337",
         "-4.0620000000002627e-17",
         "-0.0278183465995297",
         "0.0196782428364856",
         "0.0196782428364856",
         "0.0196782428364856",
         "0.0196782428364856",
         "0.0196782428364856",
         "0.0196782428364856",
         "-0.1007726025543548",
         "0.0848315171621059",
         "0.0675447962254415",
         "0.0675447962254416",
         "-0.0065271693071682",
         "0.0058488230785407",
         "0.0058488230785407",
         "0.004566681241995",
         "0.004566681241995",
         "0.001282141836546",
         "0.001282141836546",
         "0.001282141836546",
         "0.001282141836546",
         "0.001282141836546",
         "0.0012821418365461",
         "0.0012821418365461",
         "0.1203742654387314",
         "0.017651295405822",
         "0.0336232359810869",
         "0.0293714123894126",
         "0.0839381671641153",
         "0.8327109877663365",
         "0.8327109877663361",
         "0.8327109877663361",
         "0.8327109877663361",
         "0.0489721169358266",
         "0.0489721169358264",
         "5.122000000000183e-17",
         "-9.999999999998683e-17",
         "-9.999999999998683e-17",
         "0.0168088886482686",
         "0.0168088886482686",
         "0.22713684272874",
         "0.22713684272874",
         "0.3033740607875399",
         "0.0534397697337748",
         "-0.0534397697337748",
         "-9.999999999998683e-17",
         "-9.999999999998683e-17",
         "1.9979999999999248e-17",
         "-9.999999999998683e-17",
         "-2.0619999999999214e-17",
         "-9.999999999998683e-17",
         "0.0581382948894175",
         "0.067345630874308",
         "0.040907246899919",
         "0.0346290365513988",
         "13.84985191858526",
         "13.849851918585264",
         "13.849851918585276",
         "8.326757484528427",
         "-8.32675748452843",
         "0.04196964961108",
         "8.284787834917354"
        ]
       ],
       "shape": {
        "columns": 469,
        "rows": 5
       }
      },
      "text/html": [
       "<div>\n",
       "<style scoped>\n",
       "    .dataframe tbody tr th:only-of-type {\n",
       "        vertical-align: middle;\n",
       "    }\n",
       "\n",
       "    .dataframe tbody tr th {\n",
       "        vertical-align: top;\n",
       "    }\n",
       "\n",
       "    .dataframe thead th {\n",
       "        text-align: right;\n",
       "    }\n",
       "</style>\n",
       "<table border=\"1\" class=\"dataframe\">\n",
       "  <thead>\n",
       "    <tr style=\"text-align: right;\">\n",
       "      <th></th>\n",
       "      <th>EX_lac__L_e</th>\n",
       "      <th>EX_glc__D_e</th>\n",
       "      <th>EX_glu__L_e</th>\n",
       "      <th>EX_gln__L_e</th>\n",
       "      <th>EX_asp__L_e</th>\n",
       "      <th>EX_co2_e</th>\n",
       "      <th>EX_h_e</th>\n",
       "      <th>EX_h2o_e</th>\n",
       "      <th>EX_pi_e</th>\n",
       "      <th>EX_nh4_e</th>\n",
       "      <th>...</th>\n",
       "      <th>t_Lcystin_glu__L</th>\n",
       "      <th>t_Lcystin_leu__L</th>\n",
       "      <th>t_Lcystin_ser__L</th>\n",
       "      <th>CSNATr</th>\n",
       "      <th>CRNCARtm</th>\n",
       "      <th>CSNATm</th>\n",
       "      <th>ACS</th>\n",
       "      <th>ACt2m</th>\n",
       "      <th>PyrODC</th>\n",
       "      <th>Incompox_Pyr</th>\n",
       "    </tr>\n",
       "  </thead>\n",
       "  <tbody>\n",
       "    <tr>\n",
       "      <th>22RV1_PROSTATE</th>\n",
       "      <td>4.733091</td>\n",
       "      <td>-8.532274</td>\n",
       "      <td>-0.125745</td>\n",
       "      <td>-1.592310</td>\n",
       "      <td>-0.077560</td>\n",
       "      <td>43.917254</td>\n",
       "      <td>18.668539</td>\n",
       "      <td>29.819426</td>\n",
       "      <td>-0.053897</td>\n",
       "      <td>3.695611</td>\n",
       "      <td>...</td>\n",
       "      <td>0.044027</td>\n",
       "      <td>0.047360</td>\n",
       "      <td>0.046786</td>\n",
       "      <td>11.218473</td>\n",
       "      <td>11.218473</td>\n",
       "      <td>11.218473</td>\n",
       "      <td>6.751126</td>\n",
       "      <td>-6.751126</td>\n",
       "      <td>0.220405</td>\n",
       "      <td>6.530722</td>\n",
       "    </tr>\n",
       "    <tr>\n",
       "      <th>2313287_STOMACH</th>\n",
       "      <td>4.482886</td>\n",
       "      <td>-8.540756</td>\n",
       "      <td>-0.126981</td>\n",
       "      <td>-1.700525</td>\n",
       "      <td>-0.080548</td>\n",
       "      <td>45.149638</td>\n",
       "      <td>6.387748</td>\n",
       "      <td>37.792348</td>\n",
       "      <td>-0.057846</td>\n",
       "      <td>3.833157</td>\n",
       "      <td>...</td>\n",
       "      <td>0.068128</td>\n",
       "      <td>0.040307</td>\n",
       "      <td>0.037229</td>\n",
       "      <td>1.165948</td>\n",
       "      <td>1.165948</td>\n",
       "      <td>1.165948</td>\n",
       "      <td>0.298509</td>\n",
       "      <td>-0.298509</td>\n",
       "      <td>0.099046</td>\n",
       "      <td>0.199462</td>\n",
       "    </tr>\n",
       "    <tr>\n",
       "      <th>5637_URINARY_TRACT</th>\n",
       "      <td>5.923773</td>\n",
       "      <td>-7.895253</td>\n",
       "      <td>-0.122165</td>\n",
       "      <td>-1.512696</td>\n",
       "      <td>-0.074500</td>\n",
       "      <td>34.787583</td>\n",
       "      <td>20.308092</td>\n",
       "      <td>20.862460</td>\n",
       "      <td>-0.048968</td>\n",
       "      <td>3.330389</td>\n",
       "      <td>...</td>\n",
       "      <td>0.086778</td>\n",
       "      <td>0.032498</td>\n",
       "      <td>0.033985</td>\n",
       "      <td>13.221764</td>\n",
       "      <td>13.221764</td>\n",
       "      <td>13.221764</td>\n",
       "      <td>7.659994</td>\n",
       "      <td>-7.659994</td>\n",
       "      <td>0.039843</td>\n",
       "      <td>7.620152</td>\n",
       "    </tr>\n",
       "    <tr>\n",
       "      <th>697_HAEMATOPOIETIC_AND_LYMPHOID_TISSUE</th>\n",
       "      <td>5.271437</td>\n",
       "      <td>-7.592021</td>\n",
       "      <td>-0.110933</td>\n",
       "      <td>-1.854425</td>\n",
       "      <td>-0.003142</td>\n",
       "      <td>35.988115</td>\n",
       "      <td>19.393100</td>\n",
       "      <td>20.410546</td>\n",
       "      <td>-0.057599</td>\n",
       "      <td>3.735923</td>\n",
       "      <td>...</td>\n",
       "      <td>0.058519</td>\n",
       "      <td>0.038795</td>\n",
       "      <td>0.045500</td>\n",
       "      <td>14.454408</td>\n",
       "      <td>14.454408</td>\n",
       "      <td>14.454408</td>\n",
       "      <td>8.030370</td>\n",
       "      <td>-8.030370</td>\n",
       "      <td>0.045988</td>\n",
       "      <td>7.984383</td>\n",
       "    </tr>\n",
       "    <tr>\n",
       "      <th>769P_KIDNEY</th>\n",
       "      <td>5.243026</td>\n",
       "      <td>-8.403162</td>\n",
       "      <td>-0.123561</td>\n",
       "      <td>-1.425951</td>\n",
       "      <td>-0.059527</td>\n",
       "      <td>39.751752</td>\n",
       "      <td>21.501630</td>\n",
       "      <td>25.035621</td>\n",
       "      <td>-0.048876</td>\n",
       "      <td>3.219669</td>\n",
       "      <td>...</td>\n",
       "      <td>0.067346</td>\n",
       "      <td>0.040907</td>\n",
       "      <td>0.034629</td>\n",
       "      <td>13.849852</td>\n",
       "      <td>13.849852</td>\n",
       "      <td>13.849852</td>\n",
       "      <td>8.326757</td>\n",
       "      <td>-8.326757</td>\n",
       "      <td>0.041970</td>\n",
       "      <td>8.284788</td>\n",
       "    </tr>\n",
       "  </tbody>\n",
       "</table>\n",
       "<p>5 rows × 469 columns</p>\n",
       "</div>"
      ],
      "text/plain": [
       "                                        EX_lac__L_e  EX_glc__D_e  EX_glu__L_e  \\\n",
       "22RV1_PROSTATE                             4.733091    -8.532274    -0.125745   \n",
       "2313287_STOMACH                            4.482886    -8.540756    -0.126981   \n",
       "5637_URINARY_TRACT                         5.923773    -7.895253    -0.122165   \n",
       "697_HAEMATOPOIETIC_AND_LYMPHOID_TISSUE     5.271437    -7.592021    -0.110933   \n",
       "769P_KIDNEY                                5.243026    -8.403162    -0.123561   \n",
       "\n",
       "                                        EX_gln__L_e  EX_asp__L_e   EX_co2_e  \\\n",
       "22RV1_PROSTATE                            -1.592310    -0.077560  43.917254   \n",
       "2313287_STOMACH                           -1.700525    -0.080548  45.149638   \n",
       "5637_URINARY_TRACT                        -1.512696    -0.074500  34.787583   \n",
       "697_HAEMATOPOIETIC_AND_LYMPHOID_TISSUE    -1.854425    -0.003142  35.988115   \n",
       "769P_KIDNEY                               -1.425951    -0.059527  39.751752   \n",
       "\n",
       "                                           EX_h_e   EX_h2o_e   EX_pi_e  \\\n",
       "22RV1_PROSTATE                          18.668539  29.819426 -0.053897   \n",
       "2313287_STOMACH                          6.387748  37.792348 -0.057846   \n",
       "5637_URINARY_TRACT                      20.308092  20.862460 -0.048968   \n",
       "697_HAEMATOPOIETIC_AND_LYMPHOID_TISSUE  19.393100  20.410546 -0.057599   \n",
       "769P_KIDNEY                             21.501630  25.035621 -0.048876   \n",
       "\n",
       "                                        EX_nh4_e  ...  t_Lcystin_glu__L  \\\n",
       "22RV1_PROSTATE                          3.695611  ...          0.044027   \n",
       "2313287_STOMACH                         3.833157  ...          0.068128   \n",
       "5637_URINARY_TRACT                      3.330389  ...          0.086778   \n",
       "697_HAEMATOPOIETIC_AND_LYMPHOID_TISSUE  3.735923  ...          0.058519   \n",
       "769P_KIDNEY                             3.219669  ...          0.067346   \n",
       "\n",
       "                                        t_Lcystin_leu__L  t_Lcystin_ser__L  \\\n",
       "22RV1_PROSTATE                                  0.047360          0.046786   \n",
       "2313287_STOMACH                                 0.040307          0.037229   \n",
       "5637_URINARY_TRACT                              0.032498          0.033985   \n",
       "697_HAEMATOPOIETIC_AND_LYMPHOID_TISSUE          0.038795          0.045500   \n",
       "769P_KIDNEY                                     0.040907          0.034629   \n",
       "\n",
       "                                           CSNATr   CRNCARtm     CSNATm  \\\n",
       "22RV1_PROSTATE                          11.218473  11.218473  11.218473   \n",
       "2313287_STOMACH                          1.165948   1.165948   1.165948   \n",
       "5637_URINARY_TRACT                      13.221764  13.221764  13.221764   \n",
       "697_HAEMATOPOIETIC_AND_LYMPHOID_TISSUE  14.454408  14.454408  14.454408   \n",
       "769P_KIDNEY                             13.849852  13.849852  13.849852   \n",
       "\n",
       "                                             ACS     ACt2m    PyrODC  \\\n",
       "22RV1_PROSTATE                          6.751126 -6.751126  0.220405   \n",
       "2313287_STOMACH                         0.298509 -0.298509  0.099046   \n",
       "5637_URINARY_TRACT                      7.659994 -7.659994  0.039843   \n",
       "697_HAEMATOPOIETIC_AND_LYMPHOID_TISSUE  8.030370 -8.030370  0.045988   \n",
       "769P_KIDNEY                             8.326757 -8.326757  0.041970   \n",
       "\n",
       "                                        Incompox_Pyr  \n",
       "22RV1_PROSTATE                              6.530722  \n",
       "2313287_STOMACH                             0.199462  \n",
       "5637_URINARY_TRACT                          7.620152  \n",
       "697_HAEMATOPOIETIC_AND_LYMPHOID_TISSUE      7.984383  \n",
       "769P_KIDNEY                                 8.284788  \n",
       "\n",
       "[5 rows x 469 columns]"
      ]
     },
     "execution_count": 17,
     "metadata": {},
     "output_type": "execute_result"
    }
   ],
   "source": [
    "# contians average flux values of all samples\n",
    "flux = pd.read_csv(\"../date/Info/cbs_mean_medium.csv\", index_col=0)\n",
    "flux.head()"
   ]
  },
  {
   "cell_type": "markdown",
   "id": "ff3c4f33",
   "metadata": {},
   "source": [
    "### Propensity vs intensity"
   ]
  },
  {
   "cell_type": "code",
   "execution_count": 18,
   "id": "027ca19c",
   "metadata": {},
   "outputs": [
    {
     "data": {
      "image/png": "[encoded data removed]",
      "text/plain": [
       "<Figure size 1600x1000 with 1 Axes>"
      ]
     },
     "metadata": {},
     "output_type": "display_data"
    }
   ],
   "source": [
    "min_count = 10\n",
    "\n",
    "counts = nc_state['Type'].value_counts()\n",
    "small_types = counts[counts < min_count].index\n",
    "nc_state['Type_agg'] = nc_state['Type'].where(\n",
    "    ~nc_state['Type'].isin(small_types),\n",
    "    other='Other'\n",
    ")\n",
    "\n",
    "major_types = [t for t in nc_state['Type_agg'].unique() if t != 'Other']\n",
    "base_palette = sns.color_palette(\"tab20\", n_colors=len(major_types))\n",
    "palette = dict(zip(major_types, base_palette))\n",
    "palette['Other'] = 'lightgrey'\n",
    "\n",
    "sns.set_context(\"paper\", font_scale=1.2)\n",
    "plt.figure(figsize=(16, 10))\n",
    "sns.scatterplot(\n",
    "    data=nc_state,\n",
    "    x=\"propensity\",\n",
    "    y=\"flux intensity\",\n",
    "    hue=\"Type_agg\",\n",
    "    palette=palette,\n",
    "    alpha=0.9,\n",
    "    s=100,\n",
    "    edgecolor='w'\n",
    ")\n",
    "plt.xlabel(\"Propensity\", fontsize=14, fontweight='bold')\n",
    "plt.ylabel(\"Flux intensity\", fontsize=14, fontweight='bold')\n",
    "plt.legend(loc='upper right', title='Type', fontsize='small')\n",
    "plt.tight_layout()\n",
    "plt.show()\n",
    "\n"
   ]
  },
  {
   "cell_type": "markdown",
   "id": "c87a8e0d",
   "metadata": {},
   "source": [
    "### Warburg"
   ]
  },
  {
   "cell_type": "code",
   "execution_count": 19,
   "id": "62339d63",
   "metadata": {},
   "outputs": [
    {
     "data": {
      "image/png": "[encoded data removed]",
      "text/plain": [
       "<Figure size 1000x500 with 2 Axes>"
      ]
     },
     "metadata": {},
     "output_type": "display_data"
    }
   ],
   "source": [
    "# Calcolo delle correlazioni\n",
    "corr_lac, pval_lac = pearsonr(nc_state[\"propensity\"], flux[\"EX_lac__L_e\"])\n",
    "corr_o2, pval_o2 = pearsonr(nc_state[\"propensity\"], -flux[\"EX_o2_e\"])\n",
    "\n",
    "# Setup del contesto e figura\n",
    "sns.set_context(\"paper\")\n",
    "fig, axes = plt.subplots(1, 2, figsize=(10, 5))  # 1x2 layout\n",
    "\n",
    "sns.regplot(\n",
    "    x=nc_state[\"propensity\"],\n",
    "    y=flux[\"EX_lac__L_e\"],\n",
    "    ci=None,\n",
    "    scatter_kws={'s': 10},\n",
    "    line_kws={'color': 'black'},\n",
    "    ax=axes[0]\n",
    ")\n",
    "axes[0].set_xlabel('Cycle Propensity', fontsize=12, fontweight='bold')\n",
    "axes[0].set_ylabel('Lactate Export', fontsize=12, fontweight='bold')\n",
    "axes[0].text(0.2, 0.95, f\"$\\\\rho$ = {corr_lac:.2f}, p = {pval_lac:.1e}\",\n",
    "             transform=axes[0].transAxes, fontsize=10, verticalalignment='top')\n",
    "axes[0].text(-0.1, 1.05, \"(i)\", transform=axes[0].transAxes, fontsize=12, fontweight=\"bold\")\n",
    "\n",
    "\n",
    "sns.regplot(\n",
    "    x=nc_state[\"propensity\"],\n",
    "    y=-flux[\"EX_o2_e\"],\n",
    "    ci=None,\n",
    "    scatter_kws={'s': 10},\n",
    "    line_kws={'color': 'black'},\n",
    "    ax=axes[1]\n",
    ")\n",
    "axes[1].set_xlabel('Cycle Propensity', fontsize=12, fontweight='bold')\n",
    "axes[1].set_ylabel('Oxygen Consumption', fontsize=12, fontweight='bold')\n",
    "axes[1].text(0.6, 0.95, f\"$\\\\rho$ = {corr_o2:.2f}, p = {pval_o2:.1e}\",\n",
    "             transform=axes[1].transAxes, fontsize=10, verticalalignment='top')\n",
    "axes[1].text(-0.1, 1.05, \"(ii)\", transform=axes[1].transAxes, fontsize=12, fontweight=\"bold\")\n",
    "\n",
    "plt.tight_layout()\n",
    "plt.show()\n"
   ]
  },
  {
   "cell_type": "markdown",
   "id": "4ed9e400",
   "metadata": {},
   "source": [
    "###"
   ]
  }
 ],
 "metadata": {
  "kernelspec": {
   "display_name": "data_env",
   "language": "python",
   "name": "python3"
  },
  "language_info": {
   "codemirror_mode": {
    "name": "ipython",
    "version": 3
   },
   "file_extension": ".py",
   "mimetype": "text/x-python",
   "name": "python",
   "nbconvert_exporter": "python",
   "pygments_lexer": "ipython3",
   "version": "3.12.3"
  }
 },
 "nbformat": 4,
 "nbformat_minor": 5
}
